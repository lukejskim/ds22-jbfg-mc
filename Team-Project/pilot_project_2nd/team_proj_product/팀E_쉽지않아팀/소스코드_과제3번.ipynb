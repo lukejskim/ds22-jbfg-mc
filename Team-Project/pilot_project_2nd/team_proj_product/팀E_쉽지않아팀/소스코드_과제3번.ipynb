{
 "cells": [
  {
   "cell_type": "code",
   "execution_count": 1,
   "id": "35572ba4",
   "metadata": {},
   "outputs": [],
   "source": [
    "import platform\n",
    "\n",
    "import numpy as np\n",
    "import pandas as pd\n",
    "import matplotlib.pyplot as plt\n",
    "import seaborn as sns\n",
    "sns.set()\n",
    "\n",
    "from matplotlib import font_manager, rc\n",
    "if platform.system() == 'Darwin':\n",
    "    rc('font', family='AppleGothic')\n",
    "elif platform.system() == 'Windows':\n",
    "    font_name = font_manager.FontProperties(fname=\"C:/Windows/Fonts/malgun.ttf\").get_name()\n",
    "    rc('font', family=font_name)\n",
    "else:\n",
    "    print(\"It's unknown system. Hangul fonts are not supported!\")\n",
    "    \n",
    "# plt.rcParams['axes.unicode_minus'] = False\n",
    "plt.rcParams[\"figure.figsize\"] = [12,6]\n",
    "\n",
    "%matplotlib inline\n"
   ]
  },
  {
   "cell_type": "code",
   "execution_count": 2,
   "id": "004af866",
   "metadata": {},
   "outputs": [
    {
     "data": {
      "text/html": [
       "<div>\n",
       "<style scoped>\n",
       "    .dataframe tbody tr th:only-of-type {\n",
       "        vertical-align: middle;\n",
       "    }\n",
       "\n",
       "    .dataframe tbody tr th {\n",
       "        vertical-align: top;\n",
       "    }\n",
       "\n",
       "    .dataframe thead th {\n",
       "        text-align: right;\n",
       "    }\n",
       "</style>\n",
       "<table border=\"1\" class=\"dataframe\">\n",
       "  <thead>\n",
       "    <tr style=\"text-align: right;\">\n",
       "      <th></th>\n",
       "      <th>Cstno</th>\n",
       "      <th>Age</th>\n",
       "      <th>Sex</th>\n",
       "      <th>Income</th>\n",
       "      <th>USE_Month</th>\n",
       "      <th>Credit_Limit</th>\n",
       "      <th>Total_Trans_Amt</th>\n",
       "      <th>Total_Trans_Ct</th>\n",
       "    </tr>\n",
       "  </thead>\n",
       "  <tbody>\n",
       "    <tr>\n",
       "      <th>10117</th>\n",
       "      <td>712503408</td>\n",
       "      <td>57</td>\n",
       "      <td>M</td>\n",
       "      <td>6~8천만원미만</td>\n",
       "      <td>40</td>\n",
       "      <td>17925000</td>\n",
       "      <td>17498000</td>\n",
       "      <td>111</td>\n",
       "    </tr>\n",
       "    <tr>\n",
       "      <th>10118</th>\n",
       "      <td>713755458</td>\n",
       "      <td>50</td>\n",
       "      <td>M</td>\n",
       "      <td>6~8천만원미만</td>\n",
       "      <td>36</td>\n",
       "      <td>9959000</td>\n",
       "      <td>10310000</td>\n",
       "      <td>63</td>\n",
       "    </tr>\n",
       "    <tr>\n",
       "      <th>10119</th>\n",
       "      <td>716893683</td>\n",
       "      <td>55</td>\n",
       "      <td>F</td>\n",
       "      <td>Unknown</td>\n",
       "      <td>47</td>\n",
       "      <td>14657000</td>\n",
       "      <td>6009000</td>\n",
       "      <td>53</td>\n",
       "    </tr>\n",
       "    <tr>\n",
       "      <th>10120</th>\n",
       "      <td>710841183</td>\n",
       "      <td>54</td>\n",
       "      <td>M</td>\n",
       "      <td>4~6천만원미만</td>\n",
       "      <td>34</td>\n",
       "      <td>13940000</td>\n",
       "      <td>15577000</td>\n",
       "      <td>114</td>\n",
       "    </tr>\n",
       "    <tr>\n",
       "      <th>10121</th>\n",
       "      <td>713899383</td>\n",
       "      <td>56</td>\n",
       "      <td>F</td>\n",
       "      <td>2천만원미만</td>\n",
       "      <td>50</td>\n",
       "      <td>3688000</td>\n",
       "      <td>14596000</td>\n",
       "      <td>120</td>\n",
       "    </tr>\n",
       "    <tr>\n",
       "      <th>10122</th>\n",
       "      <td>772366833</td>\n",
       "      <td>50</td>\n",
       "      <td>M</td>\n",
       "      <td>2~4천만원미만</td>\n",
       "      <td>40</td>\n",
       "      <td>4003000</td>\n",
       "      <td>15476000</td>\n",
       "      <td>117</td>\n",
       "    </tr>\n",
       "    <tr>\n",
       "      <th>10123</th>\n",
       "      <td>710638233</td>\n",
       "      <td>41</td>\n",
       "      <td>M</td>\n",
       "      <td>2~4천만원미만</td>\n",
       "      <td>25</td>\n",
       "      <td>4277000</td>\n",
       "      <td>8764000</td>\n",
       "      <td>69</td>\n",
       "    </tr>\n",
       "    <tr>\n",
       "      <th>10124</th>\n",
       "      <td>716506083</td>\n",
       "      <td>44</td>\n",
       "      <td>F</td>\n",
       "      <td>2천만원미만</td>\n",
       "      <td>36</td>\n",
       "      <td>5409000</td>\n",
       "      <td>10291000</td>\n",
       "      <td>60</td>\n",
       "    </tr>\n",
       "    <tr>\n",
       "      <th>10125</th>\n",
       "      <td>717406983</td>\n",
       "      <td>30</td>\n",
       "      <td>M</td>\n",
       "      <td>2~4천만원미만</td>\n",
       "      <td>36</td>\n",
       "      <td>5281000</td>\n",
       "      <td>8395000</td>\n",
       "      <td>62</td>\n",
       "    </tr>\n",
       "    <tr>\n",
       "      <th>10126</th>\n",
       "      <td>714337233</td>\n",
       "      <td>43</td>\n",
       "      <td>F</td>\n",
       "      <td>2천만원미만</td>\n",
       "      <td>25</td>\n",
       "      <td>10388000</td>\n",
       "      <td>10294000</td>\n",
       "      <td>61</td>\n",
       "    </tr>\n",
       "  </tbody>\n",
       "</table>\n",
       "</div>"
      ],
      "text/plain": [
       "           Cstno  Age Sex    Income  USE_Month  Credit_Limit  Total_Trans_Amt  \\\n",
       "10117  712503408   57   M  6~8천만원미만         40      17925000         17498000   \n",
       "10118  713755458   50   M  6~8천만원미만         36       9959000         10310000   \n",
       "10119  716893683   55   F   Unknown         47      14657000          6009000   \n",
       "10120  710841183   54   M  4~6천만원미만         34      13940000         15577000   \n",
       "10121  713899383   56   F    2천만원미만         50       3688000         14596000   \n",
       "10122  772366833   50   M  2~4천만원미만         40       4003000         15476000   \n",
       "10123  710638233   41   M  2~4천만원미만         25       4277000          8764000   \n",
       "10124  716506083   44   F    2천만원미만         36       5409000         10291000   \n",
       "10125  717406983   30   M  2~4천만원미만         36       5281000          8395000   \n",
       "10126  714337233   43   F    2천만원미만         25      10388000         10294000   \n",
       "\n",
       "       Total_Trans_Ct  \n",
       "10117             111  \n",
       "10118              63  \n",
       "10119              53  \n",
       "10120             114  \n",
       "10121             120  \n",
       "10122             117  \n",
       "10123              69  \n",
       "10124              60  \n",
       "10125              62  \n",
       "10126              61  "
      ]
     },
     "execution_count": 2,
     "metadata": {},
     "output_type": "execute_result"
    }
   ],
   "source": [
    "df = pd.read_csv('data/데이터.csv', encoding='euc-kr')\n",
    "df.tail(10)"
   ]
  },
  {
   "cell_type": "code",
   "execution_count": 3,
   "id": "8feea305",
   "metadata": {},
   "outputs": [
    {
     "data": {
      "text/html": [
       "<div>\n",
       "<style scoped>\n",
       "    .dataframe tbody tr th:only-of-type {\n",
       "        vertical-align: middle;\n",
       "    }\n",
       "\n",
       "    .dataframe tbody tr th {\n",
       "        vertical-align: top;\n",
       "    }\n",
       "\n",
       "    .dataframe thead th {\n",
       "        text-align: right;\n",
       "    }\n",
       "</style>\n",
       "<table border=\"1\" class=\"dataframe\">\n",
       "  <thead>\n",
       "    <tr style=\"text-align: right;\">\n",
       "      <th></th>\n",
       "      <th>Income</th>\n",
       "      <th>Credit_Limit</th>\n",
       "    </tr>\n",
       "  </thead>\n",
       "  <tbody>\n",
       "    <tr>\n",
       "      <th>0</th>\n",
       "      <td>4~6천만원미만</td>\n",
       "      <td>12691000</td>\n",
       "    </tr>\n",
       "    <tr>\n",
       "      <th>1</th>\n",
       "      <td>2천만원미만</td>\n",
       "      <td>8256000</td>\n",
       "    </tr>\n",
       "    <tr>\n",
       "      <th>2</th>\n",
       "      <td>6~8천만원미만</td>\n",
       "      <td>3418000</td>\n",
       "    </tr>\n",
       "    <tr>\n",
       "      <th>3</th>\n",
       "      <td>2천만원미만</td>\n",
       "      <td>3313000</td>\n",
       "    </tr>\n",
       "    <tr>\n",
       "      <th>4</th>\n",
       "      <td>4~6천만원미만</td>\n",
       "      <td>4716000</td>\n",
       "    </tr>\n",
       "    <tr>\n",
       "      <th>...</th>\n",
       "      <td>...</td>\n",
       "      <td>...</td>\n",
       "    </tr>\n",
       "    <tr>\n",
       "      <th>10122</th>\n",
       "      <td>2~4천만원미만</td>\n",
       "      <td>4003000</td>\n",
       "    </tr>\n",
       "    <tr>\n",
       "      <th>10123</th>\n",
       "      <td>2~4천만원미만</td>\n",
       "      <td>4277000</td>\n",
       "    </tr>\n",
       "    <tr>\n",
       "      <th>10124</th>\n",
       "      <td>2천만원미만</td>\n",
       "      <td>5409000</td>\n",
       "    </tr>\n",
       "    <tr>\n",
       "      <th>10125</th>\n",
       "      <td>2~4천만원미만</td>\n",
       "      <td>5281000</td>\n",
       "    </tr>\n",
       "    <tr>\n",
       "      <th>10126</th>\n",
       "      <td>2천만원미만</td>\n",
       "      <td>10388000</td>\n",
       "    </tr>\n",
       "  </tbody>\n",
       "</table>\n",
       "<p>10127 rows × 2 columns</p>\n",
       "</div>"
      ],
      "text/plain": [
       "         Income  Credit_Limit\n",
       "0      4~6천만원미만      12691000\n",
       "1        2천만원미만       8256000\n",
       "2      6~8천만원미만       3418000\n",
       "3        2천만원미만       3313000\n",
       "4      4~6천만원미만       4716000\n",
       "...         ...           ...\n",
       "10122  2~4천만원미만       4003000\n",
       "10123  2~4천만원미만       4277000\n",
       "10124    2천만원미만       5409000\n",
       "10125  2~4천만원미만       5281000\n",
       "10126    2천만원미만      10388000\n",
       "\n",
       "[10127 rows x 2 columns]"
      ]
     },
     "execution_count": 3,
     "metadata": {},
     "output_type": "execute_result"
    }
   ],
   "source": [
    "inform1_df = df[['Income', 'Credit_Limit']]\n",
    "inform1_df"
   ]
  },
  {
   "cell_type": "code",
   "execution_count": 4,
   "id": "fd7ccabc",
   "metadata": {},
   "outputs": [
    {
     "data": {
      "text/plain": [
       "34516000"
      ]
     },
     "execution_count": 4,
     "metadata": {},
     "output_type": "execute_result"
    }
   ],
   "source": [
    "max(inform1_df['Credit_Limit'])"
   ]
  },
  {
   "cell_type": "code",
   "execution_count": 5,
   "id": "000a3302",
   "metadata": {},
   "outputs": [
    {
     "name": "stderr",
     "output_type": "stream",
     "text": [
      "C:\\Users\\Public\\Documents\\ESTsoft\\CreatorTemp\\ipykernel_16592\\3441868858.py:1: SettingWithCopyWarning: \n",
      "A value is trying to be set on a copy of a slice from a DataFrame.\n",
      "Try using .loc[row_indexer,col_indexer] = value instead\n",
      "\n",
      "See the caveats in the documentation: https://pandas.pydata.org/pandas-docs/stable/user_guide/indexing.html#returning-a-view-versus-a-copy\n",
      "  inform1_df['Limit_Range'] = ' '\n"
     ]
    },
    {
     "data": {
      "text/html": [
       "<div>\n",
       "<style scoped>\n",
       "    .dataframe tbody tr th:only-of-type {\n",
       "        vertical-align: middle;\n",
       "    }\n",
       "\n",
       "    .dataframe tbody tr th {\n",
       "        vertical-align: top;\n",
       "    }\n",
       "\n",
       "    .dataframe thead th {\n",
       "        text-align: right;\n",
       "    }\n",
       "</style>\n",
       "<table border=\"1\" class=\"dataframe\">\n",
       "  <thead>\n",
       "    <tr style=\"text-align: right;\">\n",
       "      <th></th>\n",
       "      <th>Income</th>\n",
       "      <th>Credit_Limit</th>\n",
       "      <th>Limit_Range</th>\n",
       "    </tr>\n",
       "  </thead>\n",
       "  <tbody>\n",
       "    <tr>\n",
       "      <th>0</th>\n",
       "      <td>4~6천만원미만</td>\n",
       "      <td>12691000</td>\n",
       "      <td></td>\n",
       "    </tr>\n",
       "    <tr>\n",
       "      <th>1</th>\n",
       "      <td>2천만원미만</td>\n",
       "      <td>8256000</td>\n",
       "      <td></td>\n",
       "    </tr>\n",
       "    <tr>\n",
       "      <th>2</th>\n",
       "      <td>6~8천만원미만</td>\n",
       "      <td>3418000</td>\n",
       "      <td></td>\n",
       "    </tr>\n",
       "    <tr>\n",
       "      <th>3</th>\n",
       "      <td>2천만원미만</td>\n",
       "      <td>3313000</td>\n",
       "      <td></td>\n",
       "    </tr>\n",
       "    <tr>\n",
       "      <th>4</th>\n",
       "      <td>4~6천만원미만</td>\n",
       "      <td>4716000</td>\n",
       "      <td></td>\n",
       "    </tr>\n",
       "    <tr>\n",
       "      <th>...</th>\n",
       "      <td>...</td>\n",
       "      <td>...</td>\n",
       "      <td>...</td>\n",
       "    </tr>\n",
       "    <tr>\n",
       "      <th>10122</th>\n",
       "      <td>2~4천만원미만</td>\n",
       "      <td>4003000</td>\n",
       "      <td></td>\n",
       "    </tr>\n",
       "    <tr>\n",
       "      <th>10123</th>\n",
       "      <td>2~4천만원미만</td>\n",
       "      <td>4277000</td>\n",
       "      <td></td>\n",
       "    </tr>\n",
       "    <tr>\n",
       "      <th>10124</th>\n",
       "      <td>2천만원미만</td>\n",
       "      <td>5409000</td>\n",
       "      <td></td>\n",
       "    </tr>\n",
       "    <tr>\n",
       "      <th>10125</th>\n",
       "      <td>2~4천만원미만</td>\n",
       "      <td>5281000</td>\n",
       "      <td></td>\n",
       "    </tr>\n",
       "    <tr>\n",
       "      <th>10126</th>\n",
       "      <td>2천만원미만</td>\n",
       "      <td>10388000</td>\n",
       "      <td></td>\n",
       "    </tr>\n",
       "  </tbody>\n",
       "</table>\n",
       "<p>10127 rows × 3 columns</p>\n",
       "</div>"
      ],
      "text/plain": [
       "         Income  Credit_Limit Limit_Range\n",
       "0      4~6천만원미만      12691000            \n",
       "1        2천만원미만       8256000            \n",
       "2      6~8천만원미만       3418000            \n",
       "3        2천만원미만       3313000            \n",
       "4      4~6천만원미만       4716000            \n",
       "...         ...           ...         ...\n",
       "10122  2~4천만원미만       4003000            \n",
       "10123  2~4천만원미만       4277000            \n",
       "10124    2천만원미만       5409000            \n",
       "10125  2~4천만원미만       5281000            \n",
       "10126    2천만원미만      10388000            \n",
       "\n",
       "[10127 rows x 3 columns]"
      ]
     },
     "execution_count": 5,
     "metadata": {},
     "output_type": "execute_result"
    }
   ],
   "source": [
    "inform1_df['Limit_Range'] = ' '\n",
    "# inform1_df['Use_Amt'] = ' '\n",
    "inform1_df"
   ]
  },
  {
   "cell_type": "code",
   "execution_count": 109,
   "id": "3d4e9491",
   "metadata": {},
   "outputs": [],
   "source": [
    "for i in np.arange(len(df)):\n",
    "    if inform1_df['Credit_Limit'].values[i] < 2500000:\n",
    "        inform1_df['Limit_Range'].values[i] = '250만원미만' \n",
    "    elif inform1_df['Credit_Limit'].values[i] < 5000000:\n",
    "        inform1_df['Limit_Range'].values[i] = '500만원미만'\n",
    "    elif inform1_df['Credit_Limit'].values[i] < 8000000:\n",
    "        inform1_df['Limit_Range'].values[i] = '800만원미만'\n",
    "    elif inform1_df['Credit_Limit'].values[i] < 12000000:\n",
    "        inform1_df['Limit_Range'].values[i] = '1천2백만원미만'\n",
    "    elif inform1_df['Credit_Limit'].values[i] < 19000000:\n",
    "        inform1_df['Limit_Range'].values[i] = '1천9백만원미만'\n",
    "    elif inform1_df['Credit_Limit'].values[i] < 28000000:\n",
    "        inform1_df['Limit_Range'].values[i] = '2천8백만원미만'\n",
    "    else: inform1_df['Limit_Range'].values[i] = '2천8백만원이상'\n",
    "        "
   ]
  },
  {
   "cell_type": "code",
   "execution_count": 110,
   "id": "f869117f",
   "metadata": {},
   "outputs": [
    {
     "data": {
      "text/html": [
       "<div>\n",
       "<style scoped>\n",
       "    .dataframe tbody tr th:only-of-type {\n",
       "        vertical-align: middle;\n",
       "    }\n",
       "\n",
       "    .dataframe tbody tr th {\n",
       "        vertical-align: top;\n",
       "    }\n",
       "\n",
       "    .dataframe thead th {\n",
       "        text-align: right;\n",
       "    }\n",
       "</style>\n",
       "<table border=\"1\" class=\"dataframe\">\n",
       "  <thead>\n",
       "    <tr style=\"text-align: right;\">\n",
       "      <th></th>\n",
       "      <th>Income</th>\n",
       "      <th>Credit_Limit</th>\n",
       "      <th>Limit_Range</th>\n",
       "    </tr>\n",
       "  </thead>\n",
       "  <tbody>\n",
       "    <tr>\n",
       "      <th>0</th>\n",
       "      <td>4~6천만원미만</td>\n",
       "      <td>12691000</td>\n",
       "      <td>1천9백만원미만</td>\n",
       "    </tr>\n",
       "    <tr>\n",
       "      <th>1</th>\n",
       "      <td>2천만원미만</td>\n",
       "      <td>8256000</td>\n",
       "      <td>1천2백만원미만</td>\n",
       "    </tr>\n",
       "    <tr>\n",
       "      <th>2</th>\n",
       "      <td>6~8천만원미만</td>\n",
       "      <td>3418000</td>\n",
       "      <td>500만원미만</td>\n",
       "    </tr>\n",
       "    <tr>\n",
       "      <th>3</th>\n",
       "      <td>2천만원미만</td>\n",
       "      <td>3313000</td>\n",
       "      <td>500만원미만</td>\n",
       "    </tr>\n",
       "    <tr>\n",
       "      <th>4</th>\n",
       "      <td>4~6천만원미만</td>\n",
       "      <td>4716000</td>\n",
       "      <td>500만원미만</td>\n",
       "    </tr>\n",
       "    <tr>\n",
       "      <th>...</th>\n",
       "      <td>...</td>\n",
       "      <td>...</td>\n",
       "      <td>...</td>\n",
       "    </tr>\n",
       "    <tr>\n",
       "      <th>10122</th>\n",
       "      <td>2~4천만원미만</td>\n",
       "      <td>4003000</td>\n",
       "      <td>500만원미만</td>\n",
       "    </tr>\n",
       "    <tr>\n",
       "      <th>10123</th>\n",
       "      <td>2~4천만원미만</td>\n",
       "      <td>4277000</td>\n",
       "      <td>500만원미만</td>\n",
       "    </tr>\n",
       "    <tr>\n",
       "      <th>10124</th>\n",
       "      <td>2천만원미만</td>\n",
       "      <td>5409000</td>\n",
       "      <td>800만원미만</td>\n",
       "    </tr>\n",
       "    <tr>\n",
       "      <th>10125</th>\n",
       "      <td>2~4천만원미만</td>\n",
       "      <td>5281000</td>\n",
       "      <td>800만원미만</td>\n",
       "    </tr>\n",
       "    <tr>\n",
       "      <th>10126</th>\n",
       "      <td>2천만원미만</td>\n",
       "      <td>10388000</td>\n",
       "      <td>1천2백만원미만</td>\n",
       "    </tr>\n",
       "  </tbody>\n",
       "</table>\n",
       "<p>10127 rows × 3 columns</p>\n",
       "</div>"
      ],
      "text/plain": [
       "         Income  Credit_Limit Limit_Range\n",
       "0      4~6천만원미만      12691000    1천9백만원미만\n",
       "1        2천만원미만       8256000    1천2백만원미만\n",
       "2      6~8천만원미만       3418000     500만원미만\n",
       "3        2천만원미만       3313000     500만원미만\n",
       "4      4~6천만원미만       4716000     500만원미만\n",
       "...         ...           ...         ...\n",
       "10122  2~4천만원미만       4003000     500만원미만\n",
       "10123  2~4천만원미만       4277000     500만원미만\n",
       "10124    2천만원미만       5409000     800만원미만\n",
       "10125  2~4천만원미만       5281000     800만원미만\n",
       "10126    2천만원미만      10388000    1천2백만원미만\n",
       "\n",
       "[10127 rows x 3 columns]"
      ]
     },
     "execution_count": 110,
     "metadata": {},
     "output_type": "execute_result"
    }
   ],
   "source": [
    "inform1_df"
   ]
  },
  {
   "cell_type": "code",
   "execution_count": 113,
   "id": "864abb21",
   "metadata": {},
   "outputs": [],
   "source": [
    "from functools import *"
   ]
  },
  {
   "cell_type": "code",
   "execution_count": 114,
   "id": "b69510a4",
   "metadata": {},
   "outputs": [],
   "source": [
    "def count_columns(result_dic, element) :\n",
    "    if result_dic.get(element) :\n",
    "        result_dic[element] += 1\n",
    "    else:\n",
    "        result_dic[element] = 1\n",
    "\n",
    "    return result_dic\n",
    "\n",
    "def get_group_count(df_column) :\n",
    "    return reduce(count_columns, df_column, dict())"
   ]
  },
  {
   "cell_type": "code",
   "execution_count": 115,
   "id": "d615f89b",
   "metadata": {},
   "outputs": [
    {
     "data": {
      "text/plain": [
       "{'1천9백만원미만': 963,\n",
       " '1천2백만원미만': 1087,\n",
       " '500만원미만': 2939,\n",
       " '2천8백만원이상': 749,\n",
       " '2천8백만원미만': 609,\n",
       " '800만원미만': 1361,\n",
       " '250만원미만': 2419}"
      ]
     },
     "execution_count": 115,
     "metadata": {},
     "output_type": "execute_result"
    }
   ],
   "source": [
    "result = get_group_count(inform1_df['Limit_Range'])\n",
    "result"
   ]
  },
  {
   "cell_type": "code",
   "execution_count": 116,
   "id": "0faf5be0",
   "metadata": {},
   "outputs": [
    {
     "data": {
      "text/plain": [
       "{'4~6천만원미만': 1402,\n",
       " '2천만원미만': 3561,\n",
       " '6~8천만원미만': 1535,\n",
       " '2~4천만원미만': 1790,\n",
       " '8천만원이상': 727,\n",
       " 'Unknown': 1112}"
      ]
     },
     "execution_count": 116,
     "metadata": {},
     "output_type": "execute_result"
    }
   ],
   "source": [
    "result = get_group_count(inform1_df['Income'])\n",
    "result"
   ]
  },
  {
   "cell_type": "code",
   "execution_count": 117,
   "id": "347a7aba",
   "metadata": {},
   "outputs": [
    {
     "data": {
      "text/plain": [
       "[('1천9백만원미만',\n",
       "  0        4~6천만원미만\n",
       "  1          2천만원미만\n",
       "  2        6~8천만원미만\n",
       "  3          2천만원미만\n",
       "  4        4~6천만원미만\n",
       "             ...   \n",
       "  10122    2~4천만원미만\n",
       "  10123    2~4천만원미만\n",
       "  10124      2천만원미만\n",
       "  10125    2~4천만원미만\n",
       "  10126      2천만원미만\n",
       "  Name: Income, Length: 10127, dtype: object)]"
      ]
     },
     "execution_count": 117,
     "metadata": {},
     "output_type": "execute_result"
    }
   ],
   "source": [
    "idx = 0\n",
    "inform1_df_columns = []\n",
    "\n",
    "element = inform1_df['Limit_Range'][idx], inform1_df['Income']\n",
    "\n",
    "inform1_df_columns.append(element)\n",
    "inform1_df_columns"
   ]
  },
  {
   "cell_type": "code",
   "execution_count": 118,
   "id": "5bec422d",
   "metadata": {},
   "outputs": [
    {
     "data": {
      "text/plain": [
       "10127"
      ]
     },
     "execution_count": 118,
     "metadata": {},
     "output_type": "execute_result"
    }
   ],
   "source": [
    "inform1_df_columns = []\n",
    "\n",
    "for idx in range(len(df)):\n",
    "    element = inform1_df['Limit_Range'][idx], inform1_df['Income'][idx]\n",
    "    inform1_df_columns.append(element)\n",
    "    \n",
    "len(inform1_df_columns)"
   ]
  },
  {
   "cell_type": "code",
   "execution_count": 119,
   "id": "a79d4335",
   "metadata": {},
   "outputs": [
    {
     "data": {
      "text/plain": [
       "[('1천9백만원미만', '4~6천만원미만'),\n",
       " ('1천2백만원미만', '2천만원미만'),\n",
       " ('500만원미만', '6~8천만원미만'),\n",
       " ('500만원미만', '2천만원미만'),\n",
       " ('500만원미만', '4~6천만원미만'),\n",
       " ('500만원미만', '2~4천만원미만'),\n",
       " ('2천8백만원이상', '8천만원이상'),\n",
       " ('2천8백만원이상', '4~6천만원미만'),\n",
       " ('2천8백만원미만', '4~6천만원미만'),\n",
       " ('1천2백만원미만', '6~8천만원미만')]"
      ]
     },
     "execution_count": 119,
     "metadata": {},
     "output_type": "execute_result"
    }
   ],
   "source": [
    "inform1_df_columns[:10]"
   ]
  },
  {
   "cell_type": "code",
   "execution_count": 120,
   "id": "339fd5cf",
   "metadata": {},
   "outputs": [],
   "source": [
    "def get_group_count(inform1_df_columns) :\n",
    "    \n",
    "    print('len(inform1_df_columns) :', len(inform1_df_columns))\n",
    "    \n",
    "    def count_columns(result_dic, element_tuple) :\n",
    "        element1, element2 = element_tuple\n",
    "        # print(element1, ':', element2)\n",
    "\n",
    "        if not (result_dic.get(element1)) :\n",
    "            result_dic[element1] = {}\n",
    "              \n",
    "        if result_dic[element1].get(element2) :\n",
    "            result_dic[element1][element2] += 1\n",
    "        else :\n",
    "            result_dic[element1][element2] = 1\n",
    "\n",
    "        return result_dic\n",
    "    \n",
    "    result = reduce(count_columns, inform1_df_columns, dict())\n",
    "    return result"
   ]
  },
  {
   "cell_type": "code",
   "execution_count": 121,
   "id": "c7c5afbb",
   "metadata": {},
   "outputs": [
    {
     "name": "stdout",
     "output_type": "stream",
     "text": [
      "len(inform1_df_columns) : 10127\n"
     ]
    }
   ],
   "source": [
    "result = get_group_count(inform1_df_columns)"
   ]
  },
  {
   "cell_type": "code",
   "execution_count": 122,
   "id": "5f3413c6",
   "metadata": {},
   "outputs": [
    {
     "data": {
      "text/plain": [
       "{'1천9백만원미만': {'4~6천만원미만': 223,\n",
       "  '6~8천만원미만': 252,\n",
       "  'Unknown': 141,\n",
       "  '2~4천만원미만': 140,\n",
       "  '2천만원미만': 101,\n",
       "  '8천만원이상': 106},\n",
       " '1천2백만원미만': {'2천만원미만': 216,\n",
       "  '6~8천만원미만': 226,\n",
       "  '2~4천만원미만': 184,\n",
       "  '4~6천만원미만': 201,\n",
       "  'Unknown': 174,\n",
       "  '8천만원이상': 86},\n",
       " '500만원미만': {'6~8천만원미만': 239,\n",
       "  '2천만원미만': 1378,\n",
       "  '4~6천만원미만': 297,\n",
       "  '2~4천만원미만': 656,\n",
       "  'Unknown': 283,\n",
       "  '8천만원이상': 86},\n",
       " '2천8백만원이상': {'8천만원이상': 250, '4~6천만원미만': 97, '6~8천만원미만': 329, 'Unknown': 73},\n",
       " '2천8백만원미만': {'4~6천만원미만': 158,\n",
       "  '6~8천만원미만': 225,\n",
       "  '8천만원이상': 110,\n",
       "  'Unknown': 78,\n",
       "  '2~4천만원미만': 38},\n",
       " '800만원미만': {'8천만원이상': 69,\n",
       "  '2천만원미만': 413,\n",
       "  'Unknown': 187,\n",
       "  '2~4천만원미만': 291,\n",
       "  '4~6천만원미만': 247,\n",
       "  '6~8천만원미만': 154},\n",
       " '250만원미만': {'2천만원미만': 1453,\n",
       "  '4~6천만원미만': 179,\n",
       "  '2~4천만원미만': 481,\n",
       "  '6~8천만원미만': 110,\n",
       "  'Unknown': 176,\n",
       "  '8천만원이상': 20}}"
      ]
     },
     "execution_count": 122,
     "metadata": {},
     "output_type": "execute_result"
    }
   ],
   "source": [
    "result"
   ]
  },
  {
   "cell_type": "code",
   "execution_count": 123,
   "id": "151549d0",
   "metadata": {},
   "outputs": [
    {
     "data": {
      "text/plain": [
       "{'2천만원미만': 1453,\n",
       " '4~6천만원미만': 179,\n",
       " '2~4천만원미만': 481,\n",
       " '6~8천만원미만': 110,\n",
       " 'Unknown': 176,\n",
       " '8천만원이상': 20}"
      ]
     },
     "execution_count": 123,
     "metadata": {},
     "output_type": "execute_result"
    }
   ],
   "source": [
    "dict_element = result['250만원미만']\n",
    "dict_element"
   ]
  },
  {
   "cell_type": "code",
   "execution_count": 124,
   "id": "30393248",
   "metadata": {},
   "outputs": [
    {
     "data": {
      "text/plain": [
       "[1453, 179, 481, 110, 176, 20]"
      ]
     },
     "execution_count": 124,
     "metadata": {},
     "output_type": "execute_result"
    }
   ],
   "source": [
    "dict_values = [dict_element[key] for key in dict_element.keys()]\n",
    "dict_values"
   ]
  },
  {
   "cell_type": "code",
   "execution_count": 125,
   "id": "89d332b0",
   "metadata": {},
   "outputs": [
    {
     "data": {
      "text/plain": [
       "2419"
      ]
     },
     "execution_count": 125,
     "metadata": {},
     "output_type": "execute_result"
    }
   ],
   "source": [
    "sum(dict_values)"
   ]
  },
  {
   "cell_type": "code",
   "execution_count": 130,
   "id": "a7c28d65",
   "metadata": {},
   "outputs": [
    {
     "data": {
      "text/plain": [
       "{'6~8천만원미만': 239,\n",
       " '2천만원미만': 1378,\n",
       " '4~6천만원미만': 297,\n",
       " '2~4천만원미만': 656,\n",
       " 'Unknown': 283,\n",
       " '8천만원이상': 86}"
      ]
     },
     "execution_count": 130,
     "metadata": {},
     "output_type": "execute_result"
    }
   ],
   "source": [
    "dict_element2 = result['500만원미만']\n",
    "dict_element2"
   ]
  },
  {
   "cell_type": "code",
   "execution_count": 131,
   "id": "dac139d3",
   "metadata": {},
   "outputs": [
    {
     "data": {
      "text/plain": [
       "{'8천만원이상': 69,\n",
       " '2천만원미만': 413,\n",
       " 'Unknown': 187,\n",
       " '2~4천만원미만': 291,\n",
       " '4~6천만원미만': 247,\n",
       " '6~8천만원미만': 154}"
      ]
     },
     "execution_count": 131,
     "metadata": {},
     "output_type": "execute_result"
    }
   ],
   "source": [
    "dict_element3 = result['800만원미만']\n",
    "dict_element3"
   ]
  },
  {
   "cell_type": "code",
   "execution_count": 132,
   "id": "6b1d2649",
   "metadata": {},
   "outputs": [
    {
     "data": {
      "text/plain": [
       "{'2천만원미만': 216,\n",
       " '6~8천만원미만': 226,\n",
       " '2~4천만원미만': 184,\n",
       " '4~6천만원미만': 201,\n",
       " 'Unknown': 174,\n",
       " '8천만원이상': 86}"
      ]
     },
     "execution_count": 132,
     "metadata": {},
     "output_type": "execute_result"
    }
   ],
   "source": [
    "dict_element4 = result['1천2백만원미만']\n",
    "dict_element4"
   ]
  },
  {
   "cell_type": "code",
   "execution_count": 134,
   "id": "9c4df9fd",
   "metadata": {},
   "outputs": [
    {
     "data": {
      "text/plain": [
       "{'4~6천만원미만': 223,\n",
       " '6~8천만원미만': 252,\n",
       " 'Unknown': 141,\n",
       " '2~4천만원미만': 140,\n",
       " '2천만원미만': 101,\n",
       " '8천만원이상': 106}"
      ]
     },
     "execution_count": 134,
     "metadata": {},
     "output_type": "execute_result"
    }
   ],
   "source": [
    "dict_element5 = result['1천9백만원미만']\n",
    "dict_element5"
   ]
  },
  {
   "cell_type": "code",
   "execution_count": 141,
   "id": "464b7312",
   "metadata": {},
   "outputs": [
    {
     "data": {
      "text/plain": [
       "{'4~6천만원미만': 158,\n",
       " '6~8천만원미만': 225,\n",
       " '8천만원이상': 110,\n",
       " 'Unknown': 78,\n",
       " '2~4천만원미만': 38,\n",
       " '2천만원미만': 0}"
      ]
     },
     "execution_count": 141,
     "metadata": {},
     "output_type": "execute_result"
    }
   ],
   "source": [
    "dict_element6 = result['2천8백만원미만']\n",
    "dict_element6\n",
    "dict_element6['2천만원미만'] = 0\n",
    "dict_element6"
   ]
  },
  {
   "cell_type": "code",
   "execution_count": 144,
   "id": "12a335a0",
   "metadata": {},
   "outputs": [
    {
     "data": {
      "text/plain": [
       "{'8천만원이상': 250,\n",
       " '4~6천만원미만': 97,\n",
       " '6~8천만원미만': 329,\n",
       " 'Unknown': 73,\n",
       " '2천만원미만': 0,\n",
       " '2~4천만원미만': 0}"
      ]
     },
     "execution_count": 144,
     "metadata": {},
     "output_type": "execute_result"
    }
   ],
   "source": [
    "dict_element7 = result['2천8백만원이상']\n",
    "dict_element7\n",
    "dict_element7['2천만원미만'] = 0\n",
    "dict_element7['2~4천만원미만'] = 0\n",
    "dict_element7"
   ]
  },
  {
   "cell_type": "code",
   "execution_count": 145,
   "id": "061800f3",
   "metadata": {},
   "outputs": [
    {
     "data": {
      "text/plain": [
       "[1453, 179, 481, 110, 176, 20]"
      ]
     },
     "execution_count": 145,
     "metadata": {},
     "output_type": "execute_result"
    }
   ],
   "source": [
    "dict_values = [dict_element[key] for key in dict_element.keys()]\n",
    "dict_values"
   ]
  },
  {
   "cell_type": "code",
   "execution_count": 146,
   "id": "ecdd33cf",
   "metadata": {},
   "outputs": [
    {
     "data": {
      "text/plain": [
       "[239, 1378, 297, 656, 283, 86]"
      ]
     },
     "execution_count": 146,
     "metadata": {},
     "output_type": "execute_result"
    }
   ],
   "source": [
    "dict_values2 = [dict_element2[key] for key in dict_element2.keys()]\n",
    "dict_values2"
   ]
  },
  {
   "cell_type": "code",
   "execution_count": 147,
   "id": "3a44bfe4",
   "metadata": {},
   "outputs": [],
   "source": [
    "dict_values3 = [dict_element3[key] for key in dict_element2.keys()]\n",
    "dict_values4 = [dict_element4[key] for key in dict_element2.keys()]\n",
    "dict_values5 = [dict_element5[key] for key in dict_element2.keys()]\n",
    "\n",
    "dict_values6 = [dict_element6[key] for key in dict_element2.keys()]\n",
    "dict_values7 = [dict_element7[key] for key in dict_element2.keys()]"
   ]
  },
  {
   "cell_type": "code",
   "execution_count": 153,
   "id": "2baa680a",
   "metadata": {},
   "outputs": [],
   "source": [
    "count_A = []\n",
    "count_B = []\n",
    "count_C = []\n",
    "count_D = []\n",
    "count_E = []\n",
    "count_F = []\n",
    "count_G = []\n",
    "\n",
    "for i in range(6):\n",
    "#     idx = i+1\n",
    "    count_A.append(dict_values[i])\n",
    "    count_B.append(dict_values2[i])\n",
    "    count_C.append(dict_values3[i])\n",
    "    count_D.append(dict_values4[i])\n",
    "    count_E.append(dict_values5[i])\n",
    "    count_F.append(dict_values6[i])\n",
    "    count_G.append(dict_values7[i])"
   ]
  },
  {
   "cell_type": "code",
   "execution_count": 154,
   "id": "a0ae0098",
   "metadata": {},
   "outputs": [
    {
     "data": {
      "text/plain": [
       "([1453, 179, 481, 110, 176, 20],\n",
       " [239, 1378, 297, 656, 283, 86],\n",
       " [154, 413, 247, 291, 187, 69],\n",
       " [226, 216, 201, 184, 174, 86],\n",
       " [252, 101, 223, 140, 141, 106],\n",
       " [225, 0, 158, 38, 78, 110],\n",
       " [329, 0, 97, 0, 73, 250])"
      ]
     },
     "execution_count": 154,
     "metadata": {},
     "output_type": "execute_result"
    }
   ],
   "source": [
    "count_A, count_B, count_C, count_D, count_E, count_F, count_G"
   ]
  },
  {
   "cell_type": "code",
   "execution_count": 155,
   "id": "094cd1dd",
   "metadata": {},
   "outputs": [],
   "source": [
    "import matplotlib.pyplot as plt\n",
    "import pandas as pd\n",
    "from matplotlib import font_manager, rc\n",
    "font_name = font_manager.FontProperties(fname=\"C:/Windows/Fonts/MALGUN.TTF\").get_name()\n",
    "rc('font', family=font_name)\n",
    "\n",
    "plt.rcParams['figure.figsize'] = (10,6)"
   ]
  },
  {
   "cell_type": "code",
   "execution_count": 166,
   "id": "cf759ee3",
   "metadata": {},
   "outputs": [
    {
     "data": {
      "image/png": "[encoded data removed]",
      "text/plain": [
       "<Figure size 720x432 with 1 Axes>"
      ]
     },
     "metadata": {
      "needs_background": "light"
     },
     "output_type": "display_data"
    }
   ],
   "source": [
    "t1 = [18,26,42,10,2,34]\n",
    "t2 = [19,27,43,11,3,35]\n",
    "t3 = [20,28,44,12,4,36]\n",
    "t4 = [21,29,45,13,5,37]\n",
    "t5 = [22,30,46,14,6,38]\n",
    "t6 = [23,31,47,15,7,39]\n",
    "t7 = [24,32,48,16,8,40]\n",
    "\n",
    "\n",
    "plt.bar(t1, count_A, color='lightcoral', width=1, label='250만원미만')\n",
    "plt.bar(t2, count_B, color='m', width=1, label='500만원미만')\n",
    "plt.bar(t3, count_C, color='b', width=1, label='800만원미만')\n",
    "plt.bar(t4, count_D, color='c', width=1, label='1천2백만원미만')\n",
    "plt.bar(t5, count_E, color='y', width=1, label='1천8백만원미만')\n",
    "plt.bar(t6, count_F, color='g', width=1, label='2천5백만원미만')\n",
    "plt.bar(t7, count_G, color='orange', width=1, label='2천5백만원이상')\n",
    "\n",
    "\n",
    "plt.xlabel('한도금액')\n",
    "plt.ylabel('대상자 수')\n",
    "plt.legend(title='카드사용금액별')\n",
    "\n",
    "t = list(range(1,51)) \n",
    "plt.xticks(t , ('','','','','2천만원\\n미만','','','','','','','','2~4천만원\\n미만','','','','','','','','4~6천만원\\n미만','','','','','','','6~8천만원\\n미만','','','','','','','','','8천만원\\n이상','','','','','','','','Unknown','','','','',''))   # set the locations of the xticks\n",
    "\n",
    "plt.show()"
   ]
  },
  {
   "cell_type": "code",
   "execution_count": null,
   "id": "9f1ba12c",
   "metadata": {},
   "outputs": [],
   "source": []
  }
 ],
 "metadata": {
  "kernelspec": {
   "display_name": "Python 3 (ipykernel)",
   "language": "python",
   "name": "python3"
  },
  "language_info": {
   "codemirror_mode": {
    "name": "ipython",
    "version": 3
   },
   "file_extension": ".py",
   "mimetype": "text/x-python",
   "name": "python",
   "nbconvert_exporter": "python",
   "pygments_lexer": "ipython3",
   "version": "3.9.12"
  }
 },
 "nbformat": 4,
 "nbformat_minor": 5
}
