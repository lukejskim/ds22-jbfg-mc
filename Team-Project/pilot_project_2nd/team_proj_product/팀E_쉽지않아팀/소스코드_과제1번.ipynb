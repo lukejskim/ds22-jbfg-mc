{
 "cells": [
  {
   "cell_type": "code",
   "execution_count": 117,
   "id": "825d50a9",
   "metadata": {},
   "outputs": [],
   "source": [
    "import platform\n",
    "\n",
    "import numpy as np\n",
    "import pandas as pd\n",
    "import matplotlib.pyplot as plt\n",
    "import seaborn as sns\n",
    "sns.set()\n",
    "\n",
    "from matplotlib import font_manager, rc\n",
    "if platform.system() == 'Darwin':\n",
    "    rc('font', family='AppleGothic')\n",
    "elif platform.system() == 'Windows':\n",
    "    font_name = font_manager.FontProperties(fname=\"C:/Windows/Fonts/malgun.ttf\").get_name()\n",
    "    rc('font', family=font_name)\n",
    "else:\n",
    "    print(\"It's unknown system. Hangul fonts are not supported!\")\n",
    "    \n",
    "# plt.rcParams['axes.unicode_minus'] = False\n",
    "plt.rcParams[\"figure.figsize\"] = [12,6]\n",
    "\n",
    "%matplotlib inline\n"
   ]
  },
  {
   "cell_type": "code",
   "execution_count": 118,
   "id": "90fe4021",
   "metadata": {},
   "outputs": [
    {
     "data": {
      "text/html": [
       "<div>\n",
       "<style scoped>\n",
       "    .dataframe tbody tr th:only-of-type {\n",
       "        vertical-align: middle;\n",
       "    }\n",
       "\n",
       "    .dataframe tbody tr th {\n",
       "        vertical-align: top;\n",
       "    }\n",
       "\n",
       "    .dataframe thead th {\n",
       "        text-align: right;\n",
       "    }\n",
       "</style>\n",
       "<table border=\"1\" class=\"dataframe\">\n",
       "  <thead>\n",
       "    <tr style=\"text-align: right;\">\n",
       "      <th></th>\n",
       "      <th>Cstno</th>\n",
       "      <th>Age</th>\n",
       "      <th>Sex</th>\n",
       "      <th>Income</th>\n",
       "      <th>USE_Month</th>\n",
       "      <th>Credit_Limit</th>\n",
       "      <th>Total_Trans_Amt</th>\n",
       "      <th>Total_Trans_Ct</th>\n",
       "    </tr>\n",
       "  </thead>\n",
       "  <tbody>\n",
       "    <tr>\n",
       "      <th>10117</th>\n",
       "      <td>712503408</td>\n",
       "      <td>57</td>\n",
       "      <td>M</td>\n",
       "      <td>6~8천만원미만</td>\n",
       "      <td>40</td>\n",
       "      <td>17925000</td>\n",
       "      <td>17498000</td>\n",
       "      <td>111</td>\n",
       "    </tr>\n",
       "    <tr>\n",
       "      <th>10118</th>\n",
       "      <td>713755458</td>\n",
       "      <td>50</td>\n",
       "      <td>M</td>\n",
       "      <td>6~8천만원미만</td>\n",
       "      <td>36</td>\n",
       "      <td>9959000</td>\n",
       "      <td>10310000</td>\n",
       "      <td>63</td>\n",
       "    </tr>\n",
       "    <tr>\n",
       "      <th>10119</th>\n",
       "      <td>716893683</td>\n",
       "      <td>55</td>\n",
       "      <td>F</td>\n",
       "      <td>Unknown</td>\n",
       "      <td>47</td>\n",
       "      <td>14657000</td>\n",
       "      <td>6009000</td>\n",
       "      <td>53</td>\n",
       "    </tr>\n",
       "    <tr>\n",
       "      <th>10120</th>\n",
       "      <td>710841183</td>\n",
       "      <td>54</td>\n",
       "      <td>M</td>\n",
       "      <td>4~6천만원미만</td>\n",
       "      <td>34</td>\n",
       "      <td>13940000</td>\n",
       "      <td>15577000</td>\n",
       "      <td>114</td>\n",
       "    </tr>\n",
       "    <tr>\n",
       "      <th>10121</th>\n",
       "      <td>713899383</td>\n",
       "      <td>56</td>\n",
       "      <td>F</td>\n",
       "      <td>2천만원미만</td>\n",
       "      <td>50</td>\n",
       "      <td>3688000</td>\n",
       "      <td>14596000</td>\n",
       "      <td>120</td>\n",
       "    </tr>\n",
       "    <tr>\n",
       "      <th>10122</th>\n",
       "      <td>772366833</td>\n",
       "      <td>50</td>\n",
       "      <td>M</td>\n",
       "      <td>2~4천만원미만</td>\n",
       "      <td>40</td>\n",
       "      <td>4003000</td>\n",
       "      <td>15476000</td>\n",
       "      <td>117</td>\n",
       "    </tr>\n",
       "    <tr>\n",
       "      <th>10123</th>\n",
       "      <td>710638233</td>\n",
       "      <td>41</td>\n",
       "      <td>M</td>\n",
       "      <td>2~4천만원미만</td>\n",
       "      <td>25</td>\n",
       "      <td>4277000</td>\n",
       "      <td>8764000</td>\n",
       "      <td>69</td>\n",
       "    </tr>\n",
       "    <tr>\n",
       "      <th>10124</th>\n",
       "      <td>716506083</td>\n",
       "      <td>44</td>\n",
       "      <td>F</td>\n",
       "      <td>2천만원미만</td>\n",
       "      <td>36</td>\n",
       "      <td>5409000</td>\n",
       "      <td>10291000</td>\n",
       "      <td>60</td>\n",
       "    </tr>\n",
       "    <tr>\n",
       "      <th>10125</th>\n",
       "      <td>717406983</td>\n",
       "      <td>30</td>\n",
       "      <td>M</td>\n",
       "      <td>2~4천만원미만</td>\n",
       "      <td>36</td>\n",
       "      <td>5281000</td>\n",
       "      <td>8395000</td>\n",
       "      <td>62</td>\n",
       "    </tr>\n",
       "    <tr>\n",
       "      <th>10126</th>\n",
       "      <td>714337233</td>\n",
       "      <td>43</td>\n",
       "      <td>F</td>\n",
       "      <td>2천만원미만</td>\n",
       "      <td>25</td>\n",
       "      <td>10388000</td>\n",
       "      <td>10294000</td>\n",
       "      <td>61</td>\n",
       "    </tr>\n",
       "  </tbody>\n",
       "</table>\n",
       "</div>"
      ],
      "text/plain": [
       "           Cstno  Age Sex    Income  USE_Month  Credit_Limit  Total_Trans_Amt  \\\n",
       "10117  712503408   57   M  6~8천만원미만         40      17925000         17498000   \n",
       "10118  713755458   50   M  6~8천만원미만         36       9959000         10310000   \n",
       "10119  716893683   55   F   Unknown         47      14657000          6009000   \n",
       "10120  710841183   54   M  4~6천만원미만         34      13940000         15577000   \n",
       "10121  713899383   56   F    2천만원미만         50       3688000         14596000   \n",
       "10122  772366833   50   M  2~4천만원미만         40       4003000         15476000   \n",
       "10123  710638233   41   M  2~4천만원미만         25       4277000          8764000   \n",
       "10124  716506083   44   F    2천만원미만         36       5409000         10291000   \n",
       "10125  717406983   30   M  2~4천만원미만         36       5281000          8395000   \n",
       "10126  714337233   43   F    2천만원미만         25      10388000         10294000   \n",
       "\n",
       "       Total_Trans_Ct  \n",
       "10117             111  \n",
       "10118              63  \n",
       "10119              53  \n",
       "10120             114  \n",
       "10121             120  \n",
       "10122             117  \n",
       "10123              69  \n",
       "10124              60  \n",
       "10125              62  \n",
       "10126              61  "
      ]
     },
     "execution_count": 118,
     "metadata": {},
     "output_type": "execute_result"
    }
   ],
   "source": [
    "df = pd.read_csv('data/데이터.csv', encoding='euc-kr')\n",
    "df.tail(10)"
   ]
  },
  {
   "cell_type": "code",
   "execution_count": 119,
   "id": "21f533f6",
   "metadata": {},
   "outputs": [
    {
     "data": {
      "text/plain": [
       "10127"
      ]
     },
     "execution_count": 119,
     "metadata": {},
     "output_type": "execute_result"
    }
   ],
   "source": [
    "len(df)"
   ]
  },
  {
   "cell_type": "code",
   "execution_count": 120,
   "id": "25f84f4c",
   "metadata": {},
   "outputs": [
    {
     "data": {
      "text/plain": [
       "pandas.core.series.Series"
      ]
     },
     "execution_count": 120,
     "metadata": {},
     "output_type": "execute_result"
    }
   ],
   "source": [
    "type(df['Sex'])"
   ]
  },
  {
   "cell_type": "code",
   "execution_count": 121,
   "id": "0cc6e89c",
   "metadata": {},
   "outputs": [],
   "source": [
    "import math"
   ]
  },
  {
   "cell_type": "code",
   "execution_count": 122,
   "id": "afc42436",
   "metadata": {},
   "outputs": [
    {
     "data": {
      "text/html": [
       "<div>\n",
       "<style scoped>\n",
       "    .dataframe tbody tr th:only-of-type {\n",
       "        vertical-align: middle;\n",
       "    }\n",
       "\n",
       "    .dataframe tbody tr th {\n",
       "        vertical-align: top;\n",
       "    }\n",
       "\n",
       "    .dataframe thead th {\n",
       "        text-align: right;\n",
       "    }\n",
       "</style>\n",
       "<table border=\"1\" class=\"dataframe\">\n",
       "  <thead>\n",
       "    <tr style=\"text-align: right;\">\n",
       "      <th></th>\n",
       "      <th>Sex</th>\n",
       "      <th>Total_Trans_Amt</th>\n",
       "    </tr>\n",
       "  </thead>\n",
       "  <tbody>\n",
       "    <tr>\n",
       "      <th>0</th>\n",
       "      <td>M</td>\n",
       "      <td>1144000</td>\n",
       "    </tr>\n",
       "    <tr>\n",
       "      <th>1</th>\n",
       "      <td>F</td>\n",
       "      <td>1291000</td>\n",
       "    </tr>\n",
       "    <tr>\n",
       "      <th>2</th>\n",
       "      <td>M</td>\n",
       "      <td>1887000</td>\n",
       "    </tr>\n",
       "    <tr>\n",
       "      <th>3</th>\n",
       "      <td>F</td>\n",
       "      <td>1171000</td>\n",
       "    </tr>\n",
       "    <tr>\n",
       "      <th>4</th>\n",
       "      <td>M</td>\n",
       "      <td>816000</td>\n",
       "    </tr>\n",
       "    <tr>\n",
       "      <th>...</th>\n",
       "      <td>...</td>\n",
       "      <td>...</td>\n",
       "    </tr>\n",
       "    <tr>\n",
       "      <th>10122</th>\n",
       "      <td>M</td>\n",
       "      <td>15476000</td>\n",
       "    </tr>\n",
       "    <tr>\n",
       "      <th>10123</th>\n",
       "      <td>M</td>\n",
       "      <td>8764000</td>\n",
       "    </tr>\n",
       "    <tr>\n",
       "      <th>10124</th>\n",
       "      <td>F</td>\n",
       "      <td>10291000</td>\n",
       "    </tr>\n",
       "    <tr>\n",
       "      <th>10125</th>\n",
       "      <td>M</td>\n",
       "      <td>8395000</td>\n",
       "    </tr>\n",
       "    <tr>\n",
       "      <th>10126</th>\n",
       "      <td>F</td>\n",
       "      <td>10294000</td>\n",
       "    </tr>\n",
       "  </tbody>\n",
       "</table>\n",
       "<p>10127 rows × 2 columns</p>\n",
       "</div>"
      ],
      "text/plain": [
       "      Sex  Total_Trans_Amt\n",
       "0       M          1144000\n",
       "1       F          1291000\n",
       "2       M          1887000\n",
       "3       F          1171000\n",
       "4       M           816000\n",
       "...    ..              ...\n",
       "10122   M         15476000\n",
       "10123   M          8764000\n",
       "10124   F         10291000\n",
       "10125   M          8395000\n",
       "10126   F         10294000\n",
       "\n",
       "[10127 rows x 2 columns]"
      ]
     },
     "execution_count": 122,
     "metadata": {},
     "output_type": "execute_result"
    }
   ],
   "source": [
    "inform1_df = df[['Sex', 'Total_Trans_Amt']]\n",
    "inform1_df"
   ]
  },
  {
   "cell_type": "code",
   "execution_count": 123,
   "id": "e94335aa",
   "metadata": {},
   "outputs": [],
   "source": [
    "infoage_series = df.Age.dropna().apply(lambda age: math.floor(age / 10) * 10)\n",
    "age_series.name = \"Age_Group\""
   ]
  },
  {
   "cell_type": "code",
   "execution_count": 124,
   "id": "ba76ff1f",
   "metadata": {},
   "outputs": [],
   "source": [
    "inform1_df = pd.concat(\n",
    "    [inform1_df, age_series],\n",
    "    axis=1,)"
   ]
  },
  {
   "cell_type": "code",
   "execution_count": 125,
   "id": "953235d1",
   "metadata": {},
   "outputs": [
    {
     "data": {
      "text/html": [
       "<div>\n",
       "<style scoped>\n",
       "    .dataframe tbody tr th:only-of-type {\n",
       "        vertical-align: middle;\n",
       "    }\n",
       "\n",
       "    .dataframe tbody tr th {\n",
       "        vertical-align: top;\n",
       "    }\n",
       "\n",
       "    .dataframe thead th {\n",
       "        text-align: right;\n",
       "    }\n",
       "</style>\n",
       "<table border=\"1\" class=\"dataframe\">\n",
       "  <thead>\n",
       "    <tr style=\"text-align: right;\">\n",
       "      <th></th>\n",
       "      <th>Sex</th>\n",
       "      <th>Total_Trans_Amt</th>\n",
       "      <th>Age_Group</th>\n",
       "    </tr>\n",
       "  </thead>\n",
       "  <tbody>\n",
       "    <tr>\n",
       "      <th>0</th>\n",
       "      <td>M</td>\n",
       "      <td>1144000</td>\n",
       "      <td>40</td>\n",
       "    </tr>\n",
       "    <tr>\n",
       "      <th>1</th>\n",
       "      <td>F</td>\n",
       "      <td>1291000</td>\n",
       "      <td>40</td>\n",
       "    </tr>\n",
       "    <tr>\n",
       "      <th>2</th>\n",
       "      <td>M</td>\n",
       "      <td>1887000</td>\n",
       "      <td>50</td>\n",
       "    </tr>\n",
       "    <tr>\n",
       "      <th>3</th>\n",
       "      <td>F</td>\n",
       "      <td>1171000</td>\n",
       "      <td>40</td>\n",
       "    </tr>\n",
       "    <tr>\n",
       "      <th>4</th>\n",
       "      <td>M</td>\n",
       "      <td>816000</td>\n",
       "      <td>40</td>\n",
       "    </tr>\n",
       "    <tr>\n",
       "      <th>...</th>\n",
       "      <td>...</td>\n",
       "      <td>...</td>\n",
       "      <td>...</td>\n",
       "    </tr>\n",
       "    <tr>\n",
       "      <th>10122</th>\n",
       "      <td>M</td>\n",
       "      <td>15476000</td>\n",
       "      <td>50</td>\n",
       "    </tr>\n",
       "    <tr>\n",
       "      <th>10123</th>\n",
       "      <td>M</td>\n",
       "      <td>8764000</td>\n",
       "      <td>40</td>\n",
       "    </tr>\n",
       "    <tr>\n",
       "      <th>10124</th>\n",
       "      <td>F</td>\n",
       "      <td>10291000</td>\n",
       "      <td>40</td>\n",
       "    </tr>\n",
       "    <tr>\n",
       "      <th>10125</th>\n",
       "      <td>M</td>\n",
       "      <td>8395000</td>\n",
       "      <td>30</td>\n",
       "    </tr>\n",
       "    <tr>\n",
       "      <th>10126</th>\n",
       "      <td>F</td>\n",
       "      <td>10294000</td>\n",
       "      <td>40</td>\n",
       "    </tr>\n",
       "  </tbody>\n",
       "</table>\n",
       "<p>10127 rows × 3 columns</p>\n",
       "</div>"
      ],
      "text/plain": [
       "      Sex  Total_Trans_Amt  Age_Group\n",
       "0       M          1144000         40\n",
       "1       F          1291000         40\n",
       "2       M          1887000         50\n",
       "3       F          1171000         40\n",
       "4       M           816000         40\n",
       "...    ..              ...        ...\n",
       "10122   M         15476000         50\n",
       "10123   M          8764000         40\n",
       "10124   F         10291000         40\n",
       "10125   M          8395000         30\n",
       "10126   F         10294000         40\n",
       "\n",
       "[10127 rows x 3 columns]"
      ]
     },
     "execution_count": 125,
     "metadata": {},
     "output_type": "execute_result"
    }
   ],
   "source": [
    "inform1_df"
   ]
  },
  {
   "cell_type": "code",
   "execution_count": 126,
   "id": "f4699d5d",
   "metadata": {},
   "outputs": [
    {
     "data": {
      "text/html": [
       "<div>\n",
       "<style scoped>\n",
       "    .dataframe tbody tr th:only-of-type {\n",
       "        vertical-align: middle;\n",
       "    }\n",
       "\n",
       "    .dataframe tbody tr th {\n",
       "        vertical-align: top;\n",
       "    }\n",
       "\n",
       "    .dataframe thead th {\n",
       "        text-align: right;\n",
       "    }\n",
       "</style>\n",
       "<table border=\"1\" class=\"dataframe\">\n",
       "  <thead>\n",
       "    <tr style=\"text-align: right;\">\n",
       "      <th></th>\n",
       "      <th>Sex</th>\n",
       "      <th>Total_Trans_Amt</th>\n",
       "      <th>Age_Group</th>\n",
       "      <th>Use_Amt</th>\n",
       "    </tr>\n",
       "  </thead>\n",
       "  <tbody>\n",
       "    <tr>\n",
       "      <th>0</th>\n",
       "      <td>M</td>\n",
       "      <td>1144000</td>\n",
       "      <td>40</td>\n",
       "      <td></td>\n",
       "    </tr>\n",
       "    <tr>\n",
       "      <th>1</th>\n",
       "      <td>F</td>\n",
       "      <td>1291000</td>\n",
       "      <td>40</td>\n",
       "      <td></td>\n",
       "    </tr>\n",
       "    <tr>\n",
       "      <th>2</th>\n",
       "      <td>M</td>\n",
       "      <td>1887000</td>\n",
       "      <td>50</td>\n",
       "      <td></td>\n",
       "    </tr>\n",
       "    <tr>\n",
       "      <th>3</th>\n",
       "      <td>F</td>\n",
       "      <td>1171000</td>\n",
       "      <td>40</td>\n",
       "      <td></td>\n",
       "    </tr>\n",
       "    <tr>\n",
       "      <th>4</th>\n",
       "      <td>M</td>\n",
       "      <td>816000</td>\n",
       "      <td>40</td>\n",
       "      <td></td>\n",
       "    </tr>\n",
       "    <tr>\n",
       "      <th>...</th>\n",
       "      <td>...</td>\n",
       "      <td>...</td>\n",
       "      <td>...</td>\n",
       "      <td>...</td>\n",
       "    </tr>\n",
       "    <tr>\n",
       "      <th>10122</th>\n",
       "      <td>M</td>\n",
       "      <td>15476000</td>\n",
       "      <td>50</td>\n",
       "      <td></td>\n",
       "    </tr>\n",
       "    <tr>\n",
       "      <th>10123</th>\n",
       "      <td>M</td>\n",
       "      <td>8764000</td>\n",
       "      <td>40</td>\n",
       "      <td></td>\n",
       "    </tr>\n",
       "    <tr>\n",
       "      <th>10124</th>\n",
       "      <td>F</td>\n",
       "      <td>10291000</td>\n",
       "      <td>40</td>\n",
       "      <td></td>\n",
       "    </tr>\n",
       "    <tr>\n",
       "      <th>10125</th>\n",
       "      <td>M</td>\n",
       "      <td>8395000</td>\n",
       "      <td>30</td>\n",
       "      <td></td>\n",
       "    </tr>\n",
       "    <tr>\n",
       "      <th>10126</th>\n",
       "      <td>F</td>\n",
       "      <td>10294000</td>\n",
       "      <td>40</td>\n",
       "      <td></td>\n",
       "    </tr>\n",
       "  </tbody>\n",
       "</table>\n",
       "<p>10127 rows × 4 columns</p>\n",
       "</div>"
      ],
      "text/plain": [
       "      Sex  Total_Trans_Amt  Age_Group Use_Amt\n",
       "0       M          1144000         40        \n",
       "1       F          1291000         40        \n",
       "2       M          1887000         50        \n",
       "3       F          1171000         40        \n",
       "4       M           816000         40        \n",
       "...    ..              ...        ...     ...\n",
       "10122   M         15476000         50        \n",
       "10123   M          8764000         40        \n",
       "10124   F         10291000         40        \n",
       "10125   M          8395000         30        \n",
       "10126   F         10294000         40        \n",
       "\n",
       "[10127 rows x 4 columns]"
      ]
     },
     "execution_count": 126,
     "metadata": {},
     "output_type": "execute_result"
    }
   ],
   "source": [
    "inform1_df['Use_Amt'] = ' '\n",
    "inform1_df"
   ]
  },
  {
   "cell_type": "code",
   "execution_count": 127,
   "id": "3be02eae",
   "metadata": {},
   "outputs": [],
   "source": [
    "for i in np.arange(len(df)):\n",
    "    if inform1_df['Total_Trans_Amt'].values[i] < 1500000:\n",
    "        inform1_df['Use_Amt'].values[i] = '1' \n",
    "    elif inform1_df['Total_Trans_Amt'].values[i] < 3000000:\n",
    "        inform1_df['Use_Amt'].values[i] = '2'\n",
    "    elif inform1_df['Total_Trans_Amt'].values[i] < 4500000:\n",
    "        inform1_df['Use_Amt'].values[i] = '3'\n",
    "    elif inform1_df['Total_Trans_Amt'].values[i] < 7000000:\n",
    "        inform1_df['Use_Amt'].values[i] = '4'\n",
    "#     elif inform_df['Total_Trans_Amt'].values[i] < 10000000:\n",
    "#         inform_df['Range'].values[i] = 'E'\n",
    "    else: inform1_df['Use_Amt'].values[i] = '5'\n",
    "        "
   ]
  },
  {
   "cell_type": "code",
   "execution_count": 128,
   "id": "76906b3d",
   "metadata": {},
   "outputs": [
    {
     "data": {
      "text/html": [
       "<div>\n",
       "<style scoped>\n",
       "    .dataframe tbody tr th:only-of-type {\n",
       "        vertical-align: middle;\n",
       "    }\n",
       "\n",
       "    .dataframe tbody tr th {\n",
       "        vertical-align: top;\n",
       "    }\n",
       "\n",
       "    .dataframe thead th {\n",
       "        text-align: right;\n",
       "    }\n",
       "</style>\n",
       "<table border=\"1\" class=\"dataframe\">\n",
       "  <thead>\n",
       "    <tr style=\"text-align: right;\">\n",
       "      <th></th>\n",
       "      <th>Sex</th>\n",
       "      <th>Total_Trans_Amt</th>\n",
       "      <th>Age_Group</th>\n",
       "      <th>Use_Amt</th>\n",
       "    </tr>\n",
       "  </thead>\n",
       "  <tbody>\n",
       "    <tr>\n",
       "      <th>0</th>\n",
       "      <td>M</td>\n",
       "      <td>1144000</td>\n",
       "      <td>40</td>\n",
       "      <td>1</td>\n",
       "    </tr>\n",
       "    <tr>\n",
       "      <th>1</th>\n",
       "      <td>F</td>\n",
       "      <td>1291000</td>\n",
       "      <td>40</td>\n",
       "      <td>1</td>\n",
       "    </tr>\n",
       "    <tr>\n",
       "      <th>2</th>\n",
       "      <td>M</td>\n",
       "      <td>1887000</td>\n",
       "      <td>50</td>\n",
       "      <td>2</td>\n",
       "    </tr>\n",
       "    <tr>\n",
       "      <th>3</th>\n",
       "      <td>F</td>\n",
       "      <td>1171000</td>\n",
       "      <td>40</td>\n",
       "      <td>1</td>\n",
       "    </tr>\n",
       "    <tr>\n",
       "      <th>4</th>\n",
       "      <td>M</td>\n",
       "      <td>816000</td>\n",
       "      <td>40</td>\n",
       "      <td>1</td>\n",
       "    </tr>\n",
       "    <tr>\n",
       "      <th>...</th>\n",
       "      <td>...</td>\n",
       "      <td>...</td>\n",
       "      <td>...</td>\n",
       "      <td>...</td>\n",
       "    </tr>\n",
       "    <tr>\n",
       "      <th>10122</th>\n",
       "      <td>M</td>\n",
       "      <td>15476000</td>\n",
       "      <td>50</td>\n",
       "      <td>5</td>\n",
       "    </tr>\n",
       "    <tr>\n",
       "      <th>10123</th>\n",
       "      <td>M</td>\n",
       "      <td>8764000</td>\n",
       "      <td>40</td>\n",
       "      <td>5</td>\n",
       "    </tr>\n",
       "    <tr>\n",
       "      <th>10124</th>\n",
       "      <td>F</td>\n",
       "      <td>10291000</td>\n",
       "      <td>40</td>\n",
       "      <td>5</td>\n",
       "    </tr>\n",
       "    <tr>\n",
       "      <th>10125</th>\n",
       "      <td>M</td>\n",
       "      <td>8395000</td>\n",
       "      <td>30</td>\n",
       "      <td>5</td>\n",
       "    </tr>\n",
       "    <tr>\n",
       "      <th>10126</th>\n",
       "      <td>F</td>\n",
       "      <td>10294000</td>\n",
       "      <td>40</td>\n",
       "      <td>5</td>\n",
       "    </tr>\n",
       "  </tbody>\n",
       "</table>\n",
       "<p>10127 rows × 4 columns</p>\n",
       "</div>"
      ],
      "text/plain": [
       "      Sex  Total_Trans_Amt  Age_Group Use_Amt\n",
       "0       M          1144000         40       1\n",
       "1       F          1291000         40       1\n",
       "2       M          1887000         50       2\n",
       "3       F          1171000         40       1\n",
       "4       M           816000         40       1\n",
       "...    ..              ...        ...     ...\n",
       "10122   M         15476000         50       5\n",
       "10123   M          8764000         40       5\n",
       "10124   F         10291000         40       5\n",
       "10125   M          8395000         30       5\n",
       "10126   F         10294000         40       5\n",
       "\n",
       "[10127 rows x 4 columns]"
      ]
     },
     "execution_count": 128,
     "metadata": {},
     "output_type": "execute_result"
    }
   ],
   "source": [
    "inform1_df"
   ]
  },
  {
   "cell_type": "code",
   "execution_count": 129,
   "id": "26a7de63",
   "metadata": {},
   "outputs": [],
   "source": [
    "from functools import *"
   ]
  },
  {
   "cell_type": "code",
   "execution_count": 130,
   "id": "7d71cc35",
   "metadata": {},
   "outputs": [],
   "source": [
    "def count_columns(result_dic, element) :\n",
    "    if result_dic.get(element) :\n",
    "        result_dic[element] += 1\n",
    "    else:\n",
    "        result_dic[element] = 1\n",
    "\n",
    "    return result_dic\n",
    "\n",
    "def get_group_count(df_column) :\n",
    "    return reduce(count_columns, df_column, dict())"
   ]
  },
  {
   "cell_type": "code",
   "execution_count": 131,
   "id": "346db42f",
   "metadata": {},
   "outputs": [
    {
     "data": {
      "text/plain": [
       "{'M': 4769, 'F': 5358}"
      ]
     },
     "execution_count": 131,
     "metadata": {},
     "output_type": "execute_result"
    }
   ],
   "source": [
    "result = get_group_count(inform1_df['Sex'])\n",
    "result"
   ]
  },
  {
   "cell_type": "code",
   "execution_count": 132,
   "id": "ae7bc02d",
   "metadata": {},
   "outputs": [
    {
     "data": {
      "text/plain": [
       "{40: 4561, 50: 2998, 30: 1841, 60: 530, 70: 2, 20: 195}"
      ]
     },
     "execution_count": 132,
     "metadata": {},
     "output_type": "execute_result"
    }
   ],
   "source": [
    "result = get_group_count(inform1_df['Age_Group'])\n",
    "result"
   ]
  },
  {
   "cell_type": "code",
   "execution_count": 133,
   "id": "7720b949",
   "metadata": {},
   "outputs": [
    {
     "data": {
      "text/plain": [
       "{'1': 1010, '2': 2885, '3': 2938, '4': 1869, '5': 1425}"
      ]
     },
     "execution_count": 133,
     "metadata": {},
     "output_type": "execute_result"
    }
   ],
   "source": [
    "result = get_group_count(inform1_df['Use_Amt'])\n",
    "result"
   ]
  },
  {
   "cell_type": "code",
   "execution_count": 134,
   "id": "75a8f522",
   "metadata": {},
   "outputs": [
    {
     "data": {
      "text/plain": [
       "[('M',\n",
       "  0        1\n",
       "  1        1\n",
       "  2        2\n",
       "  3        1\n",
       "  4        1\n",
       "          ..\n",
       "  10122    5\n",
       "  10123    5\n",
       "  10124    5\n",
       "  10125    5\n",
       "  10126    5\n",
       "  Name: Use_Amt, Length: 10127, dtype: object)]"
      ]
     },
     "execution_count": 134,
     "metadata": {},
     "output_type": "execute_result"
    }
   ],
   "source": [
    "idx = 0\n",
    "inform1_df_columns_sex = []\n",
    "\n",
    "element = inform1_df['Sex'][idx], inform1_df['Use_Amt']\n",
    "\n",
    "inform1_df_columns_sex.append(element)\n",
    "inform1_df_columns_sex"
   ]
  },
  {
   "cell_type": "code",
   "execution_count": 135,
   "id": "c10e1e7a",
   "metadata": {},
   "outputs": [
    {
     "data": {
      "text/plain": [
       "(10127, 10127)"
      ]
     },
     "execution_count": 135,
     "metadata": {},
     "output_type": "execute_result"
    }
   ],
   "source": [
    "inform1_df_columns_sex = [] # 성별\n",
    "inform1_df_columns_age = [] # 연령\n",
    "\n",
    "for idx in range(len(df)):\n",
    "    element     = inform1_df['Sex'][idx], inform1_df['Use_Amt'][idx]\n",
    "    age_element = inform1_df['Age_Group'][idx],inform1_df['Use_Amt'][idx]\n",
    "    \n",
    "    inform1_df_columns_sex.append(element)\n",
    "    inform1_df_columns_age.append(age_element)\n",
    "    \n",
    "len(inform1_df_columns_sex), len(inform1_df_columns_age)"
   ]
  },
  {
   "cell_type": "code",
   "execution_count": 136,
   "id": "b168ee64",
   "metadata": {},
   "outputs": [
    {
     "data": {
      "text/plain": [
       "[('M', '1'),\n",
       " ('F', '1'),\n",
       " ('M', '2'),\n",
       " ('F', '1'),\n",
       " ('M', '1'),\n",
       " ('M', '1'),\n",
       " ('M', '1'),\n",
       " ('M', '2'),\n",
       " ('M', '1'),\n",
       " ('M', '1')]"
      ]
     },
     "execution_count": 136,
     "metadata": {},
     "output_type": "execute_result"
    }
   ],
   "source": [
    "inform1_df_columns_sex[:10]"
   ]
  },
  {
   "cell_type": "code",
   "execution_count": 137,
   "id": "093d89f7",
   "metadata": {},
   "outputs": [
    {
     "data": {
      "text/plain": [
       "[(40, '1'),\n",
       " (40, '1'),\n",
       " (50, '2'),\n",
       " (40, '1'),\n",
       " (40, '1'),\n",
       " (40, '1'),\n",
       " (50, '1'),\n",
       " (30, '2'),\n",
       " (30, '1'),\n",
       " (40, '1')]"
      ]
     },
     "execution_count": 137,
     "metadata": {},
     "output_type": "execute_result"
    }
   ],
   "source": [
    "inform1_df_columns_age[:10]"
   ]
  },
  {
   "cell_type": "code",
   "execution_count": 148,
   "id": "ac906afb",
   "metadata": {},
   "outputs": [],
   "source": [
    "def get_group_count_sex(inform1_df_columns_sex) :\n",
    "    \n",
    "    print('len(inform1_df_columns_sex) :', len(inform1_df_columns_sex))\n",
    "    \n",
    "    def count_columns(result_dic, element_tuple) :\n",
    "        element1, element2 = element_tuple\n",
    "\n",
    "        if not (result_dic.get(element1)) :\n",
    "            result_dic[element1] = {}\n",
    "              \n",
    "        if result_dic[element1].get(element2) :\n",
    "            result_dic[element1][element2] += 1\n",
    "        else :\n",
    "            result_dic[element1][element2] = 1\n",
    "\n",
    "        return result_dic\n",
    "    \n",
    "    result_sex = reduce(count_columns, inform1_df_columns_sex, dict())\n",
    "    return result_sex"
   ]
  },
  {
   "cell_type": "code",
   "execution_count": 149,
   "id": "07f8b02d",
   "metadata": {},
   "outputs": [],
   "source": [
    "def get_group_count_age(inform1_df_columns_age) :\n",
    "    \n",
    "    print('len(inform1_df_columns_age) :', len(inform1_df_columns_age))\n",
    "    \n",
    "    def count_columns(result_dic, element_tuple) :\n",
    "        element1, element2 = element_tuple\n",
    "\n",
    "        if not (result_dic.get(element1)) :\n",
    "            result_dic[element1] = {}\n",
    "              \n",
    "        if result_dic[element1].get(element2) :\n",
    "            result_dic[element1][element2] += 1\n",
    "        else :\n",
    "            result_dic[element1][element2] = 1\n",
    "\n",
    "        return result_dic\n",
    "    \n",
    "    result_age = reduce(count_columns, inform1_df_columns_age, dict())\n",
    "    return result_age"
   ]
  },
  {
   "cell_type": "code",
   "execution_count": 154,
   "id": "4bc9bc9e",
   "metadata": {},
   "outputs": [
    {
     "name": "stdout",
     "output_type": "stream",
     "text": [
      "len(inform1_df_columns_sex) : 10127\n"
     ]
    }
   ],
   "source": [
    "result_sex = get_group_count_sex(inform1_df_columns)"
   ]
  },
  {
   "cell_type": "code",
   "execution_count": 155,
   "id": "2781f352",
   "metadata": {},
   "outputs": [
    {
     "name": "stdout",
     "output_type": "stream",
     "text": [
      "len(inform1_df_columns_age) : 10127\n"
     ]
    }
   ],
   "source": [
    "result_age = get_group_count_age(inform1_df_columns_age)"
   ]
  },
  {
   "cell_type": "code",
   "execution_count": 157,
   "id": "56e48e63",
   "metadata": {},
   "outputs": [
    {
     "data": {
      "text/plain": [
       "({'M': {'1': 619, '2': 1467, '3': 1299, '4': 509, '5': 875},\n",
       "  'F': {'1': 391, '2': 1418, '3': 1639, '4': 1360, '5': 550}},\n",
       " {40: {'1': 407, '2': 933, '3': 1584, '4': 936, '5': 701},\n",
       "  50: {'2': 773, '1': 414, '3': 809, '4': 595, '5': 407},\n",
       "  30: {'2': 890, '1': 87, '3': 362, '4': 251, '5': 251},\n",
       "  60: {'1': 95, '2': 167, '3': 158, '4': 71, '5': 39},\n",
       "  70: {'2': 1, '1': 1},\n",
       "  20: {'2': 121, '3': 25, '1': 6, '4': 16, '5': 27}})"
      ]
     },
     "execution_count": 157,
     "metadata": {},
     "output_type": "execute_result"
    }
   ],
   "source": [
    "result_sex, result_age"
   ]
  },
  {
   "cell_type": "code",
   "execution_count": 166,
   "id": "1adea67c",
   "metadata": {},
   "outputs": [
    {
     "data": {
      "text/plain": [
       "{'1': 391, '2': 1418, '3': 1639, '4': 1360, '5': 550}"
      ]
     },
     "execution_count": 166,
     "metadata": {},
     "output_type": "execute_result"
    }
   ],
   "source": [
    "dict_element_F = result_sex['F']\n",
    "dict_element_F"
   ]
  },
  {
   "cell_type": "code",
   "execution_count": 167,
   "id": "d012dd89",
   "metadata": {},
   "outputs": [
    {
     "data": {
      "text/plain": [
       "[391, 1418, 1639, 1360, 550]"
      ]
     },
     "execution_count": 167,
     "metadata": {},
     "output_type": "execute_result"
    }
   ],
   "source": [
    "dict_values_F = [dict_element[key] for key in dict_element.keys()]\n",
    "dict_values_F"
   ]
  },
  {
   "cell_type": "code",
   "execution_count": 168,
   "id": "8389b64e",
   "metadata": {},
   "outputs": [
    {
     "data": {
      "text/plain": [
       "5358"
      ]
     },
     "execution_count": 168,
     "metadata": {},
     "output_type": "execute_result"
    }
   ],
   "source": [
    "sum(dict_values_F)"
   ]
  },
  {
   "cell_type": "code",
   "execution_count": 171,
   "id": "a8ca1ee5",
   "metadata": {},
   "outputs": [
    {
     "data": {
      "text/plain": [
       "{'1': 619, '2': 1467, '3': 1299, '4': 509, '5': 875}"
      ]
     },
     "execution_count": 171,
     "metadata": {},
     "output_type": "execute_result"
    }
   ],
   "source": [
    "dict_element_M = result_sex['M']\n",
    "dict_element_M"
   ]
  },
  {
   "cell_type": "code",
   "execution_count": 173,
   "id": "7514567a",
   "metadata": {},
   "outputs": [
    {
     "data": {
      "text/plain": [
       "[619, 1467, 1299, 509, 875]"
      ]
     },
     "execution_count": 173,
     "metadata": {},
     "output_type": "execute_result"
    }
   ],
   "source": [
    "dict_values_M = [dict_element_M[key] for key in dict_element_M.keys()]\n",
    "dict_values_M"
   ]
  },
  {
   "cell_type": "code",
   "execution_count": 174,
   "id": "ff56fe2b",
   "metadata": {},
   "outputs": [
    {
     "data": {
      "text/plain": [
       "[619, 1467, 1299, 509, 875]"
      ]
     },
     "execution_count": 174,
     "metadata": {},
     "output_type": "execute_result"
    }
   ],
   "source": [
    "dict_values_M = [dict_element_M[key] for key in dict_element_M.keys()]\n",
    "dict_values_M"
   ]
  },
  {
   "cell_type": "code",
   "execution_count": 182,
   "id": "a6b318a4",
   "metadata": {},
   "outputs": [
    {
     "data": {
      "text/plain": [
       "({'2': 121, '3': 25, '1': 6, '4': 16, '5': 27},\n",
       " {'2': 890, '1': 87, '3': 362, '4': 251, '5': 251},\n",
       " {'1': 407, '2': 933, '3': 1584, '4': 936, '5': 701},\n",
       " {'2': 773, '1': 414, '3': 809, '4': 595, '5': 407},\n",
       " {'1': 95, '2': 167, '3': 158, '4': 71, '5': 39},\n",
       " {'2': 1, '1': 1})"
      ]
     },
     "execution_count": 182,
     "metadata": {},
     "output_type": "execute_result"
    }
   ],
   "source": [
    "dict_element_20 = result_age[20]\n",
    "dict_element_30 = result_age[30]\n",
    "dict_element_40 = result_age[40]\n",
    "dict_element_50 = result_age[50]\n",
    "dict_element_60 = result_age[60]\n",
    "dict_element_70 = result_age[70]\n",
    "\n",
    "dict_element_20, dict_element_30, dict_element_40, dict_element_50,dict_element_60, dict_element_70"
   ]
  },
  {
   "cell_type": "code",
   "execution_count": 186,
   "id": "3f6e6b61",
   "metadata": {},
   "outputs": [
    {
     "data": {
      "text/plain": [
       "([121, 25, 6, 16, 27],\n",
       " [890, 87, 362, 251, 251],\n",
       " [407, 933, 1584, 936, 701],\n",
       " [773, 414, 809, 595, 407],\n",
       " [95, 167, 158, 71, 39],\n",
       " [1, 1])"
      ]
     },
     "execution_count": 186,
     "metadata": {},
     "output_type": "execute_result"
    }
   ],
   "source": [
    "dict_values_20 = [dict_element_20[key] for key in dict_element_20.keys()]\n",
    "dict_values_30 = [dict_element_30[key] for key in dict_element_30.keys()]\n",
    "dict_values_40 = [dict_element_40[key] for key in dict_element_40.keys()]\n",
    "dict_values_50 = [dict_element_50[key] for key in dict_element_50.keys()]\n",
    "dict_values_60 = [dict_element_60[key] for key in dict_element_60.keys()]\n",
    "dict_values_70 = [dict_element_70[key] for key in dict_element_70.keys()]\n",
    "\n",
    "dict_values_20, dict_values_30, dict_values_40, dict_values_50, dict_values_60, dict_values_70"
   ]
  },
  {
   "cell_type": "code",
   "execution_count": 187,
   "id": "b6d3cd9a",
   "metadata": {},
   "outputs": [],
   "source": [
    "count_f = []\n",
    "count_m = []\n",
    "\n",
    "for i in range(5):\n",
    "#     idx = i+1\n",
    "    count_f.append(dict_values_F[i])\n",
    "    count_m.append(dict_values_M[i])"
   ]
  },
  {
   "cell_type": "code",
   "execution_count": 188,
   "id": "6d8c24d7",
   "metadata": {},
   "outputs": [
    {
     "data": {
      "text/plain": [
       "([391, 1418, 1639, 1360, 550], [619, 1467, 1299, 509, 875])"
      ]
     },
     "execution_count": 188,
     "metadata": {},
     "output_type": "execute_result"
    }
   ],
   "source": [
    "count_f, count_m"
   ]
  },
  {
   "cell_type": "code",
   "execution_count": 210,
   "id": "49eabc5a",
   "metadata": {},
   "outputs": [],
   "source": [
    "count_20 = []\n",
    "count_30 = []\n",
    "count_40 = []\n",
    "count_50 = []\n",
    "count_60 = []\n",
    "count_70 = []\n",
    "\n",
    "for i in range(5):\n",
    "#     idx = i+1\n",
    "    count_20.append(dict_values_20[i])\n",
    "    count_30.append(dict_values_30[i])\n",
    "    count_40.append(dict_values_40[i])\n",
    "    count_50.append(dict_values_50[i])\n",
    "    count_60.append(dict_values_60[i])\n",
    "\n",
    "for i in range(2):\n",
    "    count_70.append(dict_values_70[i])\n",
    "\n",
    "\n",
    "if len(count_70) < 5:\n",
    "    for i in range(5-len(count_70)):\n",
    "        count_70.append(0)"
   ]
  },
  {
   "cell_type": "code",
   "execution_count": 212,
   "id": "a8725c98",
   "metadata": {},
   "outputs": [
    {
     "data": {
      "text/plain": [
       "5"
      ]
     },
     "execution_count": 212,
     "metadata": {},
     "output_type": "execute_result"
    }
   ],
   "source": [
    "len(count_70)"
   ]
  },
  {
   "cell_type": "code",
   "execution_count": 229,
   "id": "7b2f78bd",
   "metadata": {},
   "outputs": [],
   "source": [
    "import matplotlib.pyplot as plt\n",
    "import pandas as pd\n",
    "from matplotlib import font_manager, rc\n",
    "font_name = font_manager.FontProperties(fname=\"C:/Windows/Fonts/MALGUN.TTF\").get_name()\n",
    "rc('font', family=font_name)\n",
    "\n",
    "plt.rcParams['figure.figsize'] = (12,6)"
   ]
  },
  {
   "cell_type": "code",
   "execution_count": 230,
   "id": "c31e8faa",
   "metadata": {},
   "outputs": [
    {
     "data": {
      "image/png": "[encoded data removed]",
      "text/plain": [
       "<Figure size 864x432 with 1 Axes>"
      ]
     },
     "metadata": {
      "needs_background": "light"
     },
     "output_type": "display_data"
    }
   ],
   "source": [
    "t1 = [1,4,7,10,13]\n",
    "t2 = [2,5,8,11,14]\n",
    "\n",
    "plt.bar(t1, count_f, color='r', width=1, label='여자')\n",
    "plt.bar(t2, count_m, color='b', width=1, label='남자')\n",
    "plt.xlabel('카드사용금액별')\n",
    "plt.ylabel('대상자 수')\n",
    "plt.legend(title='성별')\n",
    "\n",
    "t = list(range(1,15))\n",
    "plt.xticks(t , ('        150만원 미만','','','        300만원 미만','','','        450만원 미만','','','        700만원 미만','','','        700만원 이상',''))   # set the locations of the xticks\n",
    "plt.show()"
   ]
  },
  {
   "cell_type": "code",
   "execution_count": 237,
   "id": "d1fd6049",
   "metadata": {},
   "outputs": [
    {
     "data": {
      "image/png": "[encoded data removed]",
      "text/plain": [
       "<Figure size 864x432 with 1 Axes>"
      ]
     },
     "metadata": {
      "needs_background": "light"
     },
     "output_type": "display_data"
    }
   ],
   "source": [
    "t1 = [1,8,15,22,29]\n",
    "t2 = [2,9,16,23,30]\n",
    "t3 = [3,10,17,24,31]\n",
    "t4 = [4,11,18,25,32]\n",
    "t5 = [5,12,19,26,33]\n",
    "t6 = [6,19,20,27,34]\n",
    "\n",
    "plt.bar(t1, count_20, color='b', width=1, label='20대')\n",
    "plt.bar(t2, count_30, color='g', width=1, label='30대')\n",
    "plt.bar(t3, count_40, color='r', width=1, label='40대')\n",
    "plt.bar(t4, count_50, color='c', width=1, label='50대')\n",
    "plt.bar(t5, count_60, color='m', width=1, label='60대')\n",
    "plt.bar(t6, count_70, color='y', width=1, label='70대')\n",
    "\n",
    "plt.xlabel('카드사용금액별')\n",
    "plt.ylabel('대상자 수')\n",
    "plt.legend(title='연령별')\n",
    "\n",
    "# for i in range(36):\n",
    "    \n",
    "\n",
    "\n",
    "t = list(range(1,37))\n",
    "plt.xticks(t , ('','','150만원 미만','','','','', '','','300만원 미만','','','','', '','','450만원 미만','','','','', '','','700만원 미만','','','','', '','','700만원 이상','','','','',''))   # set the locations of the xticks\n",
    "plt.show()"
   ]
  },
  {
   "cell_type": "code",
   "execution_count": null,
   "id": "41aed679",
   "metadata": {},
   "outputs": [],
   "source": []
  }
 ],
 "metadata": {
  "kernelspec": {
   "display_name": "Python 3 (ipykernel)",
   "language": "python",
   "name": "python3"
  },
  "language_info": {
   "codemirror_mode": {
    "name": "ipython",
    "version": 3
   },
   "file_extension": ".py",
   "mimetype": "text/x-python",
   "name": "python",
   "nbconvert_exporter": "python",
   "pygments_lexer": "ipython3",
   "version": "3.9.12"
  }
 },
 "nbformat": 4,
 "nbformat_minor": 5
}
