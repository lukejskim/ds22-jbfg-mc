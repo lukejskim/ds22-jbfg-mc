{
 "cells": [
  {
   "cell_type": "code",
   "execution_count": 1,
   "id": "e62c57f2",
   "metadata": {},
   "outputs": [],
   "source": [
    "import platform\n",
    "\n",
    "from pandas import Series, DataFrame\n",
    "import pandas as pd\n",
    "import numpy as np\n",
    "import matplotlib.pyplot as plt\n",
    "import seaborn as sns\n",
    "sns.set()\n",
    "import math\n",
    "\n",
    "from matplotlib import font_manager, rc\n",
    "font_name = font_manager.FontProperties(fname=\"C:/Windows/Fonts/malgun.ttf\").get_name()\n",
    "rc('font', family=font_name)\n",
    "\n",
    "%matplotlib inline\n",
    "plt.rcParams[\"figure.figsize\"] = [12,6]"
   ]
  },
  {
   "cell_type": "markdown",
   "id": "78a71038",
   "metadata": {},
   "source": [
    "### Step0. 기초 테이블 생성"
   ]
  },
  {
   "cell_type": "code",
   "execution_count": 2,
   "id": "b90a1119",
   "metadata": {},
   "outputs": [],
   "source": [
    "# 엑셀파일 불러오기\n",
    "mission_data_xls = './data/mission_data.xlsx'"
   ]
  },
  {
   "cell_type": "code",
   "execution_count": 3,
   "id": "0849a9c6",
   "metadata": {},
   "outputs": [
    {
     "data": {
      "text/html": [
       "<div>\n",
       "<style scoped>\n",
       "    .dataframe tbody tr th:only-of-type {\n",
       "        vertical-align: middle;\n",
       "    }\n",
       "\n",
       "    .dataframe tbody tr th {\n",
       "        vertical-align: top;\n",
       "    }\n",
       "\n",
       "    .dataframe thead th {\n",
       "        text-align: right;\n",
       "    }\n",
       "</style>\n",
       "<table border=\"1\" class=\"dataframe\">\n",
       "  <thead>\n",
       "    <tr style=\"text-align: right;\">\n",
       "      <th></th>\n",
       "      <th>base_dt</th>\n",
       "      <th>acno</th>\n",
       "      <th>gds_cd</th>\n",
       "      <th>stcd</th>\n",
       "      <th>cstno</th>\n",
       "    </tr>\n",
       "  </thead>\n",
       "  <tbody>\n",
       "    <tr>\n",
       "      <th>0</th>\n",
       "      <td>20220131</td>\n",
       "      <td>1111021010800000</td>\n",
       "      <td>ZZZZAA</td>\n",
       "      <td>정상</td>\n",
       "      <td>30000000111</td>\n",
       "    </tr>\n",
       "    <tr>\n",
       "      <th>1</th>\n",
       "      <td>20220131</td>\n",
       "      <td>1111021010800001</td>\n",
       "      <td>ZZZZAB</td>\n",
       "      <td>해지</td>\n",
       "      <td>30000000111</td>\n",
       "    </tr>\n",
       "    <tr>\n",
       "      <th>2</th>\n",
       "      <td>20220131</td>\n",
       "      <td>1111021010800002</td>\n",
       "      <td>ZZZZAC</td>\n",
       "      <td>정상</td>\n",
       "      <td>30000000113</td>\n",
       "    </tr>\n",
       "    <tr>\n",
       "      <th>3</th>\n",
       "      <td>20220131</td>\n",
       "      <td>1111021010800003</td>\n",
       "      <td>ZZZZAD</td>\n",
       "      <td>정상</td>\n",
       "      <td>30000000114</td>\n",
       "    </tr>\n",
       "    <tr>\n",
       "      <th>4</th>\n",
       "      <td>20220131</td>\n",
       "      <td>1111021010800004</td>\n",
       "      <td>ZZZZAD</td>\n",
       "      <td>정상</td>\n",
       "      <td>30000000115</td>\n",
       "    </tr>\n",
       "  </tbody>\n",
       "</table>\n",
       "</div>"
      ],
      "text/plain": [
       "    base_dt              acno  gds_cd stcd        cstno\n",
       "0  20220131  1111021010800000  ZZZZAA   정상  30000000111\n",
       "1  20220131  1111021010800001  ZZZZAB   해지  30000000111\n",
       "2  20220131  1111021010800002  ZZZZAC   정상  30000000113\n",
       "3  20220131  1111021010800003  ZZZZAD   정상  30000000114\n",
       "4  20220131  1111021010800004  ZZZZAD   정상  30000000115"
      ]
     },
     "execution_count": 3,
     "metadata": {},
     "output_type": "execute_result"
    }
   ],
   "source": [
    "data_susin = pd.read_excel(mission_data_xls)\n",
    "data_susin.head()"
   ]
  },
  {
   "cell_type": "code",
   "execution_count": 4,
   "id": "1f78ed06",
   "metadata": {},
   "outputs": [
    {
     "data": {
      "text/html": [
       "<div>\n",
       "<style scoped>\n",
       "    .dataframe tbody tr th:only-of-type {\n",
       "        vertical-align: middle;\n",
       "    }\n",
       "\n",
       "    .dataframe tbody tr th {\n",
       "        vertical-align: top;\n",
       "    }\n",
       "\n",
       "    .dataframe thead th {\n",
       "        text-align: right;\n",
       "    }\n",
       "</style>\n",
       "<table border=\"1\" class=\"dataframe\">\n",
       "  <thead>\n",
       "    <tr style=\"text-align: right;\">\n",
       "      <th></th>\n",
       "      <th>cstno</th>\n",
       "      <th>age</th>\n",
       "      <th>sex</th>\n",
       "      <th>add</th>\n",
       "    </tr>\n",
       "  </thead>\n",
       "  <tbody>\n",
       "    <tr>\n",
       "      <th>0</th>\n",
       "      <td>30000000111</td>\n",
       "      <td>11</td>\n",
       "      <td>F</td>\n",
       "      <td>전북</td>\n",
       "    </tr>\n",
       "    <tr>\n",
       "      <th>1</th>\n",
       "      <td>30000000113</td>\n",
       "      <td>12</td>\n",
       "      <td>F</td>\n",
       "      <td>경기</td>\n",
       "    </tr>\n",
       "    <tr>\n",
       "      <th>2</th>\n",
       "      <td>30000000114</td>\n",
       "      <td>13</td>\n",
       "      <td>F</td>\n",
       "      <td>인천</td>\n",
       "    </tr>\n",
       "    <tr>\n",
       "      <th>3</th>\n",
       "      <td>30000000115</td>\n",
       "      <td>14</td>\n",
       "      <td>M</td>\n",
       "      <td>전북</td>\n",
       "    </tr>\n",
       "    <tr>\n",
       "      <th>4</th>\n",
       "      <td>30000000116</td>\n",
       "      <td>15</td>\n",
       "      <td>F</td>\n",
       "      <td>전남</td>\n",
       "    </tr>\n",
       "  </tbody>\n",
       "</table>\n",
       "</div>"
      ],
      "text/plain": [
       "         cstno  age sex add\n",
       "0  30000000111   11   F  전북\n",
       "1  30000000113   12   F  경기\n",
       "2  30000000114   13   F  인천\n",
       "3  30000000115   14   M  전북\n",
       "4  30000000116   15   F  전남"
      ]
     },
     "execution_count": 4,
     "metadata": {},
     "output_type": "execute_result"
    }
   ],
   "source": [
    "data_cstno = pd.read_excel(mission_data_xls, sheet_name=1)\n",
    "data_cstno.head()"
   ]
  },
  {
   "cell_type": "code",
   "execution_count": 5,
   "id": "8c1a7c61",
   "metadata": {
    "scrolled": false
   },
   "outputs": [
    {
     "data": {
      "text/html": [
       "<div>\n",
       "<style scoped>\n",
       "    .dataframe tbody tr th:only-of-type {\n",
       "        vertical-align: middle;\n",
       "    }\n",
       "\n",
       "    .dataframe tbody tr th {\n",
       "        vertical-align: top;\n",
       "    }\n",
       "\n",
       "    .dataframe thead th {\n",
       "        text-align: right;\n",
       "    }\n",
       "</style>\n",
       "<table border=\"1\" class=\"dataframe\">\n",
       "  <thead>\n",
       "    <tr style=\"text-align: right;\">\n",
       "      <th></th>\n",
       "      <th>gds_cd</th>\n",
       "      <th>gds_nm</th>\n",
       "      <th>gds_dvcd</th>\n",
       "    </tr>\n",
       "  </thead>\n",
       "  <tbody>\n",
       "    <tr>\n",
       "      <th>0</th>\n",
       "      <td>ZZZZAA</td>\n",
       "      <td>JB다이렉트예금</td>\n",
       "      <td>예금</td>\n",
       "    </tr>\n",
       "    <tr>\n",
       "      <th>1</th>\n",
       "      <td>ZZZZAB</td>\n",
       "      <td>JB스마트정기예금</td>\n",
       "      <td>예금</td>\n",
       "    </tr>\n",
       "    <tr>\n",
       "      <th>2</th>\n",
       "      <td>ZZZZAC</td>\n",
       "      <td>JB최강전북축구사랑예금</td>\n",
       "      <td>예금</td>\n",
       "    </tr>\n",
       "    <tr>\n",
       "      <th>3</th>\n",
       "      <td>ZZZZAD</td>\n",
       "      <td>JB골든에이지예금</td>\n",
       "      <td>예금</td>\n",
       "    </tr>\n",
       "    <tr>\n",
       "      <th>4</th>\n",
       "      <td>ZZZZBA</td>\n",
       "      <td>JB다이렉트적금</td>\n",
       "      <td>적금</td>\n",
       "    </tr>\n",
       "  </tbody>\n",
       "</table>\n",
       "</div>"
      ],
      "text/plain": [
       "   gds_cd        gds_nm gds_dvcd\n",
       "0  ZZZZAA      JB다이렉트예금       예금\n",
       "1  ZZZZAB     JB스마트정기예금       예금\n",
       "2  ZZZZAC  JB최강전북축구사랑예금       예금\n",
       "3  ZZZZAD     JB골든에이지예금       예금\n",
       "4  ZZZZBA      JB다이렉트적금       적금"
      ]
     },
     "execution_count": 5,
     "metadata": {},
     "output_type": "execute_result"
    }
   ],
   "source": [
    "data_gds_cd = pd.read_excel(mission_data_xls, sheet_name=2)\n",
    "data_gds_cd.head()"
   ]
  },
  {
   "cell_type": "code",
   "execution_count": 6,
   "id": "d9ec47e2",
   "metadata": {},
   "outputs": [
    {
     "data": {
      "text/html": [
       "<div>\n",
       "<style scoped>\n",
       "    .dataframe tbody tr th:only-of-type {\n",
       "        vertical-align: middle;\n",
       "    }\n",
       "\n",
       "    .dataframe tbody tr th {\n",
       "        vertical-align: top;\n",
       "    }\n",
       "\n",
       "    .dataframe thead th {\n",
       "        text-align: right;\n",
       "    }\n",
       "</style>\n",
       "<table border=\"1\" class=\"dataframe\">\n",
       "  <thead>\n",
       "    <tr style=\"text-align: right;\">\n",
       "      <th></th>\n",
       "      <th>base_dt</th>\n",
       "      <th>acno</th>\n",
       "      <th>gds_cd</th>\n",
       "      <th>stcd</th>\n",
       "      <th>cstno</th>\n",
       "      <th>age</th>\n",
       "      <th>sex</th>\n",
       "      <th>add</th>\n",
       "    </tr>\n",
       "  </thead>\n",
       "  <tbody>\n",
       "    <tr>\n",
       "      <th>0</th>\n",
       "      <td>20220131</td>\n",
       "      <td>1111021010800000</td>\n",
       "      <td>ZZZZAA</td>\n",
       "      <td>정상</td>\n",
       "      <td>30000000111</td>\n",
       "      <td>11</td>\n",
       "      <td>F</td>\n",
       "      <td>전북</td>\n",
       "    </tr>\n",
       "    <tr>\n",
       "      <th>1</th>\n",
       "      <td>20220131</td>\n",
       "      <td>1111021010800001</td>\n",
       "      <td>ZZZZAB</td>\n",
       "      <td>해지</td>\n",
       "      <td>30000000111</td>\n",
       "      <td>11</td>\n",
       "      <td>F</td>\n",
       "      <td>전북</td>\n",
       "    </tr>\n",
       "    <tr>\n",
       "      <th>2</th>\n",
       "      <td>20220228</td>\n",
       "      <td>1111021010800000</td>\n",
       "      <td>ZZZZAA</td>\n",
       "      <td>정상</td>\n",
       "      <td>30000000111</td>\n",
       "      <td>11</td>\n",
       "      <td>F</td>\n",
       "      <td>전북</td>\n",
       "    </tr>\n",
       "    <tr>\n",
       "      <th>3</th>\n",
       "      <td>20220331</td>\n",
       "      <td>1111021010800000</td>\n",
       "      <td>ZZZZAA</td>\n",
       "      <td>정상</td>\n",
       "      <td>30000000111</td>\n",
       "      <td>11</td>\n",
       "      <td>F</td>\n",
       "      <td>전북</td>\n",
       "    </tr>\n",
       "    <tr>\n",
       "      <th>4</th>\n",
       "      <td>20220131</td>\n",
       "      <td>1111021010800002</td>\n",
       "      <td>ZZZZAC</td>\n",
       "      <td>정상</td>\n",
       "      <td>30000000113</td>\n",
       "      <td>12</td>\n",
       "      <td>F</td>\n",
       "      <td>경기</td>\n",
       "    </tr>\n",
       "  </tbody>\n",
       "</table>\n",
       "</div>"
      ],
      "text/plain": [
       "    base_dt              acno  gds_cd stcd        cstno  age sex add\n",
       "0  20220131  1111021010800000  ZZZZAA   정상  30000000111   11   F  전북\n",
       "1  20220131  1111021010800001  ZZZZAB   해지  30000000111   11   F  전북\n",
       "2  20220228  1111021010800000  ZZZZAA   정상  30000000111   11   F  전북\n",
       "3  20220331  1111021010800000  ZZZZAA   정상  30000000111   11   F  전북\n",
       "4  20220131  1111021010800002  ZZZZAC   정상  30000000113   12   F  경기"
      ]
     },
     "execution_count": 6,
     "metadata": {},
     "output_type": "execute_result"
    }
   ],
   "source": [
    "# 테이블 조인\n",
    "left = data_susin\n",
    "right = data_cstno\n",
    "mission_data1 = pd.merge(left, right, on='cstno')\n",
    "mission_data1.head()"
   ]
  },
  {
   "cell_type": "code",
   "execution_count": 7,
   "id": "2de5c911",
   "metadata": {
    "scrolled": false
   },
   "outputs": [
    {
     "data": {
      "text/html": [
       "<div>\n",
       "<style scoped>\n",
       "    .dataframe tbody tr th:only-of-type {\n",
       "        vertical-align: middle;\n",
       "    }\n",
       "\n",
       "    .dataframe tbody tr th {\n",
       "        vertical-align: top;\n",
       "    }\n",
       "\n",
       "    .dataframe thead th {\n",
       "        text-align: right;\n",
       "    }\n",
       "</style>\n",
       "<table border=\"1\" class=\"dataframe\">\n",
       "  <thead>\n",
       "    <tr style=\"text-align: right;\">\n",
       "      <th></th>\n",
       "      <th>base_dt</th>\n",
       "      <th>acno</th>\n",
       "      <th>gds_cd</th>\n",
       "      <th>stcd</th>\n",
       "      <th>cstno</th>\n",
       "      <th>age</th>\n",
       "      <th>sex</th>\n",
       "      <th>add</th>\n",
       "      <th>gds_nm</th>\n",
       "      <th>gds_dvcd</th>\n",
       "    </tr>\n",
       "  </thead>\n",
       "  <tbody>\n",
       "    <tr>\n",
       "      <th>0</th>\n",
       "      <td>20220131</td>\n",
       "      <td>1111021010800000</td>\n",
       "      <td>ZZZZAA</td>\n",
       "      <td>정상</td>\n",
       "      <td>30000000111</td>\n",
       "      <td>11</td>\n",
       "      <td>F</td>\n",
       "      <td>전북</td>\n",
       "      <td>JB다이렉트예금</td>\n",
       "      <td>예금</td>\n",
       "    </tr>\n",
       "    <tr>\n",
       "      <th>1</th>\n",
       "      <td>20220228</td>\n",
       "      <td>1111021010800000</td>\n",
       "      <td>ZZZZAA</td>\n",
       "      <td>정상</td>\n",
       "      <td>30000000111</td>\n",
       "      <td>11</td>\n",
       "      <td>F</td>\n",
       "      <td>전북</td>\n",
       "      <td>JB다이렉트예금</td>\n",
       "      <td>예금</td>\n",
       "    </tr>\n",
       "    <tr>\n",
       "      <th>2</th>\n",
       "      <td>20220331</td>\n",
       "      <td>1111021010800000</td>\n",
       "      <td>ZZZZAA</td>\n",
       "      <td>정상</td>\n",
       "      <td>30000000111</td>\n",
       "      <td>11</td>\n",
       "      <td>F</td>\n",
       "      <td>전북</td>\n",
       "      <td>JB다이렉트예금</td>\n",
       "      <td>예금</td>\n",
       "    </tr>\n",
       "    <tr>\n",
       "      <th>3</th>\n",
       "      <td>20220228</td>\n",
       "      <td>1111021010800039</td>\n",
       "      <td>ZZZZAA</td>\n",
       "      <td>정상</td>\n",
       "      <td>30000000117</td>\n",
       "      <td>16</td>\n",
       "      <td>M</td>\n",
       "      <td>경북</td>\n",
       "      <td>JB다이렉트예금</td>\n",
       "      <td>예금</td>\n",
       "    </tr>\n",
       "    <tr>\n",
       "      <th>4</th>\n",
       "      <td>20220228</td>\n",
       "      <td>1111021010800044</td>\n",
       "      <td>ZZZZAA</td>\n",
       "      <td>정상</td>\n",
       "      <td>30000000117</td>\n",
       "      <td>16</td>\n",
       "      <td>M</td>\n",
       "      <td>경북</td>\n",
       "      <td>JB다이렉트예금</td>\n",
       "      <td>예금</td>\n",
       "    </tr>\n",
       "  </tbody>\n",
       "</table>\n",
       "</div>"
      ],
      "text/plain": [
       "    base_dt              acno  gds_cd stcd        cstno  age sex add  \\\n",
       "0  20220131  1111021010800000  ZZZZAA   정상  30000000111   11   F  전북   \n",
       "1  20220228  1111021010800000  ZZZZAA   정상  30000000111   11   F  전북   \n",
       "2  20220331  1111021010800000  ZZZZAA   정상  30000000111   11   F  전북   \n",
       "3  20220228  1111021010800039  ZZZZAA   정상  30000000117   16   M  경북   \n",
       "4  20220228  1111021010800044  ZZZZAA   정상  30000000117   16   M  경북   \n",
       "\n",
       "     gds_nm gds_dvcd  \n",
       "0  JB다이렉트예금       예금  \n",
       "1  JB다이렉트예금       예금  \n",
       "2  JB다이렉트예금       예금  \n",
       "3  JB다이렉트예금       예금  \n",
       "4  JB다이렉트예금       예금  "
      ]
     },
     "execution_count": 7,
     "metadata": {},
     "output_type": "execute_result"
    }
   ],
   "source": [
    "left = mission_data1\n",
    "right = data_gds_cd\n",
    "mission_data2 = pd.merge(left, right, on='gds_cd')\n",
    "mission_data2.head()"
   ]
  },
  {
   "cell_type": "code",
   "execution_count": 8,
   "id": "7d1eb3bf",
   "metadata": {
    "scrolled": false
   },
   "outputs": [
    {
     "data": {
      "text/html": [
       "<div>\n",
       "<style scoped>\n",
       "    .dataframe tbody tr th:only-of-type {\n",
       "        vertical-align: middle;\n",
       "    }\n",
       "\n",
       "    .dataframe tbody tr th {\n",
       "        vertical-align: top;\n",
       "    }\n",
       "\n",
       "    .dataframe thead th {\n",
       "        text-align: right;\n",
       "    }\n",
       "</style>\n",
       "<table border=\"1\" class=\"dataframe\">\n",
       "  <thead>\n",
       "    <tr style=\"text-align: right;\">\n",
       "      <th></th>\n",
       "      <th>base_dt</th>\n",
       "      <th>acno</th>\n",
       "      <th>gds_cd</th>\n",
       "      <th>stcd</th>\n",
       "      <th>cstno</th>\n",
       "      <th>age</th>\n",
       "      <th>sex</th>\n",
       "      <th>add</th>\n",
       "      <th>gds_nm</th>\n",
       "      <th>gds_dvcd</th>\n",
       "    </tr>\n",
       "  </thead>\n",
       "  <tbody>\n",
       "    <tr>\n",
       "      <th>0</th>\n",
       "      <td>20220131</td>\n",
       "      <td>1111021010800000</td>\n",
       "      <td>ZZZZAA</td>\n",
       "      <td>정상</td>\n",
       "      <td>30000000111</td>\n",
       "      <td>11</td>\n",
       "      <td>F</td>\n",
       "      <td>전북</td>\n",
       "      <td>JB다이렉트예금</td>\n",
       "      <td>예금</td>\n",
       "    </tr>\n",
       "    <tr>\n",
       "      <th>1</th>\n",
       "      <td>20220228</td>\n",
       "      <td>1111021010800000</td>\n",
       "      <td>ZZZZAA</td>\n",
       "      <td>정상</td>\n",
       "      <td>30000000111</td>\n",
       "      <td>11</td>\n",
       "      <td>F</td>\n",
       "      <td>전북</td>\n",
       "      <td>JB다이렉트예금</td>\n",
       "      <td>예금</td>\n",
       "    </tr>\n",
       "    <tr>\n",
       "      <th>2</th>\n",
       "      <td>20220331</td>\n",
       "      <td>1111021010800000</td>\n",
       "      <td>ZZZZAA</td>\n",
       "      <td>정상</td>\n",
       "      <td>30000000111</td>\n",
       "      <td>11</td>\n",
       "      <td>F</td>\n",
       "      <td>전북</td>\n",
       "      <td>JB다이렉트예금</td>\n",
       "      <td>예금</td>\n",
       "    </tr>\n",
       "    <tr>\n",
       "      <th>3</th>\n",
       "      <td>20220228</td>\n",
       "      <td>1111021010800039</td>\n",
       "      <td>ZZZZAA</td>\n",
       "      <td>정상</td>\n",
       "      <td>30000000117</td>\n",
       "      <td>16</td>\n",
       "      <td>M</td>\n",
       "      <td>경북</td>\n",
       "      <td>JB다이렉트예금</td>\n",
       "      <td>예금</td>\n",
       "    </tr>\n",
       "    <tr>\n",
       "      <th>4</th>\n",
       "      <td>20220228</td>\n",
       "      <td>1111021010800044</td>\n",
       "      <td>ZZZZAA</td>\n",
       "      <td>정상</td>\n",
       "      <td>30000000117</td>\n",
       "      <td>16</td>\n",
       "      <td>M</td>\n",
       "      <td>경북</td>\n",
       "      <td>JB다이렉트예금</td>\n",
       "      <td>예금</td>\n",
       "    </tr>\n",
       "    <tr>\n",
       "      <th>...</th>\n",
       "      <td>...</td>\n",
       "      <td>...</td>\n",
       "      <td>...</td>\n",
       "      <td>...</td>\n",
       "      <td>...</td>\n",
       "      <td>...</td>\n",
       "      <td>...</td>\n",
       "      <td>...</td>\n",
       "      <td>...</td>\n",
       "      <td>...</td>\n",
       "    </tr>\n",
       "    <tr>\n",
       "      <th>192</th>\n",
       "      <td>20220331</td>\n",
       "      <td>1111021010800019</td>\n",
       "      <td>ZZZZBC</td>\n",
       "      <td>정상</td>\n",
       "      <td>30000000130</td>\n",
       "      <td>22</td>\n",
       "      <td>F</td>\n",
       "      <td>제주</td>\n",
       "      <td>JB카드재테크적금</td>\n",
       "      <td>적금</td>\n",
       "    </tr>\n",
       "    <tr>\n",
       "      <th>194</th>\n",
       "      <td>20220331</td>\n",
       "      <td>1111021010800174</td>\n",
       "      <td>ZZZZBC</td>\n",
       "      <td>정상</td>\n",
       "      <td>30000000283</td>\n",
       "      <td>55</td>\n",
       "      <td>M</td>\n",
       "      <td>경기</td>\n",
       "      <td>JB카드재테크적금</td>\n",
       "      <td>적금</td>\n",
       "    </tr>\n",
       "    <tr>\n",
       "      <th>195</th>\n",
       "      <td>20220331</td>\n",
       "      <td>1111021010800175</td>\n",
       "      <td>ZZZZBC</td>\n",
       "      <td>정상</td>\n",
       "      <td>30000000284</td>\n",
       "      <td>56</td>\n",
       "      <td>F</td>\n",
       "      <td>인천</td>\n",
       "      <td>JB카드재테크적금</td>\n",
       "      <td>적금</td>\n",
       "    </tr>\n",
       "    <tr>\n",
       "      <th>196</th>\n",
       "      <td>20220331</td>\n",
       "      <td>1111021010800178</td>\n",
       "      <td>ZZZZBC</td>\n",
       "      <td>정상</td>\n",
       "      <td>30000000287</td>\n",
       "      <td>58</td>\n",
       "      <td>M</td>\n",
       "      <td>경기</td>\n",
       "      <td>JB카드재테크적금</td>\n",
       "      <td>적금</td>\n",
       "    </tr>\n",
       "    <tr>\n",
       "      <th>197</th>\n",
       "      <td>20220331</td>\n",
       "      <td>1111021010800195</td>\n",
       "      <td>ZZZZBC</td>\n",
       "      <td>정상</td>\n",
       "      <td>30000000304</td>\n",
       "      <td>70</td>\n",
       "      <td>F</td>\n",
       "      <td>인천</td>\n",
       "      <td>JB카드재테크적금</td>\n",
       "      <td>적금</td>\n",
       "    </tr>\n",
       "  </tbody>\n",
       "</table>\n",
       "<p>187 rows × 10 columns</p>\n",
       "</div>"
      ],
      "text/plain": [
       "      base_dt              acno  gds_cd stcd        cstno  age sex add  \\\n",
       "0    20220131  1111021010800000  ZZZZAA   정상  30000000111   11   F  전북   \n",
       "1    20220228  1111021010800000  ZZZZAA   정상  30000000111   11   F  전북   \n",
       "2    20220331  1111021010800000  ZZZZAA   정상  30000000111   11   F  전북   \n",
       "3    20220228  1111021010800039  ZZZZAA   정상  30000000117   16   M  경북   \n",
       "4    20220228  1111021010800044  ZZZZAA   정상  30000000117   16   M  경북   \n",
       "..        ...               ...     ...  ...          ...  ...  ..  ..   \n",
       "192  20220331  1111021010800019  ZZZZBC   정상  30000000130   22   F  제주   \n",
       "194  20220331  1111021010800174  ZZZZBC   정상  30000000283   55   M  경기   \n",
       "195  20220331  1111021010800175  ZZZZBC   정상  30000000284   56   F  인천   \n",
       "196  20220331  1111021010800178  ZZZZBC   정상  30000000287   58   M  경기   \n",
       "197  20220331  1111021010800195  ZZZZBC   정상  30000000304   70   F  인천   \n",
       "\n",
       "        gds_nm gds_dvcd  \n",
       "0     JB다이렉트예금       예금  \n",
       "1     JB다이렉트예금       예금  \n",
       "2     JB다이렉트예금       예금  \n",
       "3     JB다이렉트예금       예금  \n",
       "4     JB다이렉트예금       예금  \n",
       "..         ...      ...  \n",
       "192  JB카드재테크적금       적금  \n",
       "194  JB카드재테크적금       적금  \n",
       "195  JB카드재테크적금       적금  \n",
       "196  JB카드재테크적금       적금  \n",
       "197  JB카드재테크적금       적금  \n",
       "\n",
       "[187 rows x 10 columns]"
      ]
     },
     "execution_count": 8,
     "metadata": {},
     "output_type": "execute_result"
    }
   ],
   "source": [
    "# 정상계좌만 추출\n",
    "data1 = mission_data2[mission_data2.stcd == '정상']\n",
    "data1"
   ]
  },
  {
   "cell_type": "code",
   "execution_count": 9,
   "id": "1f5e8b4c",
   "metadata": {},
   "outputs": [],
   "source": [
    "# 데이터파일로 저장\n",
    "df = pd.DataFrame(data1)\n",
    "df.to_csv('data/mission_data_v2.csv', sep=',', encoding='UTF-8')"
   ]
  },
  {
   "cell_type": "markdown",
   "id": "6443e97b",
   "metadata": {},
   "source": [
    "### Step1. 2022년 1~3월말 기준 예/적금 좌수 현황"
   ]
  },
  {
   "cell_type": "code",
   "execution_count": 10,
   "id": "f89a13e1",
   "metadata": {
    "scrolled": true
   },
   "outputs": [
    {
     "data": {
      "text/html": [
       "<div>\n",
       "<style scoped>\n",
       "    .dataframe tbody tr th:only-of-type {\n",
       "        vertical-align: middle;\n",
       "    }\n",
       "\n",
       "    .dataframe tbody tr th {\n",
       "        vertical-align: top;\n",
       "    }\n",
       "\n",
       "    .dataframe thead th {\n",
       "        text-align: right;\n",
       "    }\n",
       "</style>\n",
       "<table border=\"1\" class=\"dataframe\">\n",
       "  <thead>\n",
       "    <tr style=\"text-align: right;\">\n",
       "      <th>base_dt</th>\n",
       "      <th>20220131</th>\n",
       "      <th>20220228</th>\n",
       "      <th>20220331</th>\n",
       "    </tr>\n",
       "    <tr>\n",
       "      <th>gds_dvcd</th>\n",
       "      <th></th>\n",
       "      <th></th>\n",
       "      <th></th>\n",
       "    </tr>\n",
       "  </thead>\n",
       "  <tbody>\n",
       "    <tr>\n",
       "      <th>예금</th>\n",
       "      <td>19</td>\n",
       "      <td>39</td>\n",
       "      <td>57</td>\n",
       "    </tr>\n",
       "    <tr>\n",
       "      <th>적금</th>\n",
       "      <td>11</td>\n",
       "      <td>19</td>\n",
       "      <td>42</td>\n",
       "    </tr>\n",
       "  </tbody>\n",
       "</table>\n",
       "</div>"
      ],
      "text/plain": [
       "base_dt   20220131  20220228  20220331\n",
       "gds_dvcd                              \n",
       "예금              19        39        57\n",
       "적금              11        19        42"
      ]
     },
     "execution_count": 10,
     "metadata": {},
     "output_type": "execute_result"
    }
   ],
   "source": [
    "data2 = data1.groupby([\"gds_dvcd\", \"base_dt\"]).size().unstack(1)\n",
    "data2"
   ]
  },
  {
   "cell_type": "code",
   "execution_count": 12,
   "id": "f8642054",
   "metadata": {},
   "outputs": [
    {
     "data": {
      "image/png": "[encoded data removed]",
      "text/plain": [
       "<Figure size 864x432 with 1 Axes>"
      ]
     },
     "metadata": {
      "needs_background": "light"
     },
     "output_type": "display_data"
    }
   ],
   "source": [
    "ax = data2.plot(kind='bar', xlabel='상품', title=\"22.1~3월말 기준 예/적금 좌수 현황\")\n",
    "\n",
    "for c in ax.containers:\n",
    "    labels = [ x.get_height() for x in c ]\n",
    "    ax.bar_label(c, labels=labels, label_type='edge')"
   ]
  },
  {
   "cell_type": "markdown",
   "id": "e6f89903",
   "metadata": {},
   "source": [
    "### Step2. 2022.3월말 기준 다이렉트예금 보유고객 특성별 현황"
   ]
  },
  {
   "cell_type": "markdown",
   "id": "e463eb48",
   "metadata": {},
   "source": [
    "#### Step2-1. 성별"
   ]
  },
  {
   "cell_type": "code",
   "execution_count": 13,
   "id": "bee46a93",
   "metadata": {
    "scrolled": true
   },
   "outputs": [
    {
     "data": {
      "text/html": [
       "<div>\n",
       "<style scoped>\n",
       "    .dataframe tbody tr th:only-of-type {\n",
       "        vertical-align: middle;\n",
       "    }\n",
       "\n",
       "    .dataframe tbody tr th {\n",
       "        vertical-align: top;\n",
       "    }\n",
       "\n",
       "    .dataframe thead th {\n",
       "        text-align: right;\n",
       "    }\n",
       "</style>\n",
       "<table border=\"1\" class=\"dataframe\">\n",
       "  <thead>\n",
       "    <tr style=\"text-align: right;\">\n",
       "      <th></th>\n",
       "      <th>base_dt</th>\n",
       "      <th>acno</th>\n",
       "      <th>gds_cd</th>\n",
       "      <th>stcd</th>\n",
       "      <th>cstno</th>\n",
       "      <th>age</th>\n",
       "      <th>sex</th>\n",
       "      <th>add</th>\n",
       "      <th>gds_nm</th>\n",
       "      <th>gds_dvcd</th>\n",
       "    </tr>\n",
       "  </thead>\n",
       "  <tbody>\n",
       "    <tr>\n",
       "      <th>2</th>\n",
       "      <td>20220331</td>\n",
       "      <td>1111021010800000</td>\n",
       "      <td>ZZZZAA</td>\n",
       "      <td>정상</td>\n",
       "      <td>30000000111</td>\n",
       "      <td>11</td>\n",
       "      <td>F</td>\n",
       "      <td>전북</td>\n",
       "      <td>JB다이렉트예금</td>\n",
       "      <td>예금</td>\n",
       "    </tr>\n",
       "    <tr>\n",
       "      <th>8</th>\n",
       "      <td>20220331</td>\n",
       "      <td>1111021010800011</td>\n",
       "      <td>ZZZZAA</td>\n",
       "      <td>정상</td>\n",
       "      <td>30000000122</td>\n",
       "      <td>13</td>\n",
       "      <td>M</td>\n",
       "      <td>경기</td>\n",
       "      <td>JB다이렉트예금</td>\n",
       "      <td>예금</td>\n",
       "    </tr>\n",
       "    <tr>\n",
       "      <th>9</th>\n",
       "      <td>20220331</td>\n",
       "      <td>1111021010800197</td>\n",
       "      <td>ZZZZAA</td>\n",
       "      <td>정상</td>\n",
       "      <td>30000000122</td>\n",
       "      <td>13</td>\n",
       "      <td>M</td>\n",
       "      <td>경기</td>\n",
       "      <td>JB다이렉트예금</td>\n",
       "      <td>예금</td>\n",
       "    </tr>\n",
       "    <tr>\n",
       "      <th>12</th>\n",
       "      <td>20220331</td>\n",
       "      <td>1111021010800018</td>\n",
       "      <td>ZZZZAA</td>\n",
       "      <td>정상</td>\n",
       "      <td>30000000126</td>\n",
       "      <td>21</td>\n",
       "      <td>M</td>\n",
       "      <td>경북</td>\n",
       "      <td>JB다이렉트예금</td>\n",
       "      <td>예금</td>\n",
       "    </tr>\n",
       "    <tr>\n",
       "      <th>15</th>\n",
       "      <td>20220331</td>\n",
       "      <td>1111021010800021</td>\n",
       "      <td>ZZZZAA</td>\n",
       "      <td>정상</td>\n",
       "      <td>30000000132</td>\n",
       "      <td>26</td>\n",
       "      <td>F</td>\n",
       "      <td>전북</td>\n",
       "      <td>JB다이렉트예금</td>\n",
       "      <td>예금</td>\n",
       "    </tr>\n",
       "  </tbody>\n",
       "</table>\n",
       "</div>"
      ],
      "text/plain": [
       "     base_dt              acno  gds_cd stcd        cstno  age sex add  \\\n",
       "2   20220331  1111021010800000  ZZZZAA   정상  30000000111   11   F  전북   \n",
       "8   20220331  1111021010800011  ZZZZAA   정상  30000000122   13   M  경기   \n",
       "9   20220331  1111021010800197  ZZZZAA   정상  30000000122   13   M  경기   \n",
       "12  20220331  1111021010800018  ZZZZAA   정상  30000000126   21   M  경북   \n",
       "15  20220331  1111021010800021  ZZZZAA   정상  30000000132   26   F  전북   \n",
       "\n",
       "      gds_nm gds_dvcd  \n",
       "2   JB다이렉트예금       예금  \n",
       "8   JB다이렉트예금       예금  \n",
       "9   JB다이렉트예금       예금  \n",
       "12  JB다이렉트예금       예금  \n",
       "15  JB다이렉트예금       예금  "
      ]
     },
     "execution_count": 13,
     "metadata": {},
     "output_type": "execute_result"
    }
   ],
   "source": [
    "# 22.3월기준 / 정상 / JB다이렉트예금 DF 생성\n",
    "d_3m_tmp  = mission_data2[mission_data2.base_dt == 20220331]\n",
    "d_3m_tmp2 = d_3m_tmp[d_3m_tmp.stcd == '정상']\n",
    "d_3m_tmp3 = d_3m_tmp2[d_3m_tmp2.gds_nm == 'JB다이렉트예금']\n",
    "d_3m_tmp3.head()"
   ]
  },
  {
   "cell_type": "code",
   "execution_count": 14,
   "id": "ee42ed5b",
   "metadata": {},
   "outputs": [
    {
     "data": {
      "text/html": [
       "<div>\n",
       "<style scoped>\n",
       "    .dataframe tbody tr th:only-of-type {\n",
       "        vertical-align: middle;\n",
       "    }\n",
       "\n",
       "    .dataframe tbody tr th {\n",
       "        vertical-align: top;\n",
       "    }\n",
       "\n",
       "    .dataframe thead th {\n",
       "        text-align: right;\n",
       "    }\n",
       "</style>\n",
       "<table border=\"1\" class=\"dataframe\">\n",
       "  <thead>\n",
       "    <tr style=\"text-align: right;\">\n",
       "      <th></th>\n",
       "      <th>base_dt</th>\n",
       "      <th>acno</th>\n",
       "      <th>gds_cd</th>\n",
       "      <th>stcd</th>\n",
       "      <th>cstno</th>\n",
       "      <th>age</th>\n",
       "      <th>sex</th>\n",
       "      <th>add</th>\n",
       "      <th>gds_nm</th>\n",
       "      <th>gds_dvcd</th>\n",
       "    </tr>\n",
       "  </thead>\n",
       "  <tbody>\n",
       "    <tr>\n",
       "      <th>2</th>\n",
       "      <td>20220331</td>\n",
       "      <td>1111021010800000</td>\n",
       "      <td>ZZZZAA</td>\n",
       "      <td>정상</td>\n",
       "      <td>30000000111</td>\n",
       "      <td>11</td>\n",
       "      <td>F</td>\n",
       "      <td>전북</td>\n",
       "      <td>JB다이렉트예금</td>\n",
       "      <td>예금</td>\n",
       "    </tr>\n",
       "    <tr>\n",
       "      <th>8</th>\n",
       "      <td>20220331</td>\n",
       "      <td>1111021010800011</td>\n",
       "      <td>ZZZZAA</td>\n",
       "      <td>정상</td>\n",
       "      <td>30000000122</td>\n",
       "      <td>13</td>\n",
       "      <td>M</td>\n",
       "      <td>경기</td>\n",
       "      <td>JB다이렉트예금</td>\n",
       "      <td>예금</td>\n",
       "    </tr>\n",
       "    <tr>\n",
       "      <th>12</th>\n",
       "      <td>20220331</td>\n",
       "      <td>1111021010800018</td>\n",
       "      <td>ZZZZAA</td>\n",
       "      <td>정상</td>\n",
       "      <td>30000000126</td>\n",
       "      <td>21</td>\n",
       "      <td>M</td>\n",
       "      <td>경북</td>\n",
       "      <td>JB다이렉트예금</td>\n",
       "      <td>예금</td>\n",
       "    </tr>\n",
       "    <tr>\n",
       "      <th>15</th>\n",
       "      <td>20220331</td>\n",
       "      <td>1111021010800021</td>\n",
       "      <td>ZZZZAA</td>\n",
       "      <td>정상</td>\n",
       "      <td>30000000132</td>\n",
       "      <td>26</td>\n",
       "      <td>F</td>\n",
       "      <td>전북</td>\n",
       "      <td>JB다이렉트예금</td>\n",
       "      <td>예금</td>\n",
       "    </tr>\n",
       "    <tr>\n",
       "      <th>18</th>\n",
       "      <td>20220331</td>\n",
       "      <td>1111021010800026</td>\n",
       "      <td>ZZZZAA</td>\n",
       "      <td>정상</td>\n",
       "      <td>30000000137</td>\n",
       "      <td>25</td>\n",
       "      <td>M</td>\n",
       "      <td>경북</td>\n",
       "      <td>JB다이렉트예금</td>\n",
       "      <td>예금</td>\n",
       "    </tr>\n",
       "  </tbody>\n",
       "</table>\n",
       "</div>"
      ],
      "text/plain": [
       "     base_dt              acno  gds_cd stcd        cstno  age sex add  \\\n",
       "2   20220331  1111021010800000  ZZZZAA   정상  30000000111   11   F  전북   \n",
       "8   20220331  1111021010800011  ZZZZAA   정상  30000000122   13   M  경기   \n",
       "12  20220331  1111021010800018  ZZZZAA   정상  30000000126   21   M  경북   \n",
       "15  20220331  1111021010800021  ZZZZAA   정상  30000000132   26   F  전북   \n",
       "18  20220331  1111021010800026  ZZZZAA   정상  30000000137   25   M  경북   \n",
       "\n",
       "      gds_nm gds_dvcd  \n",
       "2   JB다이렉트예금       예금  \n",
       "8   JB다이렉트예금       예금  \n",
       "12  JB다이렉트예금       예금  \n",
       "15  JB다이렉트예금       예금  \n",
       "18  JB다이렉트예금       예금  "
      ]
     },
     "execution_count": 14,
     "metadata": {},
     "output_type": "execute_result"
    }
   ],
   "source": [
    "# 고객 중복 제거\n",
    "d_3m = d_3m_tmp3.drop_duplicates(['cstno'])\n",
    "d_3m.head()"
   ]
  },
  {
   "cell_type": "code",
   "execution_count": 15,
   "id": "fda14eb7",
   "metadata": {
    "scrolled": true
   },
   "outputs": [
    {
     "data": {
      "text/plain": [
       "F    1\n",
       "M    1\n",
       "M    1\n",
       "F    1\n",
       "M    1\n",
       "F    1\n",
       "M    1\n",
       "F    1\n",
       "F    1\n",
       "F    1\n",
       "F    1\n",
       "F    1\n",
       "M    1\n",
       "F    1\n",
       "F    1\n",
       "F    1\n",
       "M    1\n",
       "F    1\n",
       "F    1\n",
       "F    1\n",
       "F    1\n",
       "F    1\n",
       "F    1\n",
       "F    1\n",
       "F    1\n",
       "F    1\n",
       "F    1\n",
       "M    1\n",
       "F    1\n",
       "F    1\n",
       "F    1\n",
       "M    1\n",
       "F    1\n",
       "F    1\n",
       "M    1\n",
       "dtype: int64"
      ]
     },
     "execution_count": 15,
     "metadata": {},
     "output_type": "execute_result"
    }
   ],
   "source": [
    "df_sex_3m = pd.Series(1, index=d_3m['sex'].values)\n",
    "df_sex_3m"
   ]
  },
  {
   "cell_type": "code",
   "execution_count": 16,
   "id": "e9736d64",
   "metadata": {
    "scrolled": true
   },
   "outputs": [
    {
     "data": {
      "text/plain": [
       "{'F': 26, 'M': 9}"
      ]
     },
     "execution_count": 16,
     "metadata": {},
     "output_type": "execute_result"
    }
   ],
   "source": [
    "def get_sex_cnt(d_3m):\n",
    "    sex_cnt = {}\n",
    "    for idx in range(len(d_3m.index)):\n",
    "        \n",
    "        sex   = d_3m.index[idx]\n",
    "        count = d_3m[idx]\n",
    "        \n",
    "        if sex_cnt.get(sex):\n",
    "            sex_cnt[sex] += count\n",
    "        else:\n",
    "            sex_cnt[sex] = count\n",
    "            \n",
    "    return sex_cnt\n",
    "\n",
    "sex_dict = get_sex_cnt(df_sex_3m)\n",
    "sex_dict"
   ]
  },
  {
   "cell_type": "code",
   "execution_count": 17,
   "id": "35d2d700",
   "metadata": {},
   "outputs": [
    {
     "data": {
      "text/plain": [
       "F    26\n",
       "M     9\n",
       "Name: 성별, dtype: int64"
      ]
     },
     "execution_count": 17,
     "metadata": {},
     "output_type": "execute_result"
    }
   ],
   "source": [
    "sex_stat = Series(sex_dict)\n",
    "sex_stat.name = \"성별\"\n",
    "sex_stat"
   ]
  },
  {
   "cell_type": "code",
   "execution_count": 18,
   "id": "a8813a57",
   "metadata": {
    "scrolled": false
   },
   "outputs": [
    {
     "data": {
      "text/plain": [
       "<matplotlib.legend.Legend at 0x1d196ec3e50>"
      ]
     },
     "execution_count": 18,
     "metadata": {},
     "output_type": "execute_result"
    },
    {
     "data": {
      "image/png": "[encoded data removed]",
      "text/plain": [
       "<Figure size 864x432 with 1 Axes>"
      ]
     },
     "metadata": {},
     "output_type": "display_data"
    }
   ],
   "source": [
    "sex_stat.plot(kind='pie', autopct='%.1f%%');\n",
    "plt.rcParams[\"figure.figsize\"] = [8,8]\n",
    "plt.title(\"\\n22.3월말 성별 다이렉트예금 현황\\n\", fontsize=20)\n",
    "plt.legend()"
   ]
  },
  {
   "cell_type": "markdown",
   "id": "c9da5486",
   "metadata": {},
   "source": [
    "#### Step2-2. 연령별"
   ]
  },
  {
   "cell_type": "code",
   "execution_count": 19,
   "id": "b41a4f46",
   "metadata": {},
   "outputs": [
    {
     "data": {
      "text/plain": [
       "2     11\n",
       "8     13\n",
       "12    21\n",
       "15    26\n",
       "18    25\n",
       "21    26\n",
       "24    29\n",
       "27    22\n",
       "30    22\n",
       "34    34\n",
       "38    35\n",
       "52    43\n",
       "53    43\n",
       "54    43\n",
       "55    43\n",
       "56    43\n",
       "57    43\n",
       "58    47\n",
       "59    44\n",
       "60    44\n",
       "61    48\n",
       "62    48\n",
       "63    46\n",
       "64    46\n",
       "65    49\n",
       "66    50\n",
       "67    54\n",
       "68    54\n",
       "69    55\n",
       "70    55\n",
       "71    55\n",
       "72    62\n",
       "73    66\n",
       "74    69\n",
       "75    71\n",
       "Name: age, dtype: int64"
      ]
     },
     "execution_count": 19,
     "metadata": {},
     "output_type": "execute_result"
    }
   ],
   "source": [
    "d_3m['age']"
   ]
  },
  {
   "cell_type": "code",
   "execution_count": 20,
   "id": "6e332d06",
   "metadata": {},
   "outputs": [],
   "source": [
    "age_series = d_3m.age.dropna().apply(lambda age: math.floor(age / 10) * 10)\n",
    "                    #NaN값 날리기                  #floor -> 소숫점값 날려버리기\n",
    "age_series.name = \"Age_Group\""
   ]
  },
  {
   "cell_type": "code",
   "execution_count": 21,
   "id": "0fea6290",
   "metadata": {
    "scrolled": true
   },
   "outputs": [
    {
     "data": {
      "text/plain": [
       "2     10\n",
       "8     10\n",
       "12    20\n",
       "15    20\n",
       "18    20\n",
       "21    20\n",
       "24    20\n",
       "27    20\n",
       "30    20\n",
       "34    30\n",
       "38    30\n",
       "52    40\n",
       "53    40\n",
       "54    40\n",
       "55    40\n",
       "56    40\n",
       "57    40\n",
       "58    40\n",
       "59    40\n",
       "60    40\n",
       "61    40\n",
       "62    40\n",
       "63    40\n",
       "64    40\n",
       "65    40\n",
       "66    50\n",
       "67    50\n",
       "68    50\n",
       "69    50\n",
       "70    50\n",
       "71    50\n",
       "72    60\n",
       "73    60\n",
       "74    60\n",
       "75    70\n",
       "Name: Age_Group, dtype: int64"
      ]
     },
     "execution_count": 21,
     "metadata": {},
     "output_type": "execute_result"
    }
   ],
   "source": [
    "age_stat = age_series\n",
    "age_stat"
   ]
  },
  {
   "cell_type": "code",
   "execution_count": 22,
   "id": "4de99cc3",
   "metadata": {},
   "outputs": [
    {
     "data": {
      "text/plain": [
       "40    14\n",
       "20     7\n",
       "50     6\n",
       "60     3\n",
       "10     2\n",
       "30     2\n",
       "70     1\n",
       "Name: Age_Group, dtype: int64"
      ]
     },
     "execution_count": 22,
     "metadata": {},
     "output_type": "execute_result"
    }
   ],
   "source": [
    "age_stat.value_counts()"
   ]
  },
  {
   "cell_type": "code",
   "execution_count": 23,
   "id": "2a6a7498",
   "metadata": {},
   "outputs": [
    {
     "data": {
      "image/png": "[encoded data removed]",
      "text/plain": [
       "<Figure size 576x576 with 1 Axes>"
      ]
     },
     "metadata": {},
     "output_type": "display_data"
    }
   ],
   "source": [
    "plt.rcParams[\"figure.figsize\"] = [8,8]\n",
    "\n",
    "labels = ['10대', '20대', '30대', '40대', '50대', '60대이상']\n",
    "# sizes = age_stat.value_counts()   -> 순서가 정렬이 안돼서 일단 별도표기\n",
    "sizes = [2, 7, 2, 14, 6, 4]\n",
    "\n",
    "fig1, ax1 = plt.subplots()\n",
    "ax1.pie(sizes, labels=labels, autopct='%1.1f%%')\n",
    "plt.title(\"\\n22.3월말 연령별 다이렉트예금 현황\\n\", fontsize=20)\n",
    "plt.legend(loc=1)\n",
    "plt.show()"
   ]
  },
  {
   "cell_type": "markdown",
   "id": "4cef946e",
   "metadata": {},
   "source": [
    "#### Step2-3. 지역별"
   ]
  },
  {
   "cell_type": "code",
   "execution_count": 24,
   "id": "8a8e829e",
   "metadata": {
    "scrolled": true
   },
   "outputs": [
    {
     "data": {
      "text/plain": [
       "전북    1\n",
       "경기    1\n",
       "경북    1\n",
       "전북    1\n",
       "경북    1\n",
       "제주    1\n",
       "경남    1\n",
       "경기    1\n",
       "인천    1\n",
       "경북    1\n",
       "제주    1\n",
       "서울    1\n",
       "경기    1\n",
       "인천    1\n",
       "전북    1\n",
       "전남    1\n",
       "서울    1\n",
       "전북    1\n",
       "인천    1\n",
       "서울    1\n",
       "인천    1\n",
       "전북    1\n",
       "경기    1\n",
       "인천    1\n",
       "서울    1\n",
       "경기    1\n",
       "서울    1\n",
       "경기    1\n",
       "인천    1\n",
       "전북    1\n",
       "서울    1\n",
       "전북    1\n",
       "서울    1\n",
       "경기    1\n",
       "전북    1\n",
       "dtype: int64"
      ]
     },
     "execution_count": 24,
     "metadata": {},
     "output_type": "execute_result"
    }
   ],
   "source": [
    "df_add_3m = pd.Series(1, index=d_3m['add'].values)\n",
    "df_add_3m"
   ]
  },
  {
   "cell_type": "code",
   "execution_count": 25,
   "id": "2d283180",
   "metadata": {},
   "outputs": [
    {
     "data": {
      "text/plain": [
       "{'전북': 8, '경기': 7, '경북': 3, '제주': 2, '경남': 1, '인천': 6, '서울': 7, '전남': 1}"
      ]
     },
     "execution_count": 25,
     "metadata": {},
     "output_type": "execute_result"
    }
   ],
   "source": [
    "def get_add_cnt(d_3m):\n",
    "    add_cnt = {}\n",
    "    for idx in range(len(d_3m.index)):\n",
    "        \n",
    "        add   = d_3m.index[idx]\n",
    "        count = d_3m[idx]\n",
    "        \n",
    "        if add_cnt.get(add):\n",
    "            add_cnt[add] += count\n",
    "        else:\n",
    "            add_cnt[add] = count\n",
    "            \n",
    "    return add_cnt\n",
    "\n",
    "add_dict = get_add_cnt(df_add_3m)\n",
    "add_dict"
   ]
  },
  {
   "cell_type": "code",
   "execution_count": 26,
   "id": "2b2ef2d8",
   "metadata": {
    "scrolled": false
   },
   "outputs": [
    {
     "data": {
      "text/plain": [
       "전북    8\n",
       "경기    7\n",
       "경북    3\n",
       "제주    2\n",
       "경남    1\n",
       "인천    6\n",
       "서울    7\n",
       "전남    1\n",
       "Name: 지역별, dtype: int64"
      ]
     },
     "execution_count": 26,
     "metadata": {},
     "output_type": "execute_result"
    }
   ],
   "source": [
    "add_stat = Series(add_dict)\n",
    "add_stat.name = \"지역별\"\n",
    "add_stat"
   ]
  },
  {
   "cell_type": "code",
   "execution_count": 27,
   "id": "de467001",
   "metadata": {
    "scrolled": true
   },
   "outputs": [
    {
     "data": {
      "text/plain": [
       "<matplotlib.legend.Legend at 0x1d1964124f0>"
      ]
     },
     "execution_count": 27,
     "metadata": {},
     "output_type": "execute_result"
    },
    {
     "data": {
      "image/png": "[encoded data removed]",
      "text/plain": [
       "<Figure size 576x576 with 1 Axes>"
      ]
     },
     "metadata": {},
     "output_type": "display_data"
    }
   ],
   "source": [
    "plt.rcParams[\"figure.figsize\"] = [8,8]\n",
    "# crime_stat.plot(kind='pie');\n",
    "\n",
    "add_stat.plot(kind='pie', autopct='%.1f%%');\n",
    "plt.legend(loc=1)\n",
    "plt.title(\"\\n22.3월말 지역별 다이렉트예금 현황\\n\", fontsize=20)\n",
    "plt.legend()"
   ]
  },
  {
   "cell_type": "markdown",
   "id": "52a3ad1c",
   "metadata": {},
   "source": [
    "### Step3. 함수 모듈화 및 1paper 구현"
   ]
  },
  {
   "cell_type": "code",
   "execution_count": 28,
   "id": "0d46c593",
   "metadata": {},
   "outputs": [],
   "source": [
    "def draw_pieplot(param):\n",
    "    if param == 'Sex':\n",
    "        sex_stat.plot(kind='pie', autopct='%.1f%%');\n",
    "        plt.rcParams[\"figure.figsize\"] = [10,10]\n",
    "        plt.title(\"\\n22.3월말 성별 다이렉트예금 현황\\n\", fontsize=20)\n",
    "        plt.legend()\n",
    "   \n",
    "    elif param == 'Age':\n",
    "        plt.rcParams[\"figure.figsize\"] = [10,10]\n",
    "        labels = ['10대', '20대', '30대', '40대', '50대', '60대이상']\n",
    "        sizes = [2, 7, 2, 14, 6, 4]\n",
    "        plt.pie(sizes, labels=labels, autopct='%1.1f%%')    # 수정사항\n",
    "        plt.title(\"\\n22.3월말 연령별 다이렉트예금 현황\\n\", fontsize=20)\n",
    "        plt.legend(loc=1)\n",
    "\n",
    "    elif param == 'Add':\n",
    "        plt.rcParams[\"figure.figsize\"] = [10,10]\n",
    "        add_stat.plot(kind='pie', autopct='%.1f%%');\n",
    "        plt.legend(loc=1)\n",
    "        plt.title(\"\\n22.3월말 지역별 다이렉트예금 현황\\n\", fontsize=20)\n",
    "        plt.legend()\n",
    "        \n",
    "    else :\n",
    "        print(\"Not Operation !!\")\n",
    "        return"
   ]
  },
  {
   "cell_type": "code",
   "execution_count": 29,
   "id": "a5c408b2",
   "metadata": {},
   "outputs": [
    {
     "data": {
      "image/png": "[encoded data removed]",
      "text/plain": [
       "<Figure size 2160x2160 with 3 Axes>"
      ]
     },
     "metadata": {},
     "output_type": "display_data"
    }
   ],
   "source": [
    "plt.figure(figsize=(30, 30))\n",
    "\n",
    "plt.subplot(311)\n",
    "draw_pieplot('Sex')\n",
    "\n",
    "plt.subplot(312)\n",
    "draw_pieplot('Age')\n",
    "\n",
    "plt.subplot(313)\n",
    "draw_pieplot('Add')"
   ]
  }
 ],
 "metadata": {
  "kernelspec": {
   "display_name": "Python 3 (ipykernel)",
   "language": "python",
   "name": "python3"
  },
  "language_info": {
   "codemirror_mode": {
    "name": "ipython",
    "version": 3
   },
   "file_extension": ".py",
   "mimetype": "text/x-python",
   "name": "python",
   "nbconvert_exporter": "python",
   "pygments_lexer": "ipython3",
   "version": "3.9.12"
  }
 },
 "nbformat": 4,
 "nbformat_minor": 5
}
