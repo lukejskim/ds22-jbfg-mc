{
 "cells": [
  {
   "cell_type": "code",
   "execution_count": 129,
   "metadata": {},
   "outputs": [],
   "source": [
    "import platform\n",
    "\n",
    "import numpy as np\n",
    "import pandas as pd\n",
    "import matplotlib.pyplot as plt\n",
    "import seaborn as sns\n",
    "import math\n",
    "sns.set()"
   ]
  },
  {
   "cell_type": "code",
   "execution_count": 130,
   "metadata": {},
   "outputs": [
    {
     "data": {
      "text/html": [
       "<div>\n",
       "<style scoped>\n",
       "    .dataframe tbody tr th:only-of-type {\n",
       "        vertical-align: middle;\n",
       "    }\n",
       "\n",
       "    .dataframe tbody tr th {\n",
       "        vertical-align: top;\n",
       "    }\n",
       "\n",
       "    .dataframe thead th {\n",
       "        text-align: right;\n",
       "    }\n",
       "</style>\n",
       "<table border=\"1\" class=\"dataframe\">\n",
       "  <thead>\n",
       "    <tr style=\"text-align: right;\">\n",
       "      <th></th>\n",
       "      <th>acno</th>\n",
       "      <th>sex</th>\n",
       "      <th>brth_dt</th>\n",
       "      <th>age</th>\n",
       "      <th>exec_dt</th>\n",
       "      <th>exec_amt</th>\n",
       "      <th>cur_bal</th>\n",
       "      <th>ovrd_dvcd</th>\n",
       "    </tr>\n",
       "  </thead>\n",
       "  <tbody>\n",
       "    <tr>\n",
       "      <th>0</th>\n",
       "      <td>37201901102569</td>\n",
       "      <td>F</td>\n",
       "      <td>19760424</td>\n",
       "      <td>46</td>\n",
       "      <td>20190101</td>\n",
       "      <td>25000000</td>\n",
       "      <td>9684729</td>\n",
       "      <td>0</td>\n",
       "    </tr>\n",
       "    <tr>\n",
       "      <th>1</th>\n",
       "      <td>37201901114919</td>\n",
       "      <td>M</td>\n",
       "      <td>19610205</td>\n",
       "      <td>61</td>\n",
       "      <td>20211004</td>\n",
       "      <td>20000000</td>\n",
       "      <td>1911878</td>\n",
       "      <td>0</td>\n",
       "    </tr>\n",
       "    <tr>\n",
       "      <th>2</th>\n",
       "      <td>37201901172631</td>\n",
       "      <td>M</td>\n",
       "      <td>19650714</td>\n",
       "      <td>57</td>\n",
       "      <td>20190123</td>\n",
       "      <td>25000000</td>\n",
       "      <td>14145389</td>\n",
       "      <td>0</td>\n",
       "    </tr>\n",
       "    <tr>\n",
       "      <th>3</th>\n",
       "      <td>37202001038750</td>\n",
       "      <td>F</td>\n",
       "      <td>19560524</td>\n",
       "      <td>66</td>\n",
       "      <td>20190709</td>\n",
       "      <td>5000000</td>\n",
       "      <td>0</td>\n",
       "      <td>0</td>\n",
       "    </tr>\n",
       "    <tr>\n",
       "      <th>4</th>\n",
       "      <td>37201901092321</td>\n",
       "      <td>F</td>\n",
       "      <td>19690709</td>\n",
       "      <td>53</td>\n",
       "      <td>20200516</td>\n",
       "      <td>30000000</td>\n",
       "      <td>4752273</td>\n",
       "      <td>0</td>\n",
       "    </tr>\n",
       "  </tbody>\n",
       "</table>\n",
       "</div>"
      ],
      "text/plain": [
       "             acno sex   brth_dt  age   exec_dt  exec_amt   cur_bal  ovrd_dvcd\n",
       "0  37201901102569   F  19760424   46  20190101  25000000   9684729          0\n",
       "1  37201901114919   M  19610205   61  20211004  20000000   1911878          0\n",
       "2  37201901172631   M  19650714   57  20190123  25000000  14145389          0\n",
       "3  37202001038750   F  19560524   66  20190709   5000000         0          0\n",
       "4  37201901092321   F  19690709   53  20200516  30000000   4752273          0"
      ]
     },
     "execution_count": 130,
     "metadata": {},
     "output_type": "execute_result"
    }
   ],
   "source": [
    "df_bank = pd.read_excel('data/raw_data.xlsx',sheet_name = 'bank_data')\n",
    "df_bank.head()"
   ]
  },
  {
   "cell_type": "code",
   "execution_count": 131,
   "metadata": {},
   "outputs": [
    {
     "data": {
      "text/html": [
       "<div>\n",
       "<style scoped>\n",
       "    .dataframe tbody tr th:only-of-type {\n",
       "        vertical-align: middle;\n",
       "    }\n",
       "\n",
       "    .dataframe tbody tr th {\n",
       "        vertical-align: top;\n",
       "    }\n",
       "\n",
       "    .dataframe thead th {\n",
       "        text-align: right;\n",
       "    }\n",
       "</style>\n",
       "<table border=\"1\" class=\"dataframe\">\n",
       "  <thead>\n",
       "    <tr style=\"text-align: right;\">\n",
       "      <th></th>\n",
       "      <th>acno</th>\n",
       "      <th>CB</th>\n",
       "      <th>SP</th>\n",
       "      <th>R</th>\n",
       "      <th>PI</th>\n",
       "    </tr>\n",
       "  </thead>\n",
       "  <tbody>\n",
       "    <tr>\n",
       "      <th>0</th>\n",
       "      <td>37201901102569</td>\n",
       "      <td>8</td>\n",
       "      <td>6</td>\n",
       "      <td>3</td>\n",
       "      <td>5</td>\n",
       "    </tr>\n",
       "    <tr>\n",
       "      <th>1</th>\n",
       "      <td>37201901114919</td>\n",
       "      <td>1</td>\n",
       "      <td>8</td>\n",
       "      <td>4</td>\n",
       "      <td>2</td>\n",
       "    </tr>\n",
       "    <tr>\n",
       "      <th>2</th>\n",
       "      <td>37201901172631</td>\n",
       "      <td>10</td>\n",
       "      <td>9</td>\n",
       "      <td>9</td>\n",
       "      <td>1</td>\n",
       "    </tr>\n",
       "    <tr>\n",
       "      <th>3</th>\n",
       "      <td>37202001038750</td>\n",
       "      <td>2</td>\n",
       "      <td>8</td>\n",
       "      <td>2</td>\n",
       "      <td>5</td>\n",
       "    </tr>\n",
       "    <tr>\n",
       "      <th>4</th>\n",
       "      <td>37201901092321</td>\n",
       "      <td>7</td>\n",
       "      <td>5</td>\n",
       "      <td>8</td>\n",
       "      <td>3</td>\n",
       "    </tr>\n",
       "  </tbody>\n",
       "</table>\n",
       "</div>"
      ],
      "text/plain": [
       "             acno  CB  SP  R  PI\n",
       "0  37201901102569   8   6  3   5\n",
       "1  37201901114919   1   8  4   2\n",
       "2  37201901172631  10   9  9   1\n",
       "3  37202001038750   2   8  2   5\n",
       "4  37201901092321   7   5  8   3"
      ]
     },
     "execution_count": 131,
     "metadata": {},
     "output_type": "execute_result"
    }
   ],
   "source": [
    "df_cb = pd.read_excel('data/raw_data.xlsx',sheet_name = 'cb_data')\n",
    "df_cb.head()"
   ]
  },
  {
   "cell_type": "code",
   "execution_count": 132,
   "metadata": {},
   "outputs": [
    {
     "name": "stdout",
     "output_type": "stream",
     "text": [
      "<class 'pandas.core.frame.DataFrame'>\n",
      "RangeIndex: 18857 entries, 0 to 18856\n",
      "Data columns (total 8 columns):\n",
      " #   Column     Non-Null Count  Dtype \n",
      "---  ------     --------------  ----- \n",
      " 0   acno       18857 non-null  int64 \n",
      " 1   sex        18857 non-null  object\n",
      " 2   brth_dt    18857 non-null  int64 \n",
      " 3   age        18857 non-null  int64 \n",
      " 4   exec_dt    18857 non-null  int64 \n",
      " 5   exec_amt   18857 non-null  int64 \n",
      " 6   cur_bal    18857 non-null  int64 \n",
      " 7   ovrd_dvcd  18857 non-null  int64 \n",
      "dtypes: int64(7), object(1)\n",
      "memory usage: 1.2+ MB\n"
     ]
    }
   ],
   "source": [
    "df_bank.info()  #null 값 없음"
   ]
  },
  {
   "cell_type": "code",
   "execution_count": 133,
   "metadata": {},
   "outputs": [],
   "source": [
    "age_series = df_bank.age.apply(lambda age: math.floor(age/10)*10)\n",
    "age_series.name = 'Age_group'"
   ]
  },
  {
   "cell_type": "code",
   "execution_count": 134,
   "metadata": {},
   "outputs": [
    {
     "data": {
      "text/html": [
       "<div>\n",
       "<style scoped>\n",
       "    .dataframe tbody tr th:only-of-type {\n",
       "        vertical-align: middle;\n",
       "    }\n",
       "\n",
       "    .dataframe tbody tr th {\n",
       "        vertical-align: top;\n",
       "    }\n",
       "\n",
       "    .dataframe thead th {\n",
       "        text-align: right;\n",
       "    }\n",
       "</style>\n",
       "<table border=\"1\" class=\"dataframe\">\n",
       "  <thead>\n",
       "    <tr style=\"text-align: right;\">\n",
       "      <th></th>\n",
       "      <th>acno</th>\n",
       "      <th>sex</th>\n",
       "      <th>brth_dt</th>\n",
       "      <th>age</th>\n",
       "      <th>exec_dt</th>\n",
       "      <th>exec_amt</th>\n",
       "      <th>cur_bal</th>\n",
       "      <th>ovrd_dvcd</th>\n",
       "      <th>Age_group</th>\n",
       "    </tr>\n",
       "  </thead>\n",
       "  <tbody>\n",
       "    <tr>\n",
       "      <th>0</th>\n",
       "      <td>37201901102569</td>\n",
       "      <td>F</td>\n",
       "      <td>19760424</td>\n",
       "      <td>46</td>\n",
       "      <td>20190101</td>\n",
       "      <td>25000000</td>\n",
       "      <td>9684729</td>\n",
       "      <td>0</td>\n",
       "      <td>40</td>\n",
       "    </tr>\n",
       "    <tr>\n",
       "      <th>1</th>\n",
       "      <td>37201901114919</td>\n",
       "      <td>M</td>\n",
       "      <td>19610205</td>\n",
       "      <td>61</td>\n",
       "      <td>20211004</td>\n",
       "      <td>20000000</td>\n",
       "      <td>1911878</td>\n",
       "      <td>0</td>\n",
       "      <td>60</td>\n",
       "    </tr>\n",
       "    <tr>\n",
       "      <th>2</th>\n",
       "      <td>37201901172631</td>\n",
       "      <td>M</td>\n",
       "      <td>19650714</td>\n",
       "      <td>57</td>\n",
       "      <td>20190123</td>\n",
       "      <td>25000000</td>\n",
       "      <td>14145389</td>\n",
       "      <td>0</td>\n",
       "      <td>50</td>\n",
       "    </tr>\n",
       "    <tr>\n",
       "      <th>3</th>\n",
       "      <td>37202001038750</td>\n",
       "      <td>F</td>\n",
       "      <td>19560524</td>\n",
       "      <td>66</td>\n",
       "      <td>20190709</td>\n",
       "      <td>5000000</td>\n",
       "      <td>0</td>\n",
       "      <td>0</td>\n",
       "      <td>60</td>\n",
       "    </tr>\n",
       "    <tr>\n",
       "      <th>4</th>\n",
       "      <td>37201901092321</td>\n",
       "      <td>F</td>\n",
       "      <td>19690709</td>\n",
       "      <td>53</td>\n",
       "      <td>20200516</td>\n",
       "      <td>30000000</td>\n",
       "      <td>4752273</td>\n",
       "      <td>0</td>\n",
       "      <td>50</td>\n",
       "    </tr>\n",
       "    <tr>\n",
       "      <th>...</th>\n",
       "      <td>...</td>\n",
       "      <td>...</td>\n",
       "      <td>...</td>\n",
       "      <td>...</td>\n",
       "      <td>...</td>\n",
       "      <td>...</td>\n",
       "      <td>...</td>\n",
       "      <td>...</td>\n",
       "      <td>...</td>\n",
       "    </tr>\n",
       "    <tr>\n",
       "      <th>18852</th>\n",
       "      <td>37202001242757</td>\n",
       "      <td>M</td>\n",
       "      <td>19711104</td>\n",
       "      <td>51</td>\n",
       "      <td>20201031</td>\n",
       "      <td>50000000</td>\n",
       "      <td>23922316</td>\n",
       "      <td>0</td>\n",
       "      <td>50</td>\n",
       "    </tr>\n",
       "    <tr>\n",
       "      <th>18853</th>\n",
       "      <td>37201901207056</td>\n",
       "      <td>F</td>\n",
       "      <td>19541104</td>\n",
       "      <td>68</td>\n",
       "      <td>20210308</td>\n",
       "      <td>1500000</td>\n",
       "      <td>0</td>\n",
       "      <td>0</td>\n",
       "      <td>60</td>\n",
       "    </tr>\n",
       "    <tr>\n",
       "      <th>18854</th>\n",
       "      <td>37202001275417</td>\n",
       "      <td>F</td>\n",
       "      <td>19540409</td>\n",
       "      <td>68</td>\n",
       "      <td>20200309</td>\n",
       "      <td>30000000</td>\n",
       "      <td>1668160</td>\n",
       "      <td>0</td>\n",
       "      <td>60</td>\n",
       "    </tr>\n",
       "    <tr>\n",
       "      <th>18855</th>\n",
       "      <td>37202001049400</td>\n",
       "      <td>M</td>\n",
       "      <td>19950327</td>\n",
       "      <td>27</td>\n",
       "      <td>20200107</td>\n",
       "      <td>5000000</td>\n",
       "      <td>0</td>\n",
       "      <td>0</td>\n",
       "      <td>20</td>\n",
       "    </tr>\n",
       "    <tr>\n",
       "      <th>18856</th>\n",
       "      <td>37201901249122</td>\n",
       "      <td>F</td>\n",
       "      <td>19930930</td>\n",
       "      <td>29</td>\n",
       "      <td>20190921</td>\n",
       "      <td>3000000</td>\n",
       "      <td>0</td>\n",
       "      <td>0</td>\n",
       "      <td>20</td>\n",
       "    </tr>\n",
       "  </tbody>\n",
       "</table>\n",
       "<p>18857 rows × 9 columns</p>\n",
       "</div>"
      ],
      "text/plain": [
       "                 acno sex   brth_dt  age   exec_dt  exec_amt   cur_bal  \\\n",
       "0      37201901102569   F  19760424   46  20190101  25000000   9684729   \n",
       "1      37201901114919   M  19610205   61  20211004  20000000   1911878   \n",
       "2      37201901172631   M  19650714   57  20190123  25000000  14145389   \n",
       "3      37202001038750   F  19560524   66  20190709   5000000         0   \n",
       "4      37201901092321   F  19690709   53  20200516  30000000   4752273   \n",
       "...               ...  ..       ...  ...       ...       ...       ...   \n",
       "18852  37202001242757   M  19711104   51  20201031  50000000  23922316   \n",
       "18853  37201901207056   F  19541104   68  20210308   1500000         0   \n",
       "18854  37202001275417   F  19540409   68  20200309  30000000   1668160   \n",
       "18855  37202001049400   M  19950327   27  20200107   5000000         0   \n",
       "18856  37201901249122   F  19930930   29  20190921   3000000         0   \n",
       "\n",
       "       ovrd_dvcd  Age_group  \n",
       "0              0         40  \n",
       "1              0         60  \n",
       "2              0         50  \n",
       "3              0         60  \n",
       "4              0         50  \n",
       "...          ...        ...  \n",
       "18852          0         50  \n",
       "18853          0         60  \n",
       "18854          0         60  \n",
       "18855          0         20  \n",
       "18856          0         20  \n",
       "\n",
       "[18857 rows x 9 columns]"
      ]
     },
     "execution_count": 134,
     "metadata": {},
     "output_type": "execute_result"
    }
   ],
   "source": [
    "df_bank = pd.concat(\n",
    "        [df_bank, age_series],\n",
    "        axis=1)\n",
    "df_bank"
   ]
  },
  {
   "cell_type": "code",
   "execution_count": 135,
   "metadata": {},
   "outputs": [
    {
     "data": {
      "text/plain": [
       "Age_group\n",
       "20    1034\n",
       "30    3929\n",
       "40    5911\n",
       "50    5566\n",
       "60    2206\n",
       "70     199\n",
       "80      12\n",
       "dtype: int64"
      ]
     },
     "execution_count": 135,
     "metadata": {},
     "output_type": "execute_result"
    }
   ],
   "source": [
    "# 단순 카운트\n",
    "age_group_df = df_bank.groupby(\"Age_group\").size()\n",
    "age_group_df"
   ]
  },
  {
   "cell_type": "code",
   "execution_count": null,
   "metadata": {},
   "outputs": [],
   "source": []
  },
  {
   "cell_type": "code",
   "execution_count": null,
   "metadata": {},
   "outputs": [],
   "source": []
  },
  {
   "cell_type": "code",
   "execution_count": null,
   "metadata": {},
   "outputs": [],
   "source": []
  },
  {
   "cell_type": "code",
   "execution_count": null,
   "metadata": {},
   "outputs": [],
   "source": []
  },
  {
   "cell_type": "code",
   "execution_count": null,
   "metadata": {},
   "outputs": [],
   "source": []
  },
  {
   "cell_type": "code",
   "execution_count": 104,
   "metadata": {},
   "outputs": [],
   "source": [
    "df_age = df_bank.groupby(\"Age_group\").agg({\"ovrd_dvcd\": \"mean\"})"
   ]
  },
  {
   "cell_type": "code",
   "execution_count": 105,
   "metadata": {},
   "outputs": [],
   "source": [
    "df_age.ovrd_dvcd = df_age.ovrd_dvcd*100"
   ]
  },
  {
   "cell_type": "code",
   "execution_count": 106,
   "metadata": {},
   "outputs": [],
   "source": [
    "df_age.index = ['20대','30대','40대','50대','60대','70대','80대']"
   ]
  },
  {
   "cell_type": "code",
   "execution_count": 107,
   "metadata": {},
   "outputs": [],
   "source": [
    "df_age.ovrd_dvcd = round(df_age.ovrd_dvcd,2)"
   ]
  },
  {
   "cell_type": "code",
   "execution_count": 108,
   "metadata": {},
   "outputs": [],
   "source": [
    "import numpy as np\n",
    "import seaborn as sns\n",
    "import matplotlib.pyplot as plt\n",
    "\n",
    "from IPython.display import Image\n",
    "from matplotlib import font_manager, rc\n",
    "\n",
    "# font_name = font_manager.FontProperties(fname=\"/Library/Fonts/AppleGothic.ttf\").get_name()\n",
    "font_name = font_manager.FontProperties(fname=\"C:/Windows/Fonts/MALGUN.TTF\").get_name()\n",
    "rc('font', family=font_name)\n",
    "\n",
    "plt.rcParams['figure.figsize'] = (10,6)\n",
    "%matplotlib inline"
   ]
  },
  {
   "cell_type": "code",
   "execution_count": 115,
   "metadata": {},
   "outputs": [
    {
     "data": {
      "text/plain": [
       "[Text(0, 0, '5.42'),\n",
       " Text(0, 0, '4.15'),\n",
       " Text(0, 0, '4.23'),\n",
       " Text(0, 0, '3.4'),\n",
       " Text(0, 0, '3.04'),\n",
       " Text(0, 0, '3.52'),\n",
       " Text(0, 0, '8.33')]"
      ]
     },
     "execution_count": 115,
     "metadata": {},
     "output_type": "execute_result"
    },
    {
     "data": {
      "image/png": "[encoded data removed]",
      "text/plain": [
       "<Figure size 432x288 with 1 Axes>"
      ]
     },
     "metadata": {
      "needs_background": "light"
     },
     "output_type": "display_data"
    }
   ],
   "source": [
    "#f, ax = plt.subplots(1, 1, figsize=(7, 5), sharex=True)\n",
    "\n",
    "ax = sns.barplot(y=df_age.index, x ='ovrd_dvcd',\n",
    "                data = df_age, palette = 'Blues_d'\n",
    "                )\n",
    "ax.bar_label(ax.containers[0])"
   ]
  },
  {
   "cell_type": "code",
   "execution_count": 75,
   "metadata": {},
   "outputs": [
    {
     "data": {
      "text/plain": [
       "Int64Index([20, 30, 40, 50, 60, 70, 80], dtype='int64', name='Age_group')"
      ]
     },
     "execution_count": 75,
     "metadata": {},
     "output_type": "execute_result"
    }
   ],
   "source": [
    "for index, row in "
   ]
  },
  {
   "cell_type": "code",
   "execution_count": null,
   "metadata": {},
   "outputs": [],
   "source": []
  }
 ],
 "metadata": {
  "kernelspec": {
   "display_name": "Python 3",
   "language": "python",
   "name": "python3"
  },
  "language_info": {
   "codemirror_mode": {
    "name": "ipython",
    "version": 3
   },
   "file_extension": ".py",
   "mimetype": "text/x-python",
   "name": "python",
   "nbconvert_exporter": "python",
   "pygments_lexer": "ipython3",
   "version": "3.8.3"
  }
 },
 "nbformat": 4,
 "nbformat_minor": 5
}
