{
 "cells": [
  {
   "cell_type": "code",
   "execution_count": 1,
   "id": "ba165f4b",
   "metadata": {},
   "outputs": [],
   "source": [
    "from bs4 import BeautifulSoup\n",
    "from selenium import webdriver\n",
    "from selenium.webdriver.common.by import By\n",
    "from IPython.display import Image\n",
    "\n",
    "import pandas as pd\n",
    "import time\n",
    "import re"
   ]
  },
  {
   "cell_type": "markdown",
   "id": "a3cd325a",
   "metadata": {},
   "source": [
    "## <font color='blue'> 1. '금융사기'  키워드 => 구글 기사 크롤링"
   ]
  },
  {
   "cell_type": "code",
   "execution_count": 2,
   "id": "bb152eb1",
   "metadata": {},
   "outputs": [
    {
     "name": "stderr",
     "output_type": "stream",
     "text": [
      "C:\\Users\\student\\AppData\\Local\\Temp\\ipykernel_5920\\3620293503.py:3: DeprecationWarning: executable_path has been deprecated, please pass in a Service object\n",
      "  driver = webdriver.Chrome(executable_path=driver_path)\n"
     ]
    }
   ],
   "source": [
    "# 웹드라이브로 크롬브라우즈 띄운다.\n",
    "driver_path = \"../driver/chromedriver.exe\"\n",
    "driver = webdriver.Chrome(executable_path=driver_path)"
   ]
  },
  {
   "cell_type": "code",
   "execution_count": 3,
   "id": "8732fe5c",
   "metadata": {},
   "outputs": [],
   "source": [
    "url_page = 'https://www.google.com/'\n",
    "driver.get(url_page)"
   ]
  },
  {
   "cell_type": "code",
   "execution_count": 4,
   "id": "f89b9473",
   "metadata": {},
   "outputs": [],
   "source": [
    "# 검색창에 검색어 입력\n",
    "\n",
    "search_word ='금융사기'\n",
    "css_selector= 'body > div.L3eUgb > div.o3j99.ikrT4e.om7nvf > form > div:nth-child(1) > div.A8SBwf > div.RNNXgb > div > div.a4bIc > input' \n",
    "driver.find_element(by=By.CSS_SELECTOR, value=css_selector).send_keys(search_word)"
   ]
  },
  {
   "cell_type": "code",
   "execution_count": 6,
   "id": "64a30025",
   "metadata": {},
   "outputs": [],
   "source": [
    "# 검색버튼 클릭\n",
    "\n",
    "css_selector= 'body > div.L3eUgb > div.o3j99.ikrT4e.om7nvf > form > div:nth-child(1) > div.A8SBwf.emcav > div.UUbT9 > div.aajZCb > div.CqAVzb.lJ9FBc > center > input.gNO89b' \n",
    "driver.find_element(by=By.CSS_SELECTOR, value=css_selector).click()"
   ]
  },
  {
   "cell_type": "code",
   "execution_count": 7,
   "id": "35a246d3",
   "metadata": {},
   "outputs": [],
   "source": [
    "# 뉴스 페이지 들어가기\n",
    "\n",
    "css_selector = '#hdtb-msb > div:nth-child(1) > div > div:nth-child(3) > a'\n",
    "driver.find_element(by=By.CSS_SELECTOR, value=css_selector).click()"
   ]
  },
  {
   "cell_type": "code",
   "execution_count": null,
   "id": "a06f319c",
   "metadata": {},
   "outputs": [],
   "source": []
  },
  {
   "cell_type": "code",
   "execution_count": null,
   "id": "0e60e87e",
   "metadata": {},
   "outputs": [],
   "source": []
  },
  {
   "cell_type": "markdown",
   "id": "bad2766d",
   "metadata": {},
   "source": [
    "## <font color = 'blue'> 2. 뉴스 제목 크롤링 모듈 만들기"
   ]
  },
  {
   "cell_type": "code",
   "execution_count": 8,
   "id": "87dfed5c",
   "metadata": {},
   "outputs": [],
   "source": [
    "# 페이지 BeautifulSoup 객체로 가져온다\n",
    "html = driver.page_source\n",
    "soup = BeautifulSoup(html, \"lxml\") "
   ]
  },
  {
   "cell_type": "code",
   "execution_count": 9,
   "id": "5f8e752a",
   "metadata": {},
   "outputs": [],
   "source": [
    "listOfsoup = soup.find('div','v7W49e')  #한페이지 전체 가져옴"
   ]
  },
  {
   "cell_type": "code",
   "execution_count": 10,
   "id": "03d4d9ac",
   "metadata": {},
   "outputs": [
    {
     "data": {
      "text/plain": [
       "10"
      ]
     },
     "execution_count": 10,
     "metadata": {},
     "output_type": "execute_result"
    }
   ],
   "source": [
    "listOfsoup = soup.find_all('div','xuvV6b BGxR7d')  # 기사별로 가져온다.\n",
    "len(listOfsoup)  # 한페이지에 10개 기사 존재"
   ]
  },
  {
   "cell_type": "code",
   "execution_count": 11,
   "id": "8c371676",
   "metadata": {},
   "outputs": [
    {
     "data": {
      "text/plain": [
       "'새마을금고 “고위직 연루 380억원 대출사기, 송구…재발 방지” - 조선비즈'"
      ]
     },
     "execution_count": 11,
     "metadata": {},
     "output_type": "execute_result"
    }
   ],
   "source": [
    "# 1페이지 첫번째 기사 제목 가져오기 \n",
    "\n",
    "listOfsoup[0].find('div','mCBkyc y355M ynAwRc MBeuO nDgy9d').get_text()"
   ]
  },
  {
   "cell_type": "code",
   "execution_count": 12,
   "id": "54f4b882",
   "metadata": {},
   "outputs": [
    {
     "name": "stdout",
     "output_type": "stream",
     "text": [
      "0 새마을금고 “고위직 연루 380억원 대출사기, 송구…재발 방지” - 조선비즈\n",
      "1 가짜 다이아몬드로 새마을금고 상대 380억원 대출사기 일당 기소\n",
      "2 가짜 다이아몬드 담보로 새마을금고 380억원 대출사기 일당 기소\n",
      "3 가짜 다이아로 380억대 대출사기…새마을금고 간부도 유착 정황\n",
      "4 은행 간부까지 얽혔다…380억 ‘가짜 다이아몬드’ 대출사기 전말\n",
      "5 전남일보\n",
      "6 [영상] 새마을금고 간부 대출사기에 가담...가능했던 이유는?\n",
      "7 “기지국 노출 피하려고”…또 진화한 전화금융사기\n",
      "8 새마을금고 왜 이러나...이번엔 고위직이 380억 원대 대출 사기 가담\n",
      "9 한준호 의원, 노인 대상 금융사기 차단 복지법 개정안 발의\n"
     ]
    }
   ],
   "source": [
    "#  1페이지 기사 10개 모두 가져오기\n",
    "for idx in range(len(listOfsoup)):\n",
    "    article = listOfsoup[idx].find('div','mCBkyc y355M ynAwRc MBeuO nDgy9d').text\n",
    "    print(idx, article)"
   ]
  },
  {
   "cell_type": "code",
   "execution_count": null,
   "id": "770c41fe",
   "metadata": {},
   "outputs": [],
   "source": []
  },
  {
   "cell_type": "code",
   "execution_count": 13,
   "id": "a696efa8",
   "metadata": {},
   "outputs": [
    {
     "name": "stdout",
     "output_type": "stream",
     "text": [
      "새마을금고 “고위직 연루 380억원 대출사기, 송구…재발 방지” - 조선비즈\n",
      "가짜 다이아몬드로 새마을금고 상대 380억원 대출사기 일당 기소\n",
      "가짜 다이아몬드 담보로 새마을금고 380억원 대출사기 일당 기소\n",
      "가짜 다이아로 380억대 대출사기…새마을금고 간부도 유착 정황\n",
      "은행 간부까지 얽혔다…380억 ‘가짜 다이아몬드’ 대출사기 전말\n",
      "전남일보\n",
      "[영상] 새마을금고 간부 대출사기에 가담...가능했던 이유는?\n",
      "“기지국 노출 피하려고”…또 진화한 전화금융사기\n",
      "새마을금고 왜 이러나...이번엔 고위직이 380억 원대 대출 사기 가담\n",
      "한준호 의원, 노인 대상 금융사기 차단 복지법 개정안 발의\n",
      "오픈씨 내부자 거래 수사, 금융사기로 끝날까?\n",
      "목포경찰서-금융기관, 전화금융사기 근절 위한 업무협약 체결\n",
      "경찰청 전화금융사기 특별자수 및 신고 기간 운영\n",
      "‘왜 인적 없는 지하에서 돈을 세지?’···건물관리인 신고로 전화금융사기 수거책 체포\n",
      "\"골프 홀인원까지 거짓 청구…작년 보험사기액 9천434억원\"\n",
      "보험硏 '지난해 보험사기 적발액 9434억원…보험사기방지법 정비해야' - 서울경제\n",
      "'골프 홀인원까지 거짓 청구…작년 보험사기액 9434억 원'\n",
      "소상공인 손실보상 가장한 전화금융사기 주의\n",
      "추경 등 소상공인 지원자금 지급? 해당 유형 보이스피싱·스미싱 급증\n",
      "전국 돌며 1억7000만원 가로챈 전화금융사기 전달책 구속\n",
      "월배농협, 전기통신금융사기 피해예방교육 실시\n",
      "380억원 대출사기 새마을금고 \"전액 상환…재발 방지책 마련\"(종합)\n",
      "\"이윤주 수사관입니다\"...전화금융사기의 진화\n",
      "380억 대출사기에 새마을금고 “송구하다…전액 상환완료”\n",
      "충남 보령경찰서-보령수협, 전화금융사기 업무협약 체결\n",
      "모바일이 두려운 어르신, 은행에서 1대1 과외 받아요\n",
      "경북경찰청,'전화금융사기 특별 자수·신고 기간' 운영\n",
      "매월 4일은 '전화금융사기 근절의 날'…'일단 끊고 일단 의심'\n",
      "가짜 보석 담보로 380억 대출사기…새마을금고 등친 일당 기소\n",
      "검찰, 다단계 금융사기 의혹 루나 사태 수사 본격화 | 서울특별시 미디어재단 TBS\n",
      "검찰, 다단계 금융사기 의혹 루나 사태 수사 본격화 | 서울특별시 미디어재단 TBS\n",
      "전국서 1억 7천만 원 송금 전화금융사기 수거책 구속\n",
      "“알바 줄게, 통장 다오”…교묘해지는 보이스피싱 덫\n",
      "경북 경찰청, '전화금융사기 특별 자수‧신고 기간' 운영\n",
      "\"취업 시켜줄게\" 대출사기였다…금감원, '소비자 경보' 발령\n",
      "전국 돌며 1억 7천만 원 송금 전화금융사기 수거책 구속\n",
      "가짜 다이아몬드로 380억원 사기 대출한 일당 기소…새마을금고 전 직원도 가담\n",
      "금융 사기와 사이버 위협, 금융 기관과 고객에게 점점 더 큰 위협된다\n",
      "새마을금고중앙회 \"380억 대출사기 송구 …재판 결과 따라 추가 조치\"\n",
      "'현금 수거 알바는 범죄'…전화금융사기 수거책 78%가 청년층\n",
      "고령층 금융피해 막심한데…보호장치는 '미흡'\n",
      "기지로 전화금융 사기 예방한 편의점 직원\n",
      "[대구소식]강북경찰, 전화금융사기 피해예방 은행직원에 감사장 등\n",
      "고수익 알바를 미끼로 전화금융사기 수거책 모집 주의\n",
      "신한금융, KT와 손잡고 금융사기 탐지기술 개발한다\n",
      "평택경찰서, 전화금융사기 총력대응 한다\n",
      "회생제도 악용·고의적 연체 잡는다…피플펀드, AI금융사기 탐지지스템 도입\n",
      "4월 전화금융사기 증가…'코로나19 지원금' 미끼문자 주의\n",
      "AI로 금융사기 막는다…신한금융, KT와 협력\n",
      "용인서부서, 전화금융사기 범인 검거 기여 '피싱지킴이' 선정\n",
      "AI로 금융사기 막는다…신한금융, KT와 협력\n",
      "전주완산경찰서, 보이스피싱 예방한 은행원에 감사장 전달\n",
      "밀레니얼 세대, 금융사기 피해 호소 가장 많아\n",
      "빌 게이츠, 가상화폐·NFT '폰지사기' 비판…거래소들 감원 바람\n",
      "전화금융사기 대포폰 공급 일당 검거…5명 구속\n",
      "제주경찰청, 보이스피싱 사기 예방한 직원에 감사패\n",
      "경북경찰, 전화금융사기 특별 자수·신고기간 운영\n",
      "\"AI로 대출 사기 잡아낸다\" 독특한 핀테크 만든 김대윤 피플펀드 대표\n",
      "의성경찰서, 현금요구, 전화금융사기(보이스피싱) 주의\n",
      "37명에게 7억3천만 원 가로챈 전화금융사기 수금책 구속\n",
      "기지로 전화금융 사기 예방한 편의점 직원\n",
      "\"은행직원 같지 않은데\"…식당 주인이 금융사기 막아\n",
      "\"분명 엄마 번호였는데\"...신종 전화금융사기 주의보\n",
      "[케이에스피뉴스] 경찰청, 전화금융사기 특별 자수·신고 기간 운영\n",
      "KT, 신한금융과 금융사기·보이스피싱 근절 '맞손'\n",
      "\"추경 손실보상 대상입니다\"…보이스피싱 미끼문자 주의\n",
      "노숙자 갑자기 취직해 2억 전세?…국민주택 대출사기 11억 편취\n",
      "[게시판] 피플펀드, 자체 AI 금융사기 탐지시스템 구축\n",
      "피플펀드, AI 금융사기 탐지시스템 구축…“100% 예측 목표”\n",
      "[오늘의 경제상식] 큐빅을 다이아로 새마을금고의 대출 사기, 구분하는 방법\n",
      "뉴시스\n",
      "피플펀드, AI 금융사기 탐지시스템 구축 및 성능 강화 - 조선비즈\n",
      "'은행직원처럼' 7억 챙겨 조직에 넘긴 전화금융사기 수거책 구속\n",
      "세종북부경찰, 전화금융사기 피해예방 및 협업강화를 위한 간담회 열어\n",
      "ATM기기서 전화금융사기 피해금 송금하던 수거책 덜미\n",
      "BNK경남은행, 서부노인복지관에 '금융사기 예방 교육' 지원\n",
      "피플펀드, 업계 최초 AI 금융사기 탐지시스템 적용 - 서울경제\n",
      "매년 늘어나는 다중사기범죄 피해…경찰, 대응 종합계획 마련\n",
      "남대전농협, 조합원금융사기피해 예방교육 실시\n",
      "신한금융그룹, KT와 인공지능으로 금융사기범죄 예방 시스템 고도화\n",
      "“가족·지인 사칭 '메신저피싱' 주의하세요” - 정책뉴스 | 뉴스\n",
      "\"노숙자 내세워 가짜 계약\"...주택 전세자금 대출 사기 일당 기소\n",
      "“전화금융사기 꼼짝 마”…현금운반책 잡은 농협 직원\n",
      "신한금융-KT, 금융사기범죄 탐지·예방 기술개발 '맞손'\n",
      "KT-신한금융그룹, '금융사기범죄 예방' MOU - BI KOREA\n",
      "IBK기업은행,‘전기통신금융사기 AI 모니터링시스템’통해 대포통장 발생 70% 감축\n",
      "제주서 2000만원 전화금융사기 피해 막은 은행원 감사장 받아\n",
      "신한금융-KT, 금융사기범죄 탐지 기술 개발 맞손\n",
      "앱 하나로 금융사기까지 막는 NEW 'KB스타뱅킹'\n",
      "경남경찰청, 전화금융사기 범죄 근절 위한 간담회\n",
      "통신사기피해환급법에 따른 개인정보 처리와 보호\n",
      "경남경찰청, 전화금융사기 범죄 근절 위한 간담회\n",
      "\"우리 직원 아닌데…\" 전화금융사기 막은 농협 직원\n",
      "'고액 알바 유혹' 전화금융사기 수금책 20대 검거\n",
      "KT-신한금융그룹, '금융사기범죄 예방' MOU\n",
      "전화금융사기 현금 수거책 20대 여성 구속\n",
      "평택경찰서 전화금융사기 취약계층 대상 홍보 강화\n",
      "5兆 금융사기 8만 피해자 울분의 10년\n",
      "“지역·세대 따라 금융사기·금융회사 인식차 커”\n",
      "'경찰이다' 속여 전화금융사기 수거책 돈 가로챈 30대 구속\n",
      "전국 돌며 1억7000만원 가로챈 전화금융사기 전달책 구속\n",
      "고령자 보이스피싱 피해 매년 '수 백억'…노인금융피해방지법 시급\n",
      "검찰, 금융브로커 등 200억대 자영업자 대출 사기 일당 검서\n",
      "자금세탁ㆍ금융사기 방지 위해…\"데이터 플랫폼 구축, 투자자 보호 필요해\"\n",
      "[뉴스경남] '전화금융사기 범죄 근절 협력' 힘 모은다\n",
      "제주경찰청, 전화금융사기 피해 예방 금융기관에 감사패\n",
      "전주완산경찰서, 전화금융사기 피해 막은 은행원에 감사장\n",
      "NH농협은행 삼천동지점, 직원 전기통신금융사기 피해 막아\n",
      "경찰, '저금리 대출' 전화금융사기 조직원 16명 구속\n",
      "코로나 대출 사기 증가... 서민 노린 악성앱 판친다\n",
      "경찰, '저금리 대출' 전화금융사기 조직원 16명 구속\n",
      "200억 가짜 세금계산서로 30억대 ‘코로나 대출’ 사기\n",
      "'쉬운 대출' 득본 금융사…명의도용 범죄책임 '쏙' 빠진 판례 바뀔까\n",
      "“컴퓨터 문 앞에 놔둬” PC방 알바 속인 전화금융사기…경찰, 전달책 검거\n",
      "IMF \"피라미드 사기\" 루나 사태 후폭풍‥2차 고소 임박\n",
      "[기고] 정부지원금을 사칭하는 금융사기 주의 당부\n",
      "청년 취업 미끼로 유인 후 개인정보 빼내 대출 사기\n",
      "광장 금융위-금감원-檢출신 금융규제팀, 사모펀드 금융사기 자문\n",
      "KT·신한금융, 서민 울리는 금융사기 탐지·예방기술 개발 맞손\n",
      "제천경찰서, 전화금융사기 막은 은행직원에게 감사장\n",
      "국민권익위 3월 민원예보 발령, '전화금융사기(보이스피싱)' 관련 민원 급증\n",
      "새마을금고 “'380억 대출사기', 내부통제시스템에 발견”\n",
      "군위농협, 금융사기 피해예방·대포통장 근절 캠페인 펼쳐\n",
      "새마을금고, 380억 대출사기 등 잇단 파문에 “송구...재발 방지”\n",
      "전화금융사기 현금수거책 징역 1년 8개월\n",
      "남대전농협, 조합원금융사기피해 예방교육 실시\n",
      "누군가 당신 명의로 몰래 '비대면 대출' 수천만원 받고 있다\n",
      "신분증 사본에 쉽게 뚫린다 - 스마트폰 금융 시대 구멍 난 보안\n",
      "\"귀하는 재난지원금 신청 대상입니다\"…지난달 전화·금융사기 급증\n",
      "태양광 투자하면 ‘연 24%’ 고수익…3600억 금융사기 일당 검거\n",
      "경찰관 사칭 전화금융사기 현금수거책 30대 구속\n",
      "뉴시스\n",
      "피플펀드, 'AI 금융사기 탐지 시스템' 자체 구축한다\n",
      "전화금융사기 조직 지시 따라 현금 2억3천 전달한 20대 실형\n",
      "경찰청, 내일부터 전화금융사기 특별 자수·신고 기간 운영\n",
      "“코로나 한시대출” 문자 속지 마세요…계좌 털려요\n",
      "동광양농협 '금융사기‧대포통장 근절' 홍보 캠페인 전개\n",
      "'가족 번호로 전화' 신종 전화금융사기 주의보\n",
      "보이스피싱과의 전쟁 시작됐다...국회·기업, 피해 예방 박차\n",
      "BNK경남은행, '전기통신금융사기 예방 · 범죄피해자 지원 업무 협약' 체결\n",
      "[소비자를 위한 신문] 전화금융사기 범죄피해 경고, 4월 피해액 최다\n",
      "\"취업한 회사 수상하다\"...전화금융사기 범죄 막은 20대\n",
      "전화금융사기 피해 예방 은행원에게 감사장 수여\n",
      "엄마 번호라 전화 받았는데 협박범…교활해지는 피싱 사기(종합)\n",
      "태백농협, 금융사기 예방·대포통장 근절 고객 홍보 캠페인 실시\n",
      "교촌F&B, 대구경찰서 손잡고 전화금융사기 예방 캠페인 나서\n",
      "'070 번호가 010으로 둔갑'…신종 보이스피싱 주의보\n",
      "신한카드 \"車할부금융 신종사기 주의\"\n",
      "작년 제주 전화금융사기 피해액 102억…전년 대비 20%↑\n",
      "AI로 보이스피싱 막는다…KT, 신한금융그룹과 맞손\n",
      "'국제 금융사기 'MBI' 주동자 엄벌을'…대구서 피해자 집회\n",
      "사천경찰, 전화금융사기 상습 전문 현금수거책 30대 구속\n",
      "신한금융, KT와 금융사기범죄 탐지 및 예방 기술 개발을 위한 MOU 체결\n",
      "대출 사기에 마약·성매매까지...조직 일당 22명 검거\n",
      "사기 막는 첨단기술…보이스피싱, AI로 잡는다\n",
      "뉴시스\n",
      "신한금융, KT와 금융사기범죄 탐지·예방기술 개발\n",
      "경찰, 전화금융사기 특별 자수·신고기간 운영\n",
      "NIA | 금융 사기부터 교통사고까지…'빅데이터'로 예방\n",
      "전화금융사기 8명에 3억원 편취한 20대 검거...법원 ‘초범·전과 없다’ 영장기각\n",
      "'전화금융사기 특별 자수·신고 기간' 운영\n",
      "피플펀드, 머신러닝 활용 금융사기 탐지시스템 구축\n",
      "전북 장수경찰서, 금융사기 예방 우체국장 감사장 수여\n",
      "'취업하려다가 대출 사기만 당했네'… 대학생 대상 작업대출 소비자경보 - 서울경제\n",
      "이더리움 창시자, 테라 사태에 `폰지사기 코인실험` 중단 촉구 | 서울특별시 미디어재단 TBS\n",
      "저축은행 업권, 명절 연휴 '금융 사기' 방기 총력\n",
      "가족·지인 사칭 '메신저피싱' 급증... 2021년 피해액 991억원\n",
      "가짜 다이아몬드로 새마을금고 380억원 대출사기 일당 기소\n",
      "'가짜 다이아 담보' 380억 대출사기…새마을금고 “전액 상환완료”\n",
      "청년 전세대출 딜레마… \"사기 막으려니 전셋집 마련도 막혀\"\n",
      "\"휴대폰이 깨져서\"...딸 사칭 기프트카드 사기 막은 편의점 종업원\n",
      "경찰청, 전화금융사기 범죄피해 경고 < 서울 < 보도자료(전국) < 기사본문\n",
      "중국 거점 전화금융사기 일당 검거…탈북민 등 4명 구속\n",
      "\"대출 명의 빌려주면 20만원\"…이면계약 금융사기 주의보\n",
      "신한금융그룹, KT와 금융사기범죄 예방 위해 손잡다 - 서울경제\n",
      "대구경찰청-교촌에프앤비, 전화금융사기 예방 업무협약\n",
      "대구북구署, 전화금융사기 예방 홍보\n",
      "뉴시스\n",
      "경기농협, 통신금융사기 피해예방·대포통장 근절 캠페인\n",
      "시골판 금융 사기…은행 간부 죽더니 예금 이자 끊겼다\n",
      "e대한경제\n",
      "전화금융사기 현금 인출책 20대 여성 집행유예 2년\n",
      "‘메신저피싱 피해’ 1년 새 168% 급증…신종 사기수법 성행\n",
      "[경남소식] 경남경찰-경남은행, 전기통신금융사기 업무협약\n",
      "'아묻따' 고수익 보장?···\"삐빅- 사기입니다\" 설 연휴 코인·전화금융 사기주의보\n",
      "피플펀드, 'AI 금융사기 탐지시스템' 도입\n",
      "인천계양경찰서, 전화금융사기 예방한 시민에게 감사장 수여\n",
      "검찰, 보완수사로 ‘자영업자 사업자대출’ 사기 일당 검거 - 서울경제\n",
      "이명수 의원, 전화금융사기 예방 유공 '아산북부신협 박경남 과장' 표창\n",
      "전화금융사기 예방 시민 2명'피싱지킴이'선정\n",
      "보이스피싱 등 '경제범죄'도 신상공개 추진…실효성 있을까?\n",
      "'1500억원대 투자 사기' 한국인, 베트남서 체포\n",
      "[판결](단독) 보이스피싱 피해자 명의 '공동인증서'로 비대면 대출된 경우 금융사 책임은\n",
      "전화금융사기 현금수거책 30대 구속…피해금 7억 3200만원 달해\n",
      "피플펀드, AI금융사기 탐지시스템 자체 구축 나선다\n",
      "노숙자 등 동원 11억원 편취한 대출사기 일당 8명 구속\n",
      "“신용등급 왜 낮아졌지?”…알고 보니 명의도용 대출사기 당해\n",
      "'보이스피싱 엄단' 공약 속 금감원 \"올해도 금융권과 공동대응\"\n",
      "전화금융사기 피해 예방 은행원에게 감사장 수여\n",
      "KT, 신한금융그룹과 금융사기범죄 예방 협력\n",
      "국민권익위, 전화금융사기(보이스피싱) 관련 민원예보 발령\n",
      "충북경찰-대한노인회, 전화 금융사기 예방 업무 협약\n",
      "전화·문자 한 통에도 노후 위협받는 고령층…금융피해 어떻게 막을까\n",
      "서천경찰서, 전화금융사기 예방위해 서천특화시장 상인회와 업무협약\n",
      "5년간 5兆 피해…암호화폐 사기, 보이스피싱 뛰어넘었다\n",
      "경남경찰, 전화금융사기 근절위해 협력기관 간담회 개최했다\n",
      "IBK기업은행, 전기통신금융사기 피해예방에 앞장\n",
      "[게시판] 은평경찰서, 전화금융사기 예방 은행원에 감사장\n",
      "IBM “밀레니얼 세대, 금융사기 피해 가장 커”\n",
      "\"급증한 금융사기, 메인프레임으로 실시간 차단\"\n",
      "200억대 허위세금 계산서로 대출사기 벌인 10명 적발\n",
      "정구집 라임 사기 피해자 대표 “검수완박은 금융 사기 피해자 외면하는 것” - 조선비즈\n",
      "`2.8% 금리 대출` 문자 받았는데…`은행 진위 확인` 서비스로 사기 막는다\n",
      "가짜 다이아 담보 대출…새마을금고 사기에 은행권 '경악'\n",
      "팬데믹 파고든 ‘코로나 사기’…검사키트 ‘탕치기’에 역학조사관 사칭까지[사건 Zoom In]\n",
      "변호사도 당했다…5번에 걸쳐 총 1495만원 빼간 보이스피싱 수법\n",
      "'기존 규제'로는 품기 힘든 루나사태…실현 가능한 접근부터\n",
      "BNK경남은행, '금융사기 예방 금융교육' < 금융 < 경제 < 기사본문\n",
      "BNK경남은행, '금융사기 예방 금융교육' 진행\n",
      "정읍 신태인농협, 전기통신금융사기 예방 캠페인\n",
      "가짜 다이아 담보 대출…새마을금고 사기에 은행권 '경악'\n",
      "BNK경남은행, '금융사기 예방 금융교육' 진행\n",
      "광주일보\n",
      "정읍 신태인농협, 전기통신금융사기 예방 캠페인\n",
      "KT·신한금융 '금융사기 예방' 맞손…\"AI로 '그놈 목소리' 잡는다\"\n",
      "신한금융, KT와 금융사기범죄 탐지·예방기술 개발\n",
      "[케이에스피뉴스] “가족·지인 사칭 '메신저피싱' 주의하세요”\n",
      "경북경찰청, 보이스피싱 등 전화금융사기 특별 자수 기간 운영\n",
      "KT, 신한금융과 금융사기 차단 기술 개발\n",
      "‘070 사기전화’는 옛말…이젠 010으로 걸려온다\n",
      "성서새마을금고, 전화금융사기 예방 감사장 받아\n",
      "피싱 사기 신고·조치 원스톱으로…범정부 대응 체계 구축\n",
      "구미경찰서, 보이스피싱 사기 예방 교육 실시\n",
      "기업은행, 모바일뱅킹 사기예방 '안심케어' 출시\n",
      "'매의 눈' 형사에 딱 걸린 전화금융사기 현장...20대 수거책 입건\n",
      "'가짜 다이아몬드'로 새마을금고서 380억원 대출사기 벌인 일당\n",
      "KT, 신한금융과 금융범죄 예방 나서 | Save Internet 뉴데일리\n",
      "장수경찰서, 보이스피싱 예방 산서우체국 윤효상 국장 감사장\n",
      "고대농협, 전화금융사기 피해 예방\n",
      "새마을금고중앙회, 고위직 연루 380억 대출 사기사건에 대해 사과\n",
      "KT-신한금융그룹과 금융사기범죄 예방 협력\n",
      "진주경찰서, 전화금융사기 피해 예방 은행원 감사장\n",
      "KT-신한금융그룹, 금융사기범죄 예방 팔 걷었다\n",
      "전주완산경찰, 전화금융사기 예방한 은행원 감사장 전달\n",
      "경찰, 4개월간 보이스피싱 조직원 267명 검거···콜센터 절반 이상 중국 집중\n",
      "檢 ''코로나 금융제도 허점' 악용 200억대 대출 사기 규명'\n",
      "끝없이 파고드는 보이스피싱…“범정부차원 전담조직 신설해야”\n",
      "설 명절 이후 보이스피싱 시도 급증 주의보\n",
      "전화금융사기 현금 인출책 20대 여성 집행유예 2년\n",
      "보이스피싱 피해구제 확대될까…인수위, 금융사 배상 강화 검토 - 서울경제\n",
      "펀드 사기에 '징역 40년' 선고한 법원...\"금융범죄 엄벌 취지\"\n",
      "경남경찰청-BNK경남은행, 금융사기 예방 업무협약 체결했다\n",
      "KT-신한금융그룹, 금융사기범죄 예방 협력\n",
      "서천경찰서, 보이스피싱 예방한 서서천농협, 한산농협에 우수금융기관 인증패 부착\n",
      "사회 전방위적 관심으로 전화금융사기 차단\n",
      "전국 돌며 전화 금융사기 피해금 송금한 20대 붙잡혀\n",
      "대출 가장 사기 문자 기승\n",
      "신한금융, KT와 금융사기범죄 탐지·예방 기술 개발한다\n",
      "서민금융진흥원, 시니어 금융사기 예방 체험형 교구재 출시\n",
      "경남경찰청·BNK경남은행, '금융사기 피해자' 함께 돕는다\n"
     ]
    },
    {
     "name": "stdout",
     "output_type": "stream",
     "text": [
      "경찰청, 온라인 사기 범죄 총괄 대응 추진단 신설\n",
      "OK저축은행, 고령자·복지관 직원 대상 금융사기 예방교육 실시\n",
      "전주완산경찰서, 전화금융사기예방 은행원에 감사장\n",
      "신종 부동산 대출 사기에 악용되는 '엉터리 공문서'...곳곳에 허점\n",
      "OK저축은행, 금융사기 예방교육 < 금융 < 경제 < 기사본문\n",
      "'옵티머스 펀드 사기' 김재현 2심 징역 40년…1심보다 15년 가중\n",
      "보이스피싱 등 사기용 대포통장 유통 전문조직 23명 검거\n",
      "614억 횡령 까맣게 몰랐던 우리은행 - 엉터리 감시시스템 또 반복?\n",
      "OK저축은행, 고령자 대상 '금융사기 예방교육' 실시\n",
      "60억 전세자금 대출사기...경찰 '무혐의'·검찰 '21명 적발' 왜?\n",
      "경찰대학-두나무, 자금세탁·금융사기 방지 컨퍼런스\n",
      "옥천경찰서, 전화금융사기 예방 옥천농협 군북지점 감사장수여\n",
      "경찰청, 전기통신금융사기 통합신고대응 체계 구축 추진\n",
      "보이스피싱 판치는 가상자산… 빗썸, 금융사기 피해 고객 지원 총력\n",
      "웅촌농협, 지역어르신 대상 보이스피싱·금융사기 예방교육\n",
      "서천경찰서, 전화금융사기 예방한 농협은행 서천군지부 대리에게 감사장 등 전달\n",
      "당진경찰서-농협은행 당진시지부, 전화금융사기 예방 업무협약\n",
      "KT-신한금융, 금융사기범죄 탐지·예방 기술개발 협력\n",
      "진주경찰서장, 거액 전화금융사기 피해 막은 지역 농협직원 2명에 감사장\n",
      "“부모님 신분증 보내면 대출” 청소년 속인 보이스피싱 일당, 1심 징역형\n",
      "[미디어투데이] 계양경찰서, 전화금융사기 예방한 시민에게 감사장 수여\n",
      "부친 장례 후 잠수탄 '100억원대 금융사기' 블루문펀드 대표 검거\n",
      "법원 '인감·통장 빌려줬다면 이중대출 사기 책임져야'\n",
      "코로나 대출 사기 문자… 여전히 활개 친다\n",
      "‘고액 알바’ 지원했다 '인간 대포통장'으로···보이스피싱 피의자 63% 청년구직자\n",
      "신한금융, KT와 금융사기범죄 탐지·예방기술 개발\n",
      "웰컴저축은행, 어르신 대상 금융교육 진행\n",
      "피플펀드, 자체 AI 금융사기 탐지시스템 구축 완료\n",
      "금산경찰서, 금융사기 피해 예방한 신협직원에게 감사장 수여\n",
      "부천원미서, 전화금융사기 피해 예방 유공자에 감사장 수여\n",
      "010 번호로 보이스피싱…경찰 \"피해 늘어 주의 필요\"\n",
      "\"금융사기 피해예방 시스템 구축 최선\" 전북지방우정청 금융 무사고 달성 토론회 개최\n",
      "\"2억 한도 2.8% 고정금리 대출 가능해요\"…은행원이라고 믿었다간 `낭패`\n",
      "청송경찰서, 금융사기 피해 막은 농협 직원에 감사장 전달\n",
      "세종 남부경찰서, 전화금융사기 피해 예방 은행원 표창\n",
      "서천경찰서-서천특화시장 상인회 '전화금융사기 예방' 업무협약\n",
      "웅촌농협, 원로조합원 대상 보이스피싱·금융사기 예방교육\n",
      "BNK경남은행, 서부노인복지관에 ‘금융사기 예방 금융교육’ 지원\n",
      "“코로나 지원금 신청하세요” 전화 사기, 당연히 의심했지만…\n",
      "[1mm금융톡] '삐~ 피싱사기 의심'…고객돈 지켜준 AI 은행원\n"
     ]
    }
   ],
   "source": [
    "# 페이지를 넘겨가면서 기사 제목 모두 가져오기\n",
    "\n",
    "\n",
    "from itertools import count\n",
    "\n",
    "result = []\n",
    "\n",
    "for idx in count(start=0, step=1):\n",
    "    #if idx>10: #11부터 인쇄가 안됨\n",
    "    #    break\n",
    "    try:\n",
    "\n",
    "        html = driver.page_source\n",
    "        soup = BeautifulSoup(html, \"lxml\") \n",
    "        listOfsoup = soup.find('div','v7W49e').find_all('div','xuvV6b BGxR7d')\n",
    "\n",
    "        for idx2 in range(len(listOfsoup)):\n",
    "            article = listOfsoup[idx2].find('div','mCBkyc y355M ynAwRc MBeuO nDgy9d').get_text()\n",
    "            print(article)\n",
    "            result.append(article)\n",
    "\n",
    "\n",
    "\n",
    "        # 페이지 다음버튼 누르기\n",
    "        css_selector = '#pnnext > span:nth-child(2)'\n",
    "        driver.find_element(by=By.CSS_SELECTOR, value=css_selector).click() \n",
    "    \n",
    "    except:  \n",
    "        break  #페이지 끝까지 가면 멈춘다."
   ]
  },
  {
   "cell_type": "code",
   "execution_count": 14,
   "id": "fdeb2080",
   "metadata": {},
   "outputs": [],
   "source": [
    "mc_dict = {'기사제목'         : result}\n",
    "df = pd.DataFrame(mc_dict)"
   ]
  },
  {
   "cell_type": "code",
   "execution_count": 15,
   "id": "695ab415",
   "metadata": {},
   "outputs": [
    {
     "data": {
      "text/html": [
       "<div>\n",
       "<style scoped>\n",
       "    .dataframe tbody tr th:only-of-type {\n",
       "        vertical-align: middle;\n",
       "    }\n",
       "\n",
       "    .dataframe tbody tr th {\n",
       "        vertical-align: top;\n",
       "    }\n",
       "\n",
       "    .dataframe thead th {\n",
       "        text-align: right;\n",
       "    }\n",
       "</style>\n",
       "<table border=\"1\" class=\"dataframe\">\n",
       "  <thead>\n",
       "    <tr style=\"text-align: right;\">\n",
       "      <th></th>\n",
       "      <th>기사제목</th>\n",
       "    </tr>\n",
       "  </thead>\n",
       "  <tbody>\n",
       "    <tr>\n",
       "      <th>0</th>\n",
       "      <td>새마을금고 “고위직 연루 380억원 대출사기, 송구…재발 방지” - 조선비즈</td>\n",
       "    </tr>\n",
       "    <tr>\n",
       "      <th>1</th>\n",
       "      <td>가짜 다이아몬드로 새마을금고 상대 380억원 대출사기 일당 기소</td>\n",
       "    </tr>\n",
       "    <tr>\n",
       "      <th>2</th>\n",
       "      <td>가짜 다이아몬드 담보로 새마을금고 380억원 대출사기 일당 기소</td>\n",
       "    </tr>\n",
       "    <tr>\n",
       "      <th>3</th>\n",
       "      <td>가짜 다이아로 380억대 대출사기…새마을금고 간부도 유착 정황</td>\n",
       "    </tr>\n",
       "    <tr>\n",
       "      <th>4</th>\n",
       "      <td>은행 간부까지 얽혔다…380억 ‘가짜 다이아몬드’ 대출사기 전말</td>\n",
       "    </tr>\n",
       "    <tr>\n",
       "      <th>...</th>\n",
       "      <td>...</td>\n",
       "    </tr>\n",
       "    <tr>\n",
       "      <th>295</th>\n",
       "      <td>서천경찰서-서천특화시장 상인회 '전화금융사기 예방' 업무협약</td>\n",
       "    </tr>\n",
       "    <tr>\n",
       "      <th>296</th>\n",
       "      <td>웅촌농협, 원로조합원 대상 보이스피싱·금융사기 예방교육</td>\n",
       "    </tr>\n",
       "    <tr>\n",
       "      <th>297</th>\n",
       "      <td>BNK경남은행, 서부노인복지관에 ‘금융사기 예방 금융교육’ 지원</td>\n",
       "    </tr>\n",
       "    <tr>\n",
       "      <th>298</th>\n",
       "      <td>“코로나 지원금 신청하세요” 전화 사기, 당연히 의심했지만…</td>\n",
       "    </tr>\n",
       "    <tr>\n",
       "      <th>299</th>\n",
       "      <td>[1mm금융톡] '삐~ 피싱사기 의심'…고객돈 지켜준 AI 은행원</td>\n",
       "    </tr>\n",
       "  </tbody>\n",
       "</table>\n",
       "<p>300 rows × 1 columns</p>\n",
       "</div>"
      ],
      "text/plain": [
       "                                           기사제목\n",
       "0    새마을금고 “고위직 연루 380억원 대출사기, 송구…재발 방지” - 조선비즈\n",
       "1           가짜 다이아몬드로 새마을금고 상대 380억원 대출사기 일당 기소\n",
       "2           가짜 다이아몬드 담보로 새마을금고 380억원 대출사기 일당 기소\n",
       "3            가짜 다이아로 380억대 대출사기…새마을금고 간부도 유착 정황\n",
       "4           은행 간부까지 얽혔다…380억 ‘가짜 다이아몬드’ 대출사기 전말\n",
       "..                                          ...\n",
       "295           서천경찰서-서천특화시장 상인회 '전화금융사기 예방' 업무협약\n",
       "296              웅촌농협, 원로조합원 대상 보이스피싱·금융사기 예방교육\n",
       "297         BNK경남은행, 서부노인복지관에 ‘금융사기 예방 금융교육’ 지원\n",
       "298           “코로나 지원금 신청하세요” 전화 사기, 당연히 의심했지만…\n",
       "299        [1mm금융톡] '삐~ 피싱사기 의심'…고객돈 지켜준 AI 은행원\n",
       "\n",
       "[300 rows x 1 columns]"
      ]
     },
     "execution_count": 15,
     "metadata": {},
     "output_type": "execute_result"
    }
   ],
   "source": [
    "df"
   ]
  },
  {
   "cell_type": "code",
   "execution_count": 18,
   "id": "83dd4035",
   "metadata": {},
   "outputs": [],
   "source": [
    "df.to_csv(\"기사.csv\", index=False, encoding=\"utf-8-sig\")"
   ]
  },
  {
   "cell_type": "code",
   "execution_count": null,
   "id": "ec38d0eb",
   "metadata": {},
   "outputs": [],
   "source": []
  },
  {
   "cell_type": "markdown",
   "id": "690bf826",
   "metadata": {},
   "source": [
    "### <font color = 'blue'> * 시각화 한글 오류 해결\n",
    "> 참고 사이트 : https://operstu1.tistory.com/80 "
   ]
  },
  {
   "cell_type": "code",
   "execution_count": 13,
   "id": "03d5c541",
   "metadata": {},
   "outputs": [],
   "source": [
    "import matplotlib as mpl\n",
    "import matplotlib.pyplot as plt\n",
    "import matplotlib.font_manager as fm\n",
    "\n",
    "#print(\"버전\",mpl.__version__)\n",
    "#print('설정 위치', mpl.__file__)\n",
    "#print('설정 위치', mpl.get_configdir())\n",
    "#print('캐시 위치', mpl.get_cachedir())"
   ]
  },
  {
   "cell_type": "code",
   "execution_count": 21,
   "id": "8a909017",
   "metadata": {},
   "outputs": [
    {
     "name": "stdout",
     "output_type": "stream",
     "text": [
      "설정파일위치 C:\\Python\\anaconda3\\lib\\site-packages\\matplotlib\\mpl-data\\matplotlibrc\n"
     ]
    }
   ],
   "source": [
    "print(\"설정파일위치\", mpl.matplotlib_fname())\n",
    "\n",
    "# 여기 경로 따라서 들어가기 \n",
    "# 그 안에 있는 matplotlibrc 파일을 메모장으로 열어서 \n",
    "# font_family 를 malgun Gothic 으로 고치기 \n",
    "# ( 참고 : https://operstu1.tistory.com/80 )"
   ]
  },
  {
   "cell_type": "code",
   "execution_count": 15,
   "id": "96ec76a9",
   "metadata": {},
   "outputs": [],
   "source": [
    "#font_list = fm.findSystemFonts(fontpaths=None, fontext='ttf')\n",
    "#print(len(font_list))"
   ]
  },
  {
   "cell_type": "code",
   "execution_count": 16,
   "id": "5b8fbeb8",
   "metadata": {},
   "outputs": [],
   "source": [
    "#font_list"
   ]
  },
  {
   "cell_type": "code",
   "execution_count": 17,
   "id": "f8b3de4a",
   "metadata": {},
   "outputs": [],
   "source": [
    "#f = [f.name for f in fm.fontManager.ttflist]\n",
    "#print(len(font_list))\n",
    "#f  \n",
    "#Malgun Gothic 존재함 -> 기본폰트를 Malgun Gothic 으로 수정하기 "
   ]
  },
  {
   "cell_type": "code",
   "execution_count": null,
   "id": "7ee48ec3",
   "metadata": {},
   "outputs": [],
   "source": []
  },
  {
   "cell_type": "code",
   "execution_count": null,
   "id": "4194ca13",
   "metadata": {},
   "outputs": [],
   "source": []
  },
  {
   "cell_type": "code",
   "execution_count": null,
   "id": "a4c9cd77",
   "metadata": {},
   "outputs": [],
   "source": []
  },
  {
   "cell_type": "code",
   "execution_count": null,
   "id": "ee7396e2",
   "metadata": {},
   "outputs": [],
   "source": []
  },
  {
   "cell_type": "code",
   "execution_count": null,
   "id": "156591a2",
   "metadata": {},
   "outputs": [],
   "source": []
  },
  {
   "cell_type": "code",
   "execution_count": null,
   "id": "d71e46b5",
   "metadata": {},
   "outputs": [],
   "source": []
  },
  {
   "cell_type": "code",
   "execution_count": null,
   "id": "49061636",
   "metadata": {},
   "outputs": [],
   "source": []
  },
  {
   "cell_type": "code",
   "execution_count": null,
   "id": "0c26da59",
   "metadata": {},
   "outputs": [],
   "source": []
  },
  {
   "cell_type": "markdown",
   "id": "e4260a09",
   "metadata": {},
   "source": [
    "## <font  color = 'blue'> 3. 금융사기 특이 수법 시각화\n",
    "> 참고1  (NetworkX 사이트)   \n",
    "> https://networkx.org/documentation/stable/reference/generated/networkx.drawing.nx_pylab.draw_networkx.html"
   ]
  },
  {
   "cell_type": "code",
   "execution_count": 237,
   "id": "d1434e42",
   "metadata": {},
   "outputs": [],
   "source": [
    "# 특이수법.txt 파일 참고"
   ]
  },
  {
   "cell_type": "markdown",
   "id": "5115fbb7",
   "metadata": {},
   "source": [
    "### <font color='blue'> version1"
   ]
  },
  {
   "cell_type": "code",
   "execution_count": 269,
   "id": "8801f2eb",
   "metadata": {},
   "outputs": [
    {
     "data": {
      "image/png": "[encoded data removed]",
      "text/plain": [
       "<Figure size 432x288 with 1 Axes>"
      ]
     },
     "metadata": {},
     "output_type": "display_data"
    }
   ],
   "source": [
    "%matplotlib inline\n",
    "import networkx as nx\n",
    "import matplotlib\n",
    "import matplotlib.pyplot as plt\n",
    "import matplotlib.font_manager as font_manager\n",
    "\n",
    "\n",
    "# 제목 \n",
    "plt.rc('font', family='Malgun Gothic')  # 제목 글씨체 \n",
    "plt.title('금융사기 특이 수법')\n",
    "\n",
    "\n",
    "\n",
    "# 그래프 그리기\n",
    "DG = nx.DiGraph()\n",
    "\n",
    "\n",
    "# 노드 생성\n",
    "A = '수법'\n",
    "DG.add_node(A)\n",
    "DG.add_node('B')\n",
    "DG.add_node('C')\n",
    "DG.add_node('D')\n",
    "\n",
    "\n",
    "# 노드 연결\n",
    "DG.add_edge(A, \"B\")\n",
    "DG.add_edge(A, \"C\")\n",
    "DG.add_edge('C','B')\n",
    "DG.add_edge(\"C\", \"D\")\n",
    "\n",
    "\n",
    "\n",
    "\n",
    "# 시각화하기\n",
    "\n",
    "\n",
    "\n",
    "# 노드 위치 고정\n",
    "#pos = nx.shell_layout(DG)     또는 \n",
    "pos = {A: (0, 0), \"B\": (-1, 0.5), \"C\": (2, 0.17), \"D\": (4, 0.255)} #위치(사용자지정)\n",
    "\n",
    "\n",
    "\n",
    "\n",
    "# 화면 테두리 삭제\n",
    "ax = plt.gca()\n",
    "ax.margins(0.20)\n",
    "plt.axis(\"off\")\n",
    "\n",
    "\n",
    "\n",
    "\n",
    "\n",
    "options = {\n",
    "    \"font_size\": 30,\n",
    "    \"node_size\": [2000, 2000, 5000, 1000],\n",
    "    \"node_color\": [\"white\",'white','midnightblue','blue'],\n",
    "    \"edgecolors\": \"black\",\n",
    "    \"linewidths\": 5,\n",
    "    \"width\": 5,\n",
    "    'style' : '-',\n",
    "    'arrowstyle' : '-'   \n",
    "}\n",
    "\n",
    "\n",
    "nx.draw_networkx(DG, pos, **options , \n",
    "                 with_labels=False )  \n",
    "\n",
    "\n",
    "\n",
    "nx.draw_networkx_labels(DG, pos, \n",
    "                        font_family = 'Malgun Gothic',\n",
    "                        font_size=20,\n",
    "                        font_color= 'white',\n",
    "                        #verticalalignment = 'top',   위치\n",
    "                        #horizontalalignment = 'left',\n",
    "                       )\n",
    "\n",
    "plt.show()\n",
    "\n",
    "\n",
    "\n",
    "# with_labels= True -> 꼭짓점에 이름 출력되게 한다. ( 단, 한글 인식이 안됨 )\n",
    "# 문제해결 : draw_networkx_label 을 사용해서 따로 지정해주기"
   ]
  },
  {
   "cell_type": "code",
   "execution_count": null,
   "id": "ec3bd23e",
   "metadata": {},
   "outputs": [],
   "source": []
  },
  {
   "cell_type": "code",
   "execution_count": null,
   "id": "da49a7ef",
   "metadata": {},
   "outputs": [],
   "source": []
  },
  {
   "cell_type": "markdown",
   "id": "e7167bce",
   "metadata": {},
   "source": [
    "### <font color='blue'> version2"
   ]
  },
  {
   "cell_type": "code",
   "execution_count": 427,
   "id": "6559e24a",
   "metadata": {},
   "outputs": [
    {
     "data": {
      "image/png": "[encoded data removed]",
      "text/plain": [
       "<Figure size 720x720 with 1 Axes>"
      ]
     },
     "metadata": {},
     "output_type": "display_data"
    },
    {
     "data": {
      "text/plain": [
       "<Figure size 432x288 with 0 Axes>"
      ]
     },
     "metadata": {},
     "output_type": "display_data"
    }
   ],
   "source": [
    "%matplotlib inline\n",
    "import networkx as nx\n",
    "import matplotlib\n",
    "import matplotlib.pyplot as plt\n",
    "import matplotlib.font_manager as font_manager\n",
    "\n",
    "\n",
    "plt.figure(figsize=(10,10)) #전체화면 크기 조정\n",
    "\n",
    "\n",
    "\n",
    "# 제목 \n",
    "plt.rc('font', family='Malgun Gothic')  # 제목 글씨체 \n",
    "plt.title('금융사기 특이 수법')\n",
    "\n",
    "\n",
    "\n",
    "# 그래프 그리기\n",
    "DG = nx.DiGraph()\n",
    "\n",
    "\n",
    "# 노드 생성\n",
    "A  = '중고차'\n",
    "B  = '지원금'; B1 = '재난'; B2 = '방역'\n",
    "C  = '특이수법'\n",
    "D  = '대출'; D1 = '코로나'; D2 = '긴급\\n지원'; D3 = '생활\\n안정'; D4='저금리'\n",
    "E  = '학생'; E1 = '고액\\n알바'; E2 = '취업\\n사기'\n",
    "F  = '가상자산'; F1 = '코인'\n",
    "G  = '데이팅앱'\n",
    "H  = '사칭'; H1='장기\\n매매'; H2='성폭행'; H3='검사';\n",
    "I  = '보험료' \n",
    "J  = '택배'\n",
    "K  = '탈레반'\n",
    "\n",
    "\n",
    "DG.add_node(A)\n",
    "DG.add_node(B); DG.add_node(B1) ; DG.add_node(B2)\n",
    "DG.add_node(C)\n",
    "DG.add_node(D) ;DG.add_node(D1) ;DG.add_node(D2) ;DG.add_node(D3) ;DG.add_node(D4)\n",
    "DG.add_node(E) ;DG.add_node(E1); DG.add_node(E2)\n",
    "DG.add_node(F) ; DG.add_node(F1)\n",
    "DG.add_node(G)\n",
    "DG.add_node(H); DG.add_node(H1); DG.add_node(H2); DG.add_node(H3); \n",
    "DG.add_node(I); DG.add_node(J);  DG.add_node(K);     \n",
    "\n",
    "\n",
    "# 노드 연결\n",
    "DG.add_edge(A, C)\n",
    "DG.add_edge(B, B1); DG.add_edge(B, B2)\n",
    "DG.add_edge(C, B)\n",
    "DG.add_edge(C, D)\n",
    "DG.add_edge(D, D1); DG.add_edge(D, D2); DG.add_edge(D, D3); DG.add_edge(D, D4)\n",
    "DG.add_edge(C, E)\n",
    "DG.add_edge(E, E1); DG.add_edge(E, E2)\n",
    "DG.add_edge(C, F); DG.add_edge(F, F1)\n",
    "DG.add_edge(C, G)\n",
    "DG.add_edge(F, G)\n",
    "DG.add_edge(C, H); DG.add_edge(H, H1); DG.add_edge(H, H2) ;DG.add_edge(H, H3)\n",
    "DG.add_edge(C, I); DG.add_edge(C, J) ; DG.add_edge(C, K)\n",
    "\n",
    "# 시각화하기\n",
    "\n",
    "\n",
    "\n",
    "# 노드 위치 고정\n",
    "#pos = nx.shell_layout(DG)     또는 \n",
    "pos = {A:  (0, 0.025), B: (2, 0.18), B1 : (1,0.25),  B2 : (2.5, 0.25),\n",
    "       C:  (2, 0.07), D: (6, 0.2), D1 : (8,0.2), D2 : (8,0.3), D3 : (6,0.35), D4 : (5,0.28),\n",
    "       E : (5, 0.01), E1 :(6.8, 0.03), E2 : (6.8, -0.05), \n",
    "       F : (-1, 0.15), F1 : (-1.5, 0.22), G : (-1.5, 0.07),\n",
    "       H : (2, -0.08), H1 : (0.8, -0.16), H2 : (3.2,-0.16), H3 :(0, -0.08),\n",
    "       I : (-2, -0.1), J : (4, -0.1), K : (4.5, 0.1)}        #위치(사용자지정)\n",
    "\n",
    "\n",
    "\n",
    "# 화면 테두리 삭제\n",
    "ax = plt.gca()\n",
    "ax.margins(0.20)\n",
    "plt.axis(\"off\")\n",
    "\n",
    "\n",
    "\n",
    "options = {\n",
    "    \"font_size\": 30,\n",
    "    \"node_size\": [1700, 2800, 1800,1800, \n",
    "                  6500, 2800, 1400, 1400, 1400, 1400, \n",
    "                  2800, 1400, 1500, \n",
    "                  2800, 1400, 2800, \n",
    "                  2800, 1400, 1400, 1400,\n",
    "                  1700, 1700, 1700],\n",
    "    \"node_color\": [\"sandybrown\",'sandybrown','sandybrown','sandybrown',\n",
    "                   'lightcoral','sandybrown', 'sandybrown', 'sandybrown', 'sandybrown', 'sandybrown', \n",
    "                   'sandybrown' ,'sandybrown', 'sandybrown' ,\n",
    "                   'sandybrown' ,'sandybrown', 'sandybrown',\n",
    "                   'sandybrown', 'sandybrown', 'sandybrown', 'sandybrown',\n",
    "                   'sandybrown', 'sandybrown', 'sandybrown'],\n",
    "    \"edge_color\": \"darkgray\",\n",
    "    \"linewidths\": 1,\n",
    "    \"width\": 1,\n",
    "    'style' : '-',\n",
    "    'arrowstyle' : '-'   \n",
    "}\n",
    "\n",
    "\n",
    "nx.draw_networkx(DG, pos, **options , \n",
    "                 with_labels=False )  \n",
    "\n",
    "\n",
    "\n",
    "nx.draw_networkx_labels(DG, pos, \n",
    "                        font_family = 'Malgun Gothic',\n",
    "                        font_size=12,\n",
    "                        font_color= 'black',\n",
    "                        #verticalalignment = 'top',   위치\n",
    "                        #horizontalalignment = 'left',\n",
    "                       )\n",
    "\n",
    "plt.show()\n",
    "\n",
    "\n",
    "plt.savefig('savefig_default.png')\n",
    "\n",
    "\n",
    "\n",
    "# with_labels= True -> 꼭짓점에 이름 출력되게 한다. ( 단, 한글 인식이 안됨 )\n",
    "# 문제해결 : draw_networkx_label 을 사용해서 따로 지정해주기"
   ]
  },
  {
   "cell_type": "code",
   "execution_count": null,
   "id": "e0b31b8b",
   "metadata": {},
   "outputs": [],
   "source": []
  },
  {
   "cell_type": "code",
   "execution_count": null,
   "id": "260ef820",
   "metadata": {},
   "outputs": [],
   "source": []
  },
  {
   "cell_type": "code",
   "execution_count": 236,
   "id": "6b4641e9",
   "metadata": {},
   "outputs": [],
   "source": [
    "# 데이터프레임으로 그리기 \n",
    "# import pandas as pd\n",
    "# df = pd.DataFrame({'from': ['A', 'B', 'C', 'A', 'E', 'D'],\n",
    "#                    'to': ['D', 'A', 'E', 'C', 'A', 'E']\n",
    "#                   })\n",
    "# df\n",
    "# pos = {'A': (0, 0), \"B\": (-1, 0.5), \"C\": (2, 0.17), \"D\": (4, 0.255),\n",
    "#       'E' : (0,1)} #위치(사용자지정)\n",
    "\n",
    "\n",
    "# g = nx.from_pandas_edgelist(df, 'from', 'to', create_using = nx.DiGraph())\n",
    "# nx.draw(g,pos,with_labels=True)"
   ]
  },
  {
   "cell_type": "code",
   "execution_count": null,
   "id": "e1501e3b",
   "metadata": {},
   "outputs": [],
   "source": []
  },
  {
   "cell_type": "code",
   "execution_count": null,
   "id": "f40b96f9",
   "metadata": {},
   "outputs": [],
   "source": []
  },
  {
   "cell_type": "code",
   "execution_count": 21,
   "id": "ccfadc91",
   "metadata": {},
   "outputs": [
    {
     "data": {
      "text/html": [
       "<div>\n",
       "<style scoped>\n",
       "    .dataframe tbody tr th:only-of-type {\n",
       "        vertical-align: middle;\n",
       "    }\n",
       "\n",
       "    .dataframe tbody tr th {\n",
       "        vertical-align: top;\n",
       "    }\n",
       "\n",
       "    .dataframe thead th {\n",
       "        text-align: right;\n",
       "    }\n",
       "</style>\n",
       "<table border=\"1\" class=\"dataframe\">\n",
       "  <thead>\n",
       "    <tr style=\"text-align: right;\">\n",
       "      <th></th>\n",
       "      <th>기사제목</th>\n",
       "    </tr>\n",
       "  </thead>\n",
       "  <tbody>\n",
       "    <tr>\n",
       "      <th>0</th>\n",
       "      <td>새마을금고 “고위직 연루 380억원 대출사기, 송구…재발 방지” - 조선비즈</td>\n",
       "    </tr>\n",
       "    <tr>\n",
       "      <th>1</th>\n",
       "      <td>가짜 다이아몬드로 새마을금고 상대 380억원 대출사기 일당 기소</td>\n",
       "    </tr>\n",
       "    <tr>\n",
       "      <th>2</th>\n",
       "      <td>가짜 다이아몬드 담보로 새마을금고 380억원 대출사기 일당 기소</td>\n",
       "    </tr>\n",
       "    <tr>\n",
       "      <th>3</th>\n",
       "      <td>가짜 다이아로 380억대 대출사기…새마을금고 간부도 유착 정황</td>\n",
       "    </tr>\n",
       "    <tr>\n",
       "      <th>4</th>\n",
       "      <td>은행 간부까지 얽혔다…380억 ‘가짜 다이아몬드’ 대출사기 전말</td>\n",
       "    </tr>\n",
       "    <tr>\n",
       "      <th>...</th>\n",
       "      <td>...</td>\n",
       "    </tr>\n",
       "    <tr>\n",
       "      <th>295</th>\n",
       "      <td>서천경찰서-서천특화시장 상인회 '전화금융사기 예방' 업무협약</td>\n",
       "    </tr>\n",
       "    <tr>\n",
       "      <th>296</th>\n",
       "      <td>웅촌농협, 원로조합원 대상 보이스피싱·금융사기 예방교육</td>\n",
       "    </tr>\n",
       "    <tr>\n",
       "      <th>297</th>\n",
       "      <td>BNK경남은행, 서부노인복지관에 ‘금융사기 예방 금융교육’ 지원</td>\n",
       "    </tr>\n",
       "    <tr>\n",
       "      <th>298</th>\n",
       "      <td>“코로나 지원금 신청하세요” 전화 사기, 당연히 의심했지만…</td>\n",
       "    </tr>\n",
       "    <tr>\n",
       "      <th>299</th>\n",
       "      <td>[1mm금융톡] '삐~ 피싱사기 의심'…고객돈 지켜준 AI 은행원</td>\n",
       "    </tr>\n",
       "  </tbody>\n",
       "</table>\n",
       "<p>300 rows × 1 columns</p>\n",
       "</div>"
      ],
      "text/plain": [
       "                                           기사제목\n",
       "0    새마을금고 “고위직 연루 380억원 대출사기, 송구…재발 방지” - 조선비즈\n",
       "1           가짜 다이아몬드로 새마을금고 상대 380억원 대출사기 일당 기소\n",
       "2           가짜 다이아몬드 담보로 새마을금고 380억원 대출사기 일당 기소\n",
       "3            가짜 다이아로 380억대 대출사기…새마을금고 간부도 유착 정황\n",
       "4           은행 간부까지 얽혔다…380억 ‘가짜 다이아몬드’ 대출사기 전말\n",
       "..                                          ...\n",
       "295           서천경찰서-서천특화시장 상인회 '전화금융사기 예방' 업무협약\n",
       "296              웅촌농협, 원로조합원 대상 보이스피싱·금융사기 예방교육\n",
       "297         BNK경남은행, 서부노인복지관에 ‘금융사기 예방 금융교육’ 지원\n",
       "298           “코로나 지원금 신청하세요” 전화 사기, 당연히 의심했지만…\n",
       "299        [1mm금융톡] '삐~ 피싱사기 의심'…고객돈 지켜준 AI 은행원\n",
       "\n",
       "[300 rows x 1 columns]"
      ]
     },
     "execution_count": 21,
     "metadata": {},
     "output_type": "execute_result"
    }
   ],
   "source": [
    "df"
   ]
  },
  {
   "cell_type": "markdown",
   "id": "32624353",
   "metadata": {},
   "source": [
    "## <font  color = 'blue'> 4. 워드클라우드"
   ]
  },
  {
   "cell_type": "code",
   "execution_count": 50,
   "id": "dc45ec9d",
   "metadata": {},
   "outputs": [],
   "source": [
    "import matplotlib.pyplot as plt\n",
    "from wordcloud import WordCloud\n",
    "from konlpy.tag import Okt\n",
    "okt = Okt()"
   ]
  },
  {
   "cell_type": "code",
   "execution_count": 24,
   "id": "c5e16c1f",
   "metadata": {},
   "outputs": [],
   "source": [
    "# 데이터프레임 -> 하나의 리스트로 바꾸기\n",
    "word = df['기사제목'].tolist()"
   ]
  },
  {
   "cell_type": "code",
   "execution_count": 27,
   "id": "0d458b06",
   "metadata": {},
   "outputs": [],
   "source": [
    "# 리스트 -> 한 문장으로 바꾸기 \n",
    "word = ' '.join(word)"
   ]
  },
  {
   "cell_type": "code",
   "execution_count": 31,
   "id": "26ac2597",
   "metadata": {},
   "outputs": [
    {
     "data": {
      "text/plain": [
       "2584"
      ]
     },
     "execution_count": 31,
     "metadata": {},
     "output_type": "execute_result"
    }
   ],
   "source": [
    "word_nouns = okt.nouns(word)\n",
    "len(word_nouns) "
   ]
  },
  {
   "cell_type": "code",
   "execution_count": 34,
   "id": "99c7864f",
   "metadata": {},
   "outputs": [
    {
     "data": {
      "text/plain": [
       "(194, 2031, 359)"
      ]
     },
     "execution_count": 34,
     "metadata": {},
     "output_type": "execute_result"
    }
   ],
   "source": [
    "one_words = []\n",
    "two_words = []\n",
    "etc_words = []\n",
    "\n",
    "for noun in word_nouns:\n",
    "    if len(noun) == 1:\n",
    "        one_words.append(noun)\n",
    "    elif len(noun) == 2:\n",
    "        two_words.append(noun)\n",
    "    else:\n",
    "        etc_words.append(noun)\n",
    "        \n",
    "len(one_words), len(two_words), len(etc_words)"
   ]
  },
  {
   "cell_type": "code",
   "execution_count": 111,
   "id": "6935014a",
   "metadata": {},
   "outputs": [
    {
     "data": {
      "text/plain": [
       "194"
      ]
     },
     "execution_count": 111,
     "metadata": {},
     "output_type": "execute_result"
    }
   ],
   "source": [
    "# 한글자로 된 건 삭제 + '필요없는 단어 추가적으로 삭제'\n",
    "stop_words = ['조선','비즈','피플','새마을금고','감사',\n",
    "              '특별','검거','근절','주의','직원',\n",
    "              '피해','금융','사기','구속','경찰청','일당','경찰서','업무']\n",
    "stop_words.extend(one_words)\n",
    "len(one_words)\n",
    "\n",
    "# 새마을금고 삭제 -> 비리 관련기사때문\n",
    "# 특별, 검거, 근절, 주의, 피해 같은 뻔한 글자는 제외"
   ]
  },
  {
   "cell_type": "code",
   "execution_count": 112,
   "id": "3329bbf7",
   "metadata": {},
   "outputs": [
    {
     "data": {
      "text/plain": [
       "1658"
      ]
     },
     "execution_count": 112,
     "metadata": {},
     "output_type": "execute_result"
    }
   ],
   "source": [
    "final_nouns = [word for word in word_nouns if word not in stop_words]\n",
    "len(final_nouns)"
   ]
  },
  {
   "cell_type": "code",
   "execution_count": 113,
   "id": "a6aa7828",
   "metadata": {},
   "outputs": [
    {
     "data": {
      "text/plain": [
       "['고위', '연루', '대출', '송구', '재발', '방지', '가짜', '다이아몬드', '상대', '대출']"
      ]
     },
     "execution_count": 113,
     "metadata": {},
     "output_type": "execute_result"
    }
   ],
   "source": [
    "final_nouns[:10]"
   ]
  },
  {
   "cell_type": "code",
   "execution_count": 122,
   "id": "cd9c117a",
   "metadata": {},
   "outputs": [],
   "source": [
    "# 많이 나오는 단어\n",
    "\n",
    "data  = nltk.Text(final_nouns, name='기사')\n",
    "data  = data.vocab().most_common(25)\n",
    "\n",
    "\n",
    "# data를 딕셔너리 형태로 변환\n",
    "dict_data = dict(data)"
   ]
  },
  {
   "cell_type": "code",
   "execution_count": 123,
   "id": "1f141658",
   "metadata": {},
   "outputs": [
    {
     "data": {
      "text/plain": [
       "[('전화', 102),\n",
       " ('예방', 79),\n",
       " ('대출', 53),\n",
       " ('보이스피싱', 34),\n",
       " ('범죄', 29),\n",
       " ('농협', 22),\n",
       " ('은행', 20),\n",
       " ('탐지', 20),\n",
       " ('경찰', 18),\n",
       " ('경남', 18),\n",
       " ('수거', 15),\n",
       " ('교육', 15),\n",
       " ('펀드', 14),\n",
       " ('시스템', 14),\n",
       " ('가짜', 13),\n",
       " ('기술', 12),\n",
       " ('은행원', 12),\n",
       " ('신고', 11),\n",
       " ('현금', 11),\n",
       " ('개발', 11),\n",
       " ('구축', 11),\n",
       " ('대상', 10),\n",
       " ('협약', 10),\n",
       " ('자수', 9),\n",
       " ('기간', 9)]"
      ]
     },
     "execution_count": 123,
     "metadata": {},
     "output_type": "execute_result"
    }
   ],
   "source": [
    "data"
   ]
  },
  {
   "cell_type": "code",
   "execution_count": 124,
   "id": "e7a2bcb2",
   "metadata": {},
   "outputs": [],
   "source": [
    "wordcloud = WordCloud(font_path='C:/Windows/Fonts/malgun.ttf',\n",
    "                      background_color='white'\n",
    "                     ,relative_scaling =0.2).generate_from_frequencies(dict_data)"
   ]
  },
  {
   "cell_type": "code",
   "execution_count": 128,
   "id": "abdad197",
   "metadata": {},
   "outputs": [
    {
     "data": {
      "image/png": "[encoded data removed]",
      "text/plain": [
       "<Figure size 1728x1152 with 1 Axes>"
      ]
     },
     "metadata": {
      "needs_background": "light"
     },
     "output_type": "display_data"
    }
   ],
   "source": [
    "params = {\n",
    "    \"width\"            : 800,\n",
    "    \"height\"           : 600,\n",
    "    \"min_font_size\"    : 2**3, \n",
    "    \"max_font_size\"    : 2**7, \n",
    "    \"max_words\"        : 100,\n",
    "    \"relative_scaling\" : 0.2,\n",
    "    # \"font_path\"        : 'C:/Windows/Fonts/malgun.ttf',\n",
    "    \"font_path\"        : 'C:/Windows/Fonts/HMFMMUEX.TTC',\n",
    "    \"background_color\" : 'white',\n",
    "}\n",
    "\n",
    "wordcolud = WordCloud(**params)\n",
    "# wordcolud = wordcolud.generate(text) \n",
    "wordcolud = wordcolud.generate_from_frequencies(dict_data) \n",
    "\n",
    "save_img = 'wordcloud.png'\n",
    "\n",
    "plt.figure(figsize=(24,16))\n",
    "plt.imshow(wordcolud)\n",
    "plt.axis('off')\n",
    "plt.savefig(save_img)"
   ]
  },
  {
   "cell_type": "code",
   "execution_count": null,
   "id": "0b85081b",
   "metadata": {},
   "outputs": [],
   "source": []
  },
  {
   "cell_type": "code",
   "execution_count": null,
   "id": "473b5bf5",
   "metadata": {},
   "outputs": [],
   "source": []
  },
  {
   "cell_type": "code",
   "execution_count": null,
   "id": "b53fd6cc",
   "metadata": {},
   "outputs": [],
   "source": []
  },
  {
   "cell_type": "code",
   "execution_count": 80,
   "id": "d219d2dd",
   "metadata": {},
   "outputs": [],
   "source": [
    "# 할것1)  https://brunch.co.kr/@choobo/145\n",
    "\n",
    "\n",
    "#  https://95pbj.tistory.com/34\n",
    "# https://frhyme.github.io/python-lib/draw_network%28study%29/   #(고급)\n",
    "# https://blog.daum.net/geoscience/1408\n",
    "# https://zooyeonii.tistory.com/42"
   ]
  },
  {
   "cell_type": "code",
   "execution_count": null,
   "id": "2fb7be8f",
   "metadata": {},
   "outputs": [],
   "source": []
  },
  {
   "cell_type": "code",
   "execution_count": null,
   "id": "649be3a0",
   "metadata": {},
   "outputs": [],
   "source": []
  },
  {
   "cell_type": "code",
   "execution_count": null,
   "id": "ff633fbd",
   "metadata": {},
   "outputs": [],
   "source": []
  },
  {
   "cell_type": "code",
   "execution_count": null,
   "id": "95ad8395",
   "metadata": {},
   "outputs": [],
   "source": [
    "#https://yoonpunk.tistory.com/entry/%EB%8D%B0%EC%9D%B4%ED%84%B0-%EB%B6%84%EC%84%9D-%ED%8C%8C%EC%9D%B4%EC%8D%AC%EC%9C%BC%EB%A1%9C-%ED%8A%B9%EC%A0%95-%ED%82%A4%EC%9B%8C%EB%93%9C%EB%A5%BC-%ED%8F%AC%ED%95%A8%ED%95%98%EB%8A%94-%EC%8B%A0%EB%AC%B8%EA%B8%B0%EC%82%AC-%EC%9B%B9%ED%81%AC%EB%A1%A4%EB%A7%81-%EC%9B%8C%EB%93%9C%ED%81%B4%EB%9D%BC%EC%9A%B0%EB%93%9C-%EC%8B%9C%EA%B0%81%ED%99%94-%EB%B6%84%EC%84%9D-4-%EB%8B%A8%EC%96%B4-%EC%82%AC%EC%9A%A9-%EB%B9%88%EB%8F%84-%EC%B2%B4%ED%81%AC%ED%95%98%EA%B8%B0?category=810025"
   ]
  },
  {
   "cell_type": "code",
   "execution_count": null,
   "id": "cb0b98d7",
   "metadata": {},
   "outputs": [],
   "source": [
    "# https://brunch.co.kr/@choobo/145 따라해볼 것 \n",
    "\n",
    "# 2. 검색량같은 걸 년도별로 그래프 그리기 \n",
    "# 3. 워드클라우드"
   ]
  },
  {
   "cell_type": "code",
   "execution_count": null,
   "id": "bac9403d",
   "metadata": {},
   "outputs": [],
   "source": []
  }
 ],
 "metadata": {
  "kernelspec": {
   "display_name": "Python 3 (ipykernel)",
   "language": "python",
   "name": "python3"
  },
  "language_info": {
   "codemirror_mode": {
    "name": "ipython",
    "version": 3
   },
   "file_extension": ".py",
   "mimetype": "text/x-python",
   "name": "python",
   "nbconvert_exporter": "python",
   "pygments_lexer": "ipython3",
   "version": "3.9.12"
  }
 },
 "nbformat": 4,
 "nbformat_minor": 5
}
