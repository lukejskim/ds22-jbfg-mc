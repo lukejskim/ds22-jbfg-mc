{
 "cells": [
  {
   "cell_type": "code",
   "execution_count": 86,
   "id": "ef63d11d",
   "metadata": {},
   "outputs": [],
   "source": [
    "import matplotlib.pyplot as plt\n",
    "import pandas as pd\n",
    "import numpy as np\n",
    "import seaborn as sns\n",
    "sns.set()\n",
    "\n",
    "%matplotlib inline"
   ]
  },
  {
   "cell_type": "code",
   "execution_count": 87,
   "id": "44679464",
   "metadata": {},
   "outputs": [],
   "source": [
    "from matplotlib import font_manager, rc\n",
    "font_name = font_manager.FontProperties(fname=\"C:/Windows/Fonts/malgun.ttf\").get_name()\n",
    "rc('font', family=font_name)\n",
    "\n",
    "plt.rcParams['figure.figsize'] = (10,6)"
   ]
  },
  {
   "cell_type": "code",
   "execution_count": 88,
   "id": "1b49d910",
   "metadata": {},
   "outputs": [],
   "source": [
    "from IPython.display import Image\n",
    "    \n",
    "\n",
    "bank_fraud_xls = './data/금융사기_성별 데이터.xlsx'"
   ]
  },
  {
   "cell_type": "code",
   "execution_count": 89,
   "id": "3c7cfcc2",
   "metadata": {},
   "outputs": [
    {
     "data": {
      "text/html": [
       "<div>\n",
       "<style scoped>\n",
       "    .dataframe tbody tr th:only-of-type {\n",
       "        vertical-align: middle;\n",
       "    }\n",
       "\n",
       "    .dataframe tbody tr th {\n",
       "        vertical-align: top;\n",
       "    }\n",
       "\n",
       "    .dataframe thead th {\n",
       "        text-align: right;\n",
       "    }\n",
       "</style>\n",
       "<table border=\"1\" class=\"dataframe\">\n",
       "  <thead>\n",
       "    <tr style=\"text-align: right;\">\n",
       "      <th></th>\n",
       "      <th>고유번호</th>\n",
       "      <th>성별</th>\n",
       "      <th>피해금액구간</th>\n",
       "      <th>최소값</th>\n",
       "      <th>최대값</th>\n",
       "      <th>피해범위</th>\n",
       "      <th>등록일시</th>\n",
       "      <th>등록년월</th>\n",
       "    </tr>\n",
       "  </thead>\n",
       "  <tbody>\n",
       "    <tr>\n",
       "      <th>0</th>\n",
       "      <td>283904</td>\n",
       "      <td>남자</td>\n",
       "      <td>10000-100000</td>\n",
       "      <td>10000</td>\n",
       "      <td>100000</td>\n",
       "      <td>1백 미만</td>\n",
       "      <td>2.022053e+19</td>\n",
       "      <td>2022.05</td>\n",
       "    </tr>\n",
       "    <tr>\n",
       "      <th>1</th>\n",
       "      <td>283903</td>\n",
       "      <td>남자</td>\n",
       "      <td>300000-400000</td>\n",
       "      <td>300000</td>\n",
       "      <td>400000</td>\n",
       "      <td>1백 미만</td>\n",
       "      <td>2.022053e+19</td>\n",
       "      <td>2022.05</td>\n",
       "    </tr>\n",
       "    <tr>\n",
       "      <th>2</th>\n",
       "      <td>283902</td>\n",
       "      <td>여자</td>\n",
       "      <td>900000-1000000</td>\n",
       "      <td>900000</td>\n",
       "      <td>1000000</td>\n",
       "      <td>1백 미만</td>\n",
       "      <td>2.022053e+19</td>\n",
       "      <td>2022.05</td>\n",
       "    </tr>\n",
       "    <tr>\n",
       "      <th>3</th>\n",
       "      <td>283901</td>\n",
       "      <td>여자</td>\n",
       "      <td>900000-1000000</td>\n",
       "      <td>900000</td>\n",
       "      <td>1000000</td>\n",
       "      <td>1백 미만</td>\n",
       "      <td>2.022053e+19</td>\n",
       "      <td>2022.05</td>\n",
       "    </tr>\n",
       "    <tr>\n",
       "      <th>4</th>\n",
       "      <td>283900</td>\n",
       "      <td>여자</td>\n",
       "      <td>900000-1000000</td>\n",
       "      <td>900000</td>\n",
       "      <td>1000000</td>\n",
       "      <td>1백 미만</td>\n",
       "      <td>2.022053e+19</td>\n",
       "      <td>2022.05</td>\n",
       "    </tr>\n",
       "  </tbody>\n",
       "</table>\n",
       "</div>"
      ],
      "text/plain": [
       "     고유번호  성별          피해금액구간     최소값      최대값   피해범위          등록일시     등록년월\n",
       "0  283904  남자    10000-100000   10000   100000  1백 미만  2.022053e+19  2022.05\n",
       "1  283903  남자   300000-400000  300000   400000  1백 미만  2.022053e+19  2022.05\n",
       "2  283902  여자  900000-1000000  900000  1000000  1백 미만  2.022053e+19  2022.05\n",
       "3  283901  여자  900000-1000000  900000  1000000  1백 미만  2.022053e+19  2022.05\n",
       "4  283900  여자  900000-1000000  900000  1000000  1백 미만  2.022053e+19  2022.05"
      ]
     },
     "execution_count": 89,
     "metadata": {},
     "output_type": "execute_result"
    }
   ],
   "source": [
    "bank_fraud_df = pd.read_excel(bank_fraud_xls, sheet_name='최근 1년')\n",
    "bank_fraud_df.head(5)"
   ]
  },
  {
   "cell_type": "code",
   "execution_count": 90,
   "id": "22ccf14d",
   "metadata": {
    "scrolled": true
   },
   "outputs": [
    {
     "data": {
      "text/plain": [
       "195288"
      ]
     },
     "execution_count": 90,
     "metadata": {},
     "output_type": "execute_result"
    }
   ],
   "source": [
    "len(bank_fraud_df['고유번호'])"
   ]
  },
  {
   "cell_type": "code",
   "execution_count": 91,
   "id": "01507d67",
   "metadata": {},
   "outputs": [
    {
     "data": {
      "text/plain": [
       "0         2022.05\n",
       "1         2022.05\n",
       "2         2022.05\n",
       "3         2022.05\n",
       "4         2022.05\n",
       "           ...   \n",
       "195283    2021.06\n",
       "195284    2021.06\n",
       "195285    2021.06\n",
       "195286    2021.06\n",
       "195287    2021.06\n",
       "Name: 등록년월, Length: 195288, dtype: float64"
      ]
     },
     "execution_count": 91,
     "metadata": {},
     "output_type": "execute_result"
    }
   ],
   "source": [
    "bank_fraud_df['등록년월']"
   ]
  },
  {
   "cell_type": "code",
   "execution_count": 92,
   "id": "2b329d74",
   "metadata": {},
   "outputs": [
    {
     "data": {
      "text/plain": [
       "0    남자\n",
       "1    남자\n",
       "2    여자\n",
       "3    여자\n",
       "4    여자\n",
       "Name: 성별, dtype: object"
      ]
     },
     "execution_count": 92,
     "metadata": {},
     "output_type": "execute_result"
    }
   ],
   "source": [
    "bank_fraud_df['성별'][0:5]"
   ]
  },
  {
   "cell_type": "code",
   "execution_count": 93,
   "id": "3b658a0e",
   "metadata": {},
   "outputs": [],
   "source": [
    "from functools import * "
   ]
  },
  {
   "cell_type": "code",
   "execution_count": 94,
   "id": "da6210e1",
   "metadata": {},
   "outputs": [],
   "source": [
    "def count_columns(result_dic, element) :\n",
    "    if result_dic.get(element) :\n",
    "        result_dic[element] += 1\n",
    "    else:\n",
    "        result_dic[element] = 1\n",
    "\n",
    "    return result_dic\n",
    "\n",
    "def get_group_count(bank_fraud_df_column) :\n",
    "    return reduce(count_columns, bank_fraud_df_column, dict())"
   ]
  },
  {
   "cell_type": "code",
   "execution_count": 95,
   "id": "919274d2",
   "metadata": {},
   "outputs": [
    {
     "data": {
      "text/plain": [
       "{'남자': 134599, '여자': 60689}"
      ]
     },
     "execution_count": 95,
     "metadata": {},
     "output_type": "execute_result"
    }
   ],
   "source": [
    "result1 = get_group_count(bank_fraud_df['성별'])\n",
    "result1"
   ]
  },
  {
   "cell_type": "code",
   "execution_count": 96,
   "id": "aaade0de",
   "metadata": {},
   "outputs": [
    {
     "data": {
      "text/plain": [
       "{'1백 미만': 174524,\n",
       " '1백~5백': 15608,\n",
       " '5백~1천': 2136,\n",
       " '1천~5천': 2656,\n",
       " '5천~1억': 348,\n",
       " '1억 이상': 16}"
      ]
     },
     "execution_count": 96,
     "metadata": {},
     "output_type": "execute_result"
    }
   ],
   "source": [
    "result2 = get_group_count(bank_fraud_df['피해범위'])\n",
    "result2"
   ]
  },
  {
   "cell_type": "code",
   "execution_count": 97,
   "id": "69d1497a",
   "metadata": {},
   "outputs": [
    {
     "data": {
      "text/plain": [
       "['남자', '여자']"
      ]
     },
     "execution_count": 97,
     "metadata": {},
     "output_type": "execute_result"
    }
   ],
   "source": [
    "sex = list(result1.keys())\n",
    "sex"
   ]
  },
  {
   "cell_type": "code",
   "execution_count": 98,
   "id": "6e806f28",
   "metadata": {},
   "outputs": [
    {
     "data": {
      "text/plain": [
       "[134599, 60689]"
      ]
     },
     "execution_count": 98,
     "metadata": {},
     "output_type": "execute_result"
    }
   ],
   "source": [
    "sex_cnt = list(result1.values())\n",
    "sex_cnt"
   ]
  },
  {
   "cell_type": "code",
   "execution_count": 99,
   "id": "463a9a37",
   "metadata": {},
   "outputs": [
    {
     "data": {
      "text/plain": [
       "['1백 미만', '1백~5백', '5백~1천', '1천~5천', '5천~1억', '1억 이상']"
      ]
     },
     "execution_count": 99,
     "metadata": {},
     "output_type": "execute_result"
    }
   ],
   "source": [
    "fraud_range = list(result2.keys())\n",
    "fraud_range "
   ]
  },
  {
   "cell_type": "code",
   "execution_count": 100,
   "id": "cb204075",
   "metadata": {},
   "outputs": [
    {
     "data": {
      "text/plain": [
       "[174524, 15608, 2136, 2656, 348, 16]"
      ]
     },
     "execution_count": 100,
     "metadata": {},
     "output_type": "execute_result"
    }
   ],
   "source": [
    "range_cnt = list(result2.values())\n",
    "range_cnt"
   ]
  },
  {
   "cell_type": "code",
   "execution_count": 101,
   "id": "64d0367b",
   "metadata": {},
   "outputs": [
    {
     "data": {
      "image/png": "[encoded data removed]",
      "text/plain": [
       "<Figure size 288x288 with 1 Axes>"
      ]
     },
     "metadata": {},
     "output_type": "display_data"
    }
   ],
   "source": [
    "plt.figure(figsize=(4,4))\n",
    "plt.pie(sex_cnt, labels=sex, autopct='%1.1f%%',shadow=True, startangle=90)  \n",
    "plt.title(\"성별 금융사기 피해 현황\", fontsize=13)\n",
    "plt.show()"
   ]
  },
  {
   "cell_type": "code",
   "execution_count": 102,
   "id": "d8b65125",
   "metadata": {},
   "outputs": [
    {
     "data": {
      "image/png": "[encoded data removed]",
      "text/plain": [
       "<Figure size 432x432 with 1 Axes>"
      ]
     },
     "metadata": {},
     "output_type": "display_data"
    }
   ],
   "source": [
    "label=fraud_range\n",
    "color=('b','r','g','y','m','c') \n",
    "plt.figure(figsize=(6,6))\n",
    "explode = [0.3,0.1,0.2,0.3,0.7,0.9]\n",
    "plt.pie(range_cnt, labels = label, colors = color,autopct='%1.1f%%',shadow=True, startangle=225, explode = explode)  \n",
    "plt.title(\"\\n금융사기 피해금액별 현황\\n\", fontsize=20)\n",
    "\n",
    "plt.legend(loc = 2, fontsize =10)\n",
    "plt.show()"
   ]
  },
  {
   "cell_type": "code",
   "execution_count": 103,
   "id": "1d29b5d4",
   "metadata": {},
   "outputs": [
    {
     "data": {
      "text/plain": [
       "0         2022.05\n",
       "1         2022.05\n",
       "2         2022.05\n",
       "3         2022.05\n",
       "4         2022.05\n",
       "           ...   \n",
       "195283    2021.06\n",
       "195284    2021.06\n",
       "195285    2021.06\n",
       "195286    2021.06\n",
       "195287    2021.06\n",
       "Name: 등록년월, Length: 195288, dtype: float64"
      ]
     },
     "execution_count": 103,
     "metadata": {},
     "output_type": "execute_result"
    }
   ],
   "source": [
    "bank_fraud_df['등록년월']"
   ]
  },
  {
   "cell_type": "code",
   "execution_count": 104,
   "id": "891a3825",
   "metadata": {},
   "outputs": [
    {
     "data": {
      "text/plain": [
       "134599"
      ]
     },
     "execution_count": 104,
     "metadata": {},
     "output_type": "execute_result"
    }
   ],
   "source": [
    "len(bank_fraud_df['등록년월'][bank_fraud_df.성별=='남자'])"
   ]
  },
  {
   "cell_type": "code",
   "execution_count": 105,
   "id": "c7a42696",
   "metadata": {},
   "outputs": [
    {
     "data": {
      "text/plain": [
       "134599"
      ]
     },
     "execution_count": 105,
     "metadata": {},
     "output_type": "execute_result"
    }
   ],
   "source": [
    "len(bank_fraud_df['성별'][bank_fraud_df.성별=='남자'])"
   ]
  },
  {
   "cell_type": "code",
   "execution_count": 106,
   "id": "718c98b9",
   "metadata": {},
   "outputs": [
    {
     "data": {
      "text/plain": [
       "0"
      ]
     },
     "execution_count": 106,
     "metadata": {},
     "output_type": "execute_result"
    }
   ],
   "source": [
    "len(bank_fraud_df['등록년월'][bank_fraud_df.등록년월==202205])"
   ]
  },
  {
   "cell_type": "code",
   "execution_count": 107,
   "id": "2ccd786d",
   "metadata": {},
   "outputs": [
    {
     "data": {
      "text/plain": [
       "195288"
      ]
     },
     "execution_count": 107,
     "metadata": {},
     "output_type": "execute_result"
    }
   ],
   "source": [
    "len(bank_fraud_df)"
   ]
  },
  {
   "cell_type": "code",
   "execution_count": 108,
   "id": "58f09dce",
   "metadata": {},
   "outputs": [
    {
     "data": {
      "text/plain": [
       "[('남자', 2022.05)]"
      ]
     },
     "execution_count": 108,
     "metadata": {},
     "output_type": "execute_result"
    }
   ],
   "source": [
    "idx = 0\n",
    "bank_fraud_df_columns = []\n",
    "\n",
    "element = bank_fraud_df['성별'][idx], bank_fraud_df['등록년월'][idx]\n",
    "\n",
    "bank_fraud_df_columns.append(element)\n",
    "bank_fraud_df_columns"
   ]
  },
  {
   "cell_type": "code",
   "execution_count": 109,
   "id": "34256206",
   "metadata": {},
   "outputs": [
    {
     "data": {
      "text/plain": [
       "195288"
      ]
     },
     "execution_count": 109,
     "metadata": {},
     "output_type": "execute_result"
    }
   ],
   "source": [
    "len(bank_fraud_df)"
   ]
  },
  {
   "cell_type": "code",
   "execution_count": 110,
   "id": "c8747147",
   "metadata": {},
   "outputs": [
    {
     "data": {
      "text/plain": [
       "195288"
      ]
     },
     "execution_count": 110,
     "metadata": {},
     "output_type": "execute_result"
    }
   ],
   "source": [
    "bank_fraud_df_columns = []\n",
    "\n",
    "for idx in range(len(bank_fraud_df)):\n",
    "    element = bank_fraud_df['성별'][idx], bank_fraud_df['등록년월'][idx]\n",
    "    bank_fraud_df_columns.append(element)\n",
    "    \n",
    "len(bank_fraud_df_columns)"
   ]
  },
  {
   "cell_type": "code",
   "execution_count": 111,
   "id": "4aade402",
   "metadata": {},
   "outputs": [
    {
     "data": {
      "text/plain": [
       "[('남자', 2022.05),\n",
       " ('남자', 2022.05),\n",
       " ('여자', 2022.05),\n",
       " ('여자', 2022.05),\n",
       " ('여자', 2022.05),\n",
       " ('남자', 2022.05),\n",
       " ('남자', 2022.05),\n",
       " ('남자', 2022.05),\n",
       " ('남자', 2022.05),\n",
       " ('남자', 2022.05)]"
      ]
     },
     "execution_count": 111,
     "metadata": {},
     "output_type": "execute_result"
    }
   ],
   "source": [
    "bank_fraud_df_columns[:10]"
   ]
  },
  {
   "cell_type": "code",
   "execution_count": 112,
   "id": "056c501b",
   "metadata": {},
   "outputs": [],
   "source": [
    "def get_group_count(bank_fraud_df_columns):\n",
    "    print('len(bank_fraud_df_columns) :', len(bank_fraud_df_columns))\n",
    "    \n",
    "    def count_columns(result_dic, element_tuple):\n",
    "        element1, element2 = element_tuple\n",
    "        # print(element1, ':', element2)\n",
    "        \n",
    "        if not (result_dic.get(element1)):\n",
    "            result_dic[element1] = {}\n",
    "            \n",
    "        if result_dic[element1].get(element2):\n",
    "            result_dic[element1][element2] += 1\n",
    "        else :\n",
    "            result_dic[element1][element2] = 1\n",
    "        \n",
    "        return result_dic\n",
    "    \n",
    "    result = reduce(count_columns, bank_fraud_df_columns, dict())\n",
    "    return result"
   ]
  },
  {
   "cell_type": "code",
   "execution_count": 113,
   "id": "d88d55ac",
   "metadata": {},
   "outputs": [
    {
     "name": "stdout",
     "output_type": "stream",
     "text": [
      "len(bank_fraud_df_columns) : 195288\n"
     ]
    },
    {
     "data": {
      "text/plain": [
       "{'남자': {2022.05: 11480,\n",
       "  2022.04: 10849,\n",
       "  2022.03: 13236,\n",
       "  2022.02: 12709,\n",
       "  2022.01: 11885,\n",
       "  2021.12: 10228,\n",
       "  2021.11: 11100,\n",
       "  2021.1: 10366,\n",
       "  2021.09: 10531,\n",
       "  2021.08: 11291,\n",
       "  2021.07: 10851,\n",
       "  2021.06: 10073},\n",
       " '여자': {2022.05: 6188,\n",
       "  2022.04: 5251,\n",
       "  2022.03: 6454,\n",
       "  2022.02: 5719,\n",
       "  2022.01: 5439,\n",
       "  2021.12: 4847,\n",
       "  2021.11: 3279,\n",
       "  2021.1: 5473,\n",
       "  2021.09: 4409,\n",
       "  2021.08: 4503,\n",
       "  2021.07: 4742,\n",
       "  2021.06: 4385}}"
      ]
     },
     "execution_count": 113,
     "metadata": {},
     "output_type": "execute_result"
    }
   ],
   "source": [
    "result4 = get_group_count(bank_fraud_df_columns)\n",
    "result4"
   ]
  },
  {
   "cell_type": "code",
   "execution_count": 114,
   "id": "96034a11",
   "metadata": {},
   "outputs": [
    {
     "data": {
      "text/plain": [
       "{2022.05: 11480,\n",
       " 2022.04: 10849,\n",
       " 2022.03: 13236,\n",
       " 2022.02: 12709,\n",
       " 2022.01: 11885,\n",
       " 2021.12: 10228,\n",
       " 2021.11: 11100,\n",
       " 2021.1: 10366,\n",
       " 2021.09: 10531,\n",
       " 2021.08: 11291,\n",
       " 2021.07: 10851,\n",
       " 2021.06: 10073}"
      ]
     },
     "execution_count": 114,
     "metadata": {},
     "output_type": "execute_result"
    }
   ],
   "source": [
    "dict_element = result4['남자']\n",
    "dict_element"
   ]
  },
  {
   "cell_type": "code",
   "execution_count": 115,
   "id": "1c08ae79",
   "metadata": {},
   "outputs": [
    {
     "data": {
      "text/plain": [
       "[11480,\n",
       " 10849,\n",
       " 13236,\n",
       " 12709,\n",
       " 11885,\n",
       " 10228,\n",
       " 11100,\n",
       " 10366,\n",
       " 10531,\n",
       " 11291,\n",
       " 10851,\n",
       " 10073]"
      ]
     },
     "execution_count": 115,
     "metadata": {},
     "output_type": "execute_result"
    }
   ],
   "source": [
    "dict_values = [dict_element[key] for key in dict_element.keys()]\n",
    "dict_values"
   ]
  },
  {
   "cell_type": "code",
   "execution_count": 116,
   "id": "ef251a95",
   "metadata": {},
   "outputs": [
    {
     "data": {
      "text/plain": [
       "134599"
      ]
     },
     "execution_count": 116,
     "metadata": {},
     "output_type": "execute_result"
    }
   ],
   "source": [
    "sum(dict_values)"
   ]
  },
  {
   "cell_type": "code",
   "execution_count": 117,
   "id": "3320f3df",
   "metadata": {},
   "outputs": [
    {
     "data": {
      "text/plain": [
       "4385"
      ]
     },
     "execution_count": 117,
     "metadata": {},
     "output_type": "execute_result"
    }
   ],
   "source": [
    "result4['여자'][2021.06]"
   ]
  },
  {
   "cell_type": "code",
   "execution_count": 118,
   "id": "390c7057",
   "metadata": {},
   "outputs": [],
   "source": [
    " month = [202106, 202107, 202108, 202109, 202110, 202111, 202112, 202201, 202202, 202203, 202204, 202205]"
   ]
  },
  {
   "cell_type": "code",
   "execution_count": 119,
   "id": "b08d89d2",
   "metadata": {},
   "outputs": [],
   "source": [
    "count_m = []\n",
    "count_f = []\n",
    "month = [2021.06, 2021.07, 2021.08, 2021.09, 2021.10, 2021.11, 2021.12, 2022.01, 2022.02, 2022.03, 2022.04, 2022.05]\n",
    "for i in range(12):\n",
    "    count_m.append(result4['남자'][month[i]])\n",
    "    count_f.append(result4['여자'][month[i]])   "
   ]
  },
  {
   "cell_type": "code",
   "execution_count": 120,
   "id": "54e67c49",
   "metadata": {},
   "outputs": [
    {
     "data": {
      "text/plain": [
       "([2021.06,\n",
       "  2021.07,\n",
       "  2021.08,\n",
       "  2021.09,\n",
       "  2021.1,\n",
       "  2021.11,\n",
       "  2021.12,\n",
       "  2022.01,\n",
       "  2022.02,\n",
       "  2022.03,\n",
       "  2022.04,\n",
       "  2022.05],\n",
       " [4385, 4742, 4503, 4409, 5473, 3279, 4847, 5439, 5719, 6454, 5251, 6188],\n",
       " [10073,\n",
       "  10851,\n",
       "  11291,\n",
       "  10531,\n",
       "  10366,\n",
       "  11100,\n",
       "  10228,\n",
       "  11885,\n",
       "  12709,\n",
       "  13236,\n",
       "  10849,\n",
       "  11480])"
      ]
     },
     "execution_count": 120,
     "metadata": {},
     "output_type": "execute_result"
    }
   ],
   "source": [
    "month, count_f, count_m"
   ]
  },
  {
   "cell_type": "code",
   "execution_count": 121,
   "id": "bb029fd1",
   "metadata": {},
   "outputs": [
    {
     "data": {
      "image/png": "[encoded data removed]",
      "text/plain": [
       "<Figure size 720x432 with 1 Axes>"
      ]
     },
     "metadata": {
      "needs_background": "light"
     },
     "output_type": "display_data"
    }
   ],
   "source": [
    "months = ['21.06', '21.07', '21.08', '21.09','21.10','21.11','21.12','22.01','22.02','22.03','22.04','22.05']\n",
    "plt.figure(figsize = (10,6))\n",
    "plt.plot(months, count_m, lw=3, label='남자')\n",
    "plt.plot(months, count_f, 'r', lw=3, label='여자')\n",
    "plt.grid()\n",
    "plt.xlabel('월')\n",
    "plt.ylabel('건수')\n",
    "plt.legend()\n",
    "plt.title('\\n성별에 따른 월별 금융사기 피해 건수\\n', fontsize=15)\n",
    "plt.show()"
   ]
  },
  {
   "cell_type": "code",
   "execution_count": 122,
   "id": "0aaeafb5",
   "metadata": {},
   "outputs": [
    {
     "data": {
      "image/png": "[encoded data removed]",
      "text/plain": [
       "<Figure size 720x432 with 1 Axes>"
      ]
     },
     "metadata": {
      "needs_background": "light"
     },
     "output_type": "display_data"
    }
   ],
   "source": [
    "months = [0,1,2,3,4,5,6,7,8,9,10,11]\n",
    "plt.figure(figsize = (10,6))\n",
    "A = count_m \n",
    "B = count_f\n",
    "X = np.arange(12)\n",
    "plt.bar(X, A, color='b', label='남자')\n",
    "plt.bar(X, B, color='r', bottom=A,label='여자')\n",
    "plt.xticks(months, ('21.06', '21.07', '21.08', '21.09','21.10', '21.11','21.12','22.01','22.02','22.03','22.04','22.05'))\n",
    "plt.grid()\n",
    "plt.xlabel('월')\n",
    "plt.ylabel('건수')\n",
    "plt.legend()\n",
    "plt.title('\\n성별에 따른 월별 금융사기 피해 건수\\n', fontsize =16)\n",
    "plt.show()"
   ]
  },
  {
   "cell_type": "code",
   "execution_count": 123,
   "id": "3e33946d",
   "metadata": {},
   "outputs": [
    {
     "data": {
      "text/plain": [
       "[('남자', '1백 미만')]"
      ]
     },
     "execution_count": 123,
     "metadata": {},
     "output_type": "execute_result"
    }
   ],
   "source": [
    "idx = 0\n",
    "bank_fraud_df_columns = []\n",
    "\n",
    "element = bank_fraud_df['성별'][idx], bank_fraud_df['피해범위'][idx]\n",
    "\n",
    "bank_fraud_df_columns.append(element)\n",
    "bank_fraud_df_columns"
   ]
  },
  {
   "cell_type": "code",
   "execution_count": 124,
   "id": "e896eb5b",
   "metadata": {},
   "outputs": [
    {
     "data": {
      "text/plain": [
       "[('남자', '1백 미만')]"
      ]
     },
     "execution_count": 124,
     "metadata": {},
     "output_type": "execute_result"
    }
   ],
   "source": [
    "bank_fraud_df_columns"
   ]
  },
  {
   "cell_type": "code",
   "execution_count": 125,
   "id": "5db2d517",
   "metadata": {},
   "outputs": [
    {
     "data": {
      "text/plain": [
       "195288"
      ]
     },
     "execution_count": 125,
     "metadata": {},
     "output_type": "execute_result"
    }
   ],
   "source": [
    "bank_fraud_df_columns = []\n",
    "\n",
    "for idx in range(len(bank_fraud_df)):\n",
    "    element = bank_fraud_df['성별'][idx], bank_fraud_df['피해범위'][idx]\n",
    "    bank_fraud_df_columns.append(element)\n",
    "    \n",
    "len(bank_fraud_df_columns)"
   ]
  },
  {
   "cell_type": "code",
   "execution_count": 126,
   "id": "03e860f1",
   "metadata": {},
   "outputs": [
    {
     "data": {
      "text/plain": [
       "[('남자', '1백 미만'),\n",
       " ('남자', '1백 미만'),\n",
       " ('여자', '1백 미만'),\n",
       " ('여자', '1백 미만'),\n",
       " ('여자', '1백 미만'),\n",
       " ('남자', '1백 미만'),\n",
       " ('남자', '1백 미만'),\n",
       " ('남자', '1백 미만'),\n",
       " ('남자', '1백 미만'),\n",
       " ('남자', '1백 미만')]"
      ]
     },
     "execution_count": 126,
     "metadata": {},
     "output_type": "execute_result"
    }
   ],
   "source": [
    "bank_fraud_df_columns[:10]"
   ]
  },
  {
   "cell_type": "code",
   "execution_count": 127,
   "id": "d345883d",
   "metadata": {},
   "outputs": [],
   "source": [
    "def get_group_count2(bank_fraud_df_columns):\n",
    "    print('len(bank_fraud_df_columns) :', len(bank_fraud_df_columns))\n",
    "    \n",
    "    def count_columns2(result_dic, element_tuple):\n",
    "        element1, element2 = element_tuple\n",
    "        # print(element1, ':', element2)\n",
    "        \n",
    "        if not (result_dic.get(element1)):\n",
    "            result_dic[element1] = {}\n",
    "            \n",
    "        if result_dic[element1].get(element2):\n",
    "            result_dic[element1][element2] += 1\n",
    "        else :\n",
    "            result_dic[element1][element2] = 1\n",
    "        \n",
    "        return result_dic\n",
    "    \n",
    "    result = reduce(count_columns2, bank_fraud_df_columns, dict())\n",
    "    return result"
   ]
  },
  {
   "cell_type": "code",
   "execution_count": 128,
   "id": "4923b8ca",
   "metadata": {},
   "outputs": [
    {
     "name": "stdout",
     "output_type": "stream",
     "text": [
      "len(bank_fraud_df_columns) : 195288\n"
     ]
    },
    {
     "data": {
      "text/plain": [
       "{'남자': {'1백 미만': 120678,\n",
       "  '1백~5백': 10923,\n",
       "  '5백~1천': 1121,\n",
       "  '1천~5천': 1722,\n",
       "  '5천~1억': 148,\n",
       "  '1억 이상': 7},\n",
       " '여자': {'1백 미만': 53846,\n",
       "  '1백~5백': 4685,\n",
       "  '1천~5천': 934,\n",
       "  '5백~1천': 1015,\n",
       "  '5천~1억': 200,\n",
       "  '1억 이상': 9}}"
      ]
     },
     "execution_count": 128,
     "metadata": {},
     "output_type": "execute_result"
    }
   ],
   "source": [
    "result = get_group_count2(bank_fraud_df_columns)\n",
    "result"
   ]
  },
  {
   "cell_type": "code",
   "execution_count": 129,
   "id": "f8e23113",
   "metadata": {},
   "outputs": [
    {
     "data": {
      "text/plain": [
       "{'남자': {'1백 미만': 120678,\n",
       "  '1백~5백': 10923,\n",
       "  '5백~1천': 1121,\n",
       "  '1천~5천': 1722,\n",
       "  '5천~1억': 148,\n",
       "  '1억 이상': 7},\n",
       " '여자': {'1백 미만': 53846,\n",
       "  '1백~5백': 4685,\n",
       "  '1천~5천': 934,\n",
       "  '5백~1천': 1015,\n",
       "  '5천~1억': 200,\n",
       "  '1억 이상': 9}}"
      ]
     },
     "execution_count": 129,
     "metadata": {},
     "output_type": "execute_result"
    }
   ],
   "source": [
    "result"
   ]
  },
  {
   "cell_type": "code",
   "execution_count": 130,
   "id": "09abe1bb",
   "metadata": {},
   "outputs": [],
   "source": [
    "count_m2 = []\n",
    "count_f2 = []\n",
    "money_range = ['1백 미만', '1백~5백', '5백~1천', '1천~5천', '5천~1억', '1억 이상']\n",
    "for i in money_range:\n",
    "    \n",
    "    count_m2.append(result['남자'][i])\n",
    "    count_f2.append(result['여자'][i])   "
   ]
  },
  {
   "cell_type": "code",
   "execution_count": 131,
   "id": "79706c8b",
   "metadata": {},
   "outputs": [
    {
     "data": {
      "text/plain": [
       "([120678, 10923, 1121, 1722, 148, 7], [53846, 4685, 1015, 934, 200, 9])"
      ]
     },
     "execution_count": 131,
     "metadata": {},
     "output_type": "execute_result"
    }
   ],
   "source": [
    "count_m2, count_f2"
   ]
  },
  {
   "cell_type": "code",
   "execution_count": 132,
   "id": "58dac82c",
   "metadata": {
    "scrolled": false
   },
   "outputs": [
    {
     "name": "stderr",
     "output_type": "stream",
     "text": [
      "No artists with labels found to put in legend.  Note that artists whose label start with an underscore are ignored when legend() is called with no argument.\n"
     ]
    },
    {
     "data": {
      "image/png": "[encoded data removed]",
      "text/plain": [
       "<Figure size 360x360 with 1 Axes>"
      ]
     },
     "metadata": {},
     "output_type": "display_data"
    }
   ],
   "source": [
    "label= '1백 미만', '1~5백', '5백~1천', '1 ~ 5천', '5천~1억', '1억 이상'\n",
    "\n",
    "plt.figure(figsize=(5,5))\n",
    "plt.pie(count_m2, autopct='%1.1f%%',shadow=True, startangle=45)  \n",
    "plt.title(\"\\n성별 금융사기 피해 현황\\n\", fontsize=15)\n",
    "plt.legend()\n",
    "plt.show()"
   ]
  },
  {
   "cell_type": "code",
   "execution_count": 133,
   "id": "58da8297",
   "metadata": {},
   "outputs": [
    {
     "data": {
      "image/png": "[encoded data removed]",
      "text/plain": [
       "<Figure size 720x720 with 1 Axes>"
      ]
     },
     "metadata": {},
     "output_type": "display_data"
    }
   ],
   "source": [
    "label= '1백 미만', '1~5백', '5백~1천', '1 ~ 5천', '5천~1억', '1억 이상'\n",
    "\n",
    "plt.figure(figsize=(10,10))\n",
    "plt.pie(count_f2, labels=label, autopct='%1.1f%%',shadow=True, startangle=45)  \n",
    "plt.title(\"\\n성별 금융사기 피해 현황\\n\", fontsize=15)\n",
    "plt.show()"
   ]
  },
  {
   "cell_type": "code",
   "execution_count": 134,
   "id": "1a21aab9",
   "metadata": {
    "scrolled": false
   },
   "outputs": [
    {
     "data": {
      "image/png": "[encoded data removed]",
      "text/plain": [
       "<Figure size 720x432 with 1 Axes>"
      ]
     },
     "metadata": {
      "needs_background": "light"
     },
     "output_type": "display_data"
    }
   ],
   "source": [
    "months = [0,1,2,3,4,5]\n",
    "plt.figure(figsize = (10,6))\n",
    "A = count_m2\n",
    "B = count_f2\n",
    "X = np.arange(6)\n",
    "plt.bar(X, A, color='b', label='남자')\n",
    "plt.bar(X, B, color='r', bottom=A,label='여자')\n",
    "plt.xticks(months, ('1백 미만', '1~5백', '5백~1천', '1 ~ 5천', '5천~1억', '1억 이상'))\n",
    "plt.grid()\n",
    "plt.xlabel('월')\n",
    "plt.ylabel('건수')\n",
    "plt.legend()\n",
    "plt.title('금융사기 피해금액별 현황')\n",
    "plt.show()"
   ]
  },
  {
   "cell_type": "code",
   "execution_count": null,
   "id": "c1f2967d",
   "metadata": {},
   "outputs": [],
   "source": []
  },
  {
   "cell_type": "code",
   "execution_count": null,
   "id": "43465d42",
   "metadata": {},
   "outputs": [],
   "source": []
  },
  {
   "cell_type": "code",
   "execution_count": null,
   "id": "6be91db5",
   "metadata": {},
   "outputs": [],
   "source": []
  },
  {
   "cell_type": "code",
   "execution_count": null,
   "id": "cac6114e",
   "metadata": {},
   "outputs": [],
   "source": []
  },
  {
   "cell_type": "code",
   "execution_count": null,
   "id": "1076d3f2",
   "metadata": {},
   "outputs": [],
   "source": []
  },
  {
   "cell_type": "code",
   "execution_count": null,
   "id": "38f1a7cb",
   "metadata": {},
   "outputs": [],
   "source": []
  },
  {
   "cell_type": "code",
   "execution_count": null,
   "id": "1ac6551a",
   "metadata": {},
   "outputs": [],
   "source": []
  }
 ],
 "metadata": {
  "kernelspec": {
   "display_name": "Python 3 (ipykernel)",
   "language": "python",
   "name": "python3"
  },
  "language_info": {
   "codemirror_mode": {
    "name": "ipython",
    "version": 3
   },
   "file_extension": ".py",
   "mimetype": "text/x-python",
   "name": "python",
   "nbconvert_exporter": "python",
   "pygments_lexer": "ipython3",
   "version": "3.9.12"
  }
 },
 "nbformat": 4,
 "nbformat_minor": 5
}
