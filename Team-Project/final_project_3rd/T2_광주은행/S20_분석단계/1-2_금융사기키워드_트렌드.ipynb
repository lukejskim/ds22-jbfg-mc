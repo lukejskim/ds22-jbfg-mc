{
 "cells": [
  {
   "cell_type": "code",
   "execution_count": 1,
   "id": "c5825f51",
   "metadata": {},
   "outputs": [],
   "source": [
    "from bs4 import BeautifulSoup\n",
    "from selenium import webdriver\n",
    "from selenium.webdriver.common.by import By\n",
    "from IPython.display import Image\n",
    "from itertools import count\n",
    "import pandas as pd\n",
    "import time\n",
    "import re"
   ]
  },
  {
   "cell_type": "code",
   "execution_count": 2,
   "id": "c1e49383",
   "metadata": {},
   "outputs": [
    {
     "name": "stderr",
     "output_type": "stream",
     "text": [
      "C:\\Users\\student\\AppData\\Local\\Temp\\ipykernel_4472\\3620293503.py:3: DeprecationWarning: executable_path has been deprecated, please pass in a Service object\n",
      "  driver = webdriver.Chrome(executable_path=driver_path)\n"
     ]
    }
   ],
   "source": [
    "# 웹드라이브로 크롬브라우즈 띄운다.\n",
    "driver_path = \"../driver/chromedriver.exe\"\n",
    "driver = webdriver.Chrome(executable_path=driver_path)"
   ]
  },
  {
   "cell_type": "code",
   "execution_count": 3,
   "id": "0ffcfe7a",
   "metadata": {},
   "outputs": [],
   "source": [
    "url_page = 'https://www.naver.com/'\n",
    "driver.get(url_page)"
   ]
  },
  {
   "cell_type": "code",
   "execution_count": 4,
   "id": "b50b787e",
   "metadata": {},
   "outputs": [],
   "source": [
    "# 검색창에 검색어 입력\n",
    "\n",
    "search_word ='보이스피싱'\n",
    "css_selector = '#query'\n",
    "driver.find_element(by=By.CSS_SELECTOR, value=css_selector).send_keys(search_word)"
   ]
  },
  {
   "cell_type": "code",
   "execution_count": 26,
   "id": "ecf4db04",
   "metadata": {},
   "outputs": [],
   "source": [
    "# 검색버튼클릭\n",
    "css_selector = '#search_btn'\n",
    "driver.find_element(by=By.CSS_SELECTOR, value=css_selector).click()"
   ]
  },
  {
   "cell_type": "code",
   "execution_count": 27,
   "id": "dc215772",
   "metadata": {},
   "outputs": [],
   "source": [
    "# 뉴스클릭\n",
    "css_selector = '#lnb > div.lnb_group > div > ul > li:nth-child(2) > a'\n",
    "driver.find_element(by=By.CSS_SELECTOR, value=css_selector).click()"
   ]
  },
  {
   "cell_type": "code",
   "execution_count": 28,
   "id": "1d2c0a88",
   "metadata": {},
   "outputs": [],
   "source": [
    "# 옵션버튼 클릭\n",
    "css_selector = '#snb > div.api_group_option_filter._search_option_simple_wrap > div > div.option_filter > a > i'\n",
    "driver.find_element(by=By.CSS_SELECTOR, value=css_selector).click()"
   ]
  },
  {
   "cell_type": "code",
   "execution_count": 29,
   "id": "dda22005",
   "metadata": {},
   "outputs": [],
   "source": [
    "# 기간설정\n",
    "css_selector = '#snb > div.api_group_option_sort._search_option_detail_wrap > ul > li.bx.term > div > div.option > a.txt.txt_option._calendar_select_trigger'\n",
    "driver.find_element(by=By.CSS_SELECTOR, value=css_selector).click()"
   ]
  },
  {
   "cell_type": "code",
   "execution_count": 78,
   "id": "89eedd06",
   "metadata": {},
   "outputs": [],
   "source": [
    "# 시작하는날 \n",
    "# 2016년 1월1일\n",
    "# Year\n",
    "css_selector = '#snb > div.api_group_option_sort._search_option_detail_wrap > ul > li.bx.term > div > div.api_select_option.type_calendar._calendar_select_layer > div.select_wrap._root > div:nth-child(1) > div > div > div > ul > li:nth-child(28) > a'\n",
    "driver.find_element(by=By.CSS_SELECTOR, value=css_selector).click()\n",
    "\n",
    "#Month\n",
    "css_selector = '#snb > div.api_group_option_sort._search_option_detail_wrap > ul > li.bx.term > div > div.api_select_option.type_calendar._calendar_select_layer > div.select_wrap._root > div:nth-child(2) > div > div > div > ul > li:nth-child(1) > a'\n",
    "driver.find_element(by=By.CSS_SELECTOR, value=css_selector).click()\n",
    "\n",
    "#day\n",
    "css_selector = '#snb > div.api_group_option_sort._search_option_detail_wrap > ul > li.bx.term > div > div.api_select_option.type_calendar._calendar_select_layer > div.select_wrap._root > div:nth-child(3) > div > div > div > ul > li:nth-child(1) > a'\n",
    "driver.find_element(by=By.CSS_SELECTOR, value=css_selector).click()\n"
   ]
  },
  {
   "cell_type": "code",
   "execution_count": 79,
   "id": "336ba862",
   "metadata": {},
   "outputs": [],
   "source": [
    "css_selector = '#snb > div.api_group_option_sort._search_option_detail_wrap > ul > li.bx.term > div > div.api_select_option.type_calendar._calendar_select_layer > div.set_calendar > span:nth-child(3) > a'\n",
    "driver.find_element(by=By.CSS_SELECTOR, value=css_selector).click()"
   ]
  },
  {
   "cell_type": "code",
   "execution_count": 80,
   "id": "b78caca9",
   "metadata": {},
   "outputs": [],
   "source": [
    "# 끝나는날\n",
    "# 2016년 12월31일\n",
    "#year\n",
    "css_selector = '#snb > div.api_group_option_sort._search_option_detail_wrap > ul > li.bx.term > div > div.api_select_option.type_calendar._calendar_select_layer > div.select_wrap._root > div:nth-child(1) > div > div > div > ul > li:nth-child(28) > a'\n",
    "driver.find_element(by=By.CSS_SELECTOR, value=css_selector).click()\n",
    "\n",
    "#Month\n",
    "css_selector = '#snb > div.api_group_option_sort._search_option_detail_wrap > ul > li.bx.term > div > div.api_select_option.type_calendar._calendar_select_layer > div.select_wrap._root > div:nth-child(2) > div > div > div > ul > li:nth-child(12) > a'\n",
    "driver.find_element(by=By.CSS_SELECTOR, value=css_selector).click()\n",
    "\n",
    "#day\n",
    "css_selector = '#snb > div.api_group_option_sort._search_option_detail_wrap > ul > li.bx.term > div > div.api_select_option.type_calendar._calendar_select_layer > div.select_wrap._root > div:nth-child(3) > div > div > div > ul > li:nth-child(31) > a'\n",
    "driver.find_element(by=By.CSS_SELECTOR, value=css_selector).click()"
   ]
  },
  {
   "cell_type": "code",
   "execution_count": 16,
   "id": "9388a905",
   "metadata": {},
   "outputs": [],
   "source": [
    "# 적용버튼 클릭하기\n",
    "css_selector = '#snb > div.api_group_option_sort._search_option_detail_wrap > ul > li.bx.term > div > div.api_select_option.type_calendar._calendar_select_layer > div.btn_area > button'\n",
    "driver.find_element(by=By.CSS_SELECTOR, value=css_selector).click()"
   ]
  },
  {
   "cell_type": "code",
   "execution_count": 81,
   "id": "33bc2dc0",
   "metadata": {},
   "outputs": [],
   "source": [
    "#지면기사 버튼 클릭하기\n",
    "css_selector = '#snb > div.api_group_option_sort._search_option_detail_wrap > ul > li.bx.view > div > div > a:nth-child(4)'\n",
    "driver.find_element(by=By.CSS_SELECTOR, value=css_selector).click()"
   ]
  },
  {
   "cell_type": "code",
   "execution_count": null,
   "id": "3fe108e1",
   "metadata": {},
   "outputs": [],
   "source": []
  },
  {
   "cell_type": "code",
   "execution_count": 18,
   "id": "96204460",
   "metadata": {},
   "outputs": [],
   "source": [
    "html = driver.page_source\n",
    "soup = BeautifulSoup(html, \"lxml\") "
   ]
  },
  {
   "cell_type": "code",
   "execution_count": 19,
   "id": "6a70709b",
   "metadata": {},
   "outputs": [],
   "source": [
    "# 한페이지 가져옴\n",
    "listOfsoup = soup.find('ul','list_news')  "
   ]
  },
  {
   "cell_type": "code",
   "execution_count": 23,
   "id": "899d42ad",
   "metadata": {},
   "outputs": [
    {
     "data": {
      "text/plain": [
       "10"
      ]
     },
     "execution_count": 23,
     "metadata": {},
     "output_type": "execute_result"
    }
   ],
   "source": [
    "# 한페이지에 있는 기사 갯수\n",
    "len(listOfsoup.find_all('li','bx'))"
   ]
  },
  {
   "cell_type": "code",
   "execution_count": 24,
   "id": "899870f7",
   "metadata": {},
   "outputs": [],
   "source": [
    "# 다음페이지 버튼 클릭하기\n",
    "css_selector = '#main_pack > div.api_sc_page_wrap > div > a.btn_next'\n",
    "driver.find_element(by=By.CSS_SELECTOR, value=css_selector).click()"
   ]
  },
  {
   "cell_type": "code",
   "execution_count": 42,
   "id": "b348a8dc",
   "metadata": {},
   "outputs": [
    {
     "name": "stdout",
     "output_type": "stream",
     "text": [
      "10\n",
      "20\n",
      "30\n",
      "40\n",
      "50\n",
      "60\n",
      "70\n",
      "80\n",
      "90\n",
      "100\n",
      "110\n",
      "120\n",
      "130\n",
      "140\n",
      "150\n",
      "160\n",
      "170\n",
      "180\n",
      "190\n",
      "200\n",
      "210\n",
      "220\n",
      "230\n",
      "240\n",
      "250\n",
      "260\n",
      "270\n",
      "280\n",
      "290\n",
      "300\n",
      "310\n",
      "320\n",
      "330\n",
      "340\n",
      "350\n",
      "360\n",
      "370\n",
      "380\n",
      "390\n",
      "400\n",
      "410\n",
      "420\n",
      "430\n",
      "440\n",
      "450\n",
      "460\n",
      "470\n",
      "480\n",
      "490\n",
      "500\n",
      "510\n",
      "520\n",
      "530\n",
      "540\n",
      "550\n",
      "555\n"
     ]
    }
   ],
   "source": [
    "# 2016년 지면기사 갯수 가져오기\n",
    "all_pages = 0\n",
    " \n",
    "for i in count(start=1,step=1):  # 1페이지부터 쭉 읽어온다.\n",
    "    # 첫번째 페이지 읽어오기\n",
    "    html = driver.page_source\n",
    "    soup = BeautifulSoup(html, \"lxml\") \n",
    "    listOfsoup = soup.find('ul','list_news')  \n",
    "    # 첫번쨰 페이지 기사 갯수\n",
    "    pages = len(listOfsoup.find_all('li','bx'))   # 한페이지에 있는 기사갯수\n",
    "    all_pages += pages\n",
    "    print(all_pages)\n",
    "    \n",
    "    if pages < 10:  # 한페이지에 있는 기사 갯수가 10개 미만이면 멈춘다. \n",
    "        break\n",
    "    else:\n",
    "        #다음페이지 버튼 클릭하기\n",
    "        css_selector = '#main_pack > div.api_sc_page_wrap > div > a.btn_next'\n",
    "        driver.find_element(by=By.CSS_SELECTOR, value=css_selector).click()"
   ]
  },
  {
   "cell_type": "code",
   "execution_count": 51,
   "id": "b5186ebb",
   "metadata": {},
   "outputs": [
    {
     "data": {
      "text/plain": [
       "{'A': 55}"
      ]
     },
     "execution_count": 51,
     "metadata": {},
     "output_type": "execute_result"
    }
   ],
   "source": [
    "{'A' : 55}"
   ]
  },
  {
   "cell_type": "markdown",
   "id": "52586e54",
   "metadata": {},
   "source": [
    "### <font color = 'blue'> 함수화하기"
   ]
  },
  {
   "cell_type": "code",
   "execution_count": 3,
   "id": "55e11802",
   "metadata": {},
   "outputs": [],
   "source": [
    "# 기사 갯수 카운트해주는 함수\n",
    "\n",
    "def count_article_no(year):\n",
    "    all_pages = 0\n",
    "\n",
    "    for i in count(start=1,step=1):   \n",
    "        html = driver.page_source\n",
    "        soup = BeautifulSoup(html, \"lxml\") \n",
    "        listOfsoup = soup.find('ul','list_news')  \n",
    "       \n",
    "        pages = len(listOfsoup.find_all('li','bx'))   \n",
    "        all_pages += pages\n",
    "\n",
    "        if pages < 10:  \n",
    "            break\n",
    "        else:\n",
    "            css_selector = '#main_pack > div.api_sc_page_wrap > div > a.btn_next'\n",
    "            driver.find_element(by=By.CSS_SELECTOR, value=css_selector).click() \n",
    "            \n",
    "    return { year : all_pages }"
   ]
  },
  {
   "cell_type": "code",
   "execution_count": 4,
   "id": "5e0dbe9c",
   "metadata": {},
   "outputs": [],
   "source": [
    "# 년도별 기사 검색페이지 조작하기\n",
    "\n",
    "def article_year(year):\n",
    "    # 기간설정\n",
    "    css_selector = '#snb > div.api_group_option_sort._search_option_detail_wrap > ul > li.bx.term > div > div.option > a.txt.txt_option._calendar_select_trigger'\n",
    "    driver.find_element(by=By.CSS_SELECTOR, value=css_selector).click()\n",
    "    \n",
    "    \n",
    "    # 시작하는날 \n",
    "    # Year\n",
    "    css_selector = '#snb > div.api_group_option_sort._search_option_detail_wrap > ul > li.bx.term > div > div.api_select_option.type_calendar._calendar_select_layer > div.select_wrap._root > div:nth-child(1) > div > div > div > ul > li:nth-child(%s) > a' % (27+year-2016) \n",
    "    driver.find_element(by=By.CSS_SELECTOR, value=css_selector).click()\n",
    "\n",
    "    #Month\n",
    "    css_selector = '#snb > div.api_group_option_sort._search_option_detail_wrap > ul > li.bx.term > div > div.api_select_option.type_calendar._calendar_select_layer > div.select_wrap._root > div:nth-child(2) > div > div > div > ul > li:nth-child(1) > a'\n",
    "    driver.find_element(by=By.CSS_SELECTOR, value=css_selector).click()\n",
    "\n",
    "    #day\n",
    "    css_selector = '#snb > div.api_group_option_sort._search_option_detail_wrap > ul > li.bx.term > div > div.api_select_option.type_calendar._calendar_select_layer > div.select_wrap._root > div:nth-child(3) > div > div > div > ul > li:nth-child(1) > a'\n",
    "    driver.find_element(by=By.CSS_SELECTOR, value=css_selector).click()\n",
    "\n",
    "    \n",
    "    css_selector = '#snb > div.api_group_option_sort._search_option_detail_wrap > ul > li.bx.term > div > div.api_select_option.type_calendar._calendar_select_layer > div.set_calendar > span:nth-child(3) > a'\n",
    "    driver.find_element(by=By.CSS_SELECTOR, value=css_selector).click()\n",
    "    \n",
    "    \n",
    "    #끝나는날\n",
    "    #year\n",
    "    css_selector = '#snb > div.api_group_option_sort._search_option_detail_wrap > ul > li.bx.term > div > div.api_select_option.type_calendar._calendar_select_layer > div.select_wrap._root > div:nth-child(1) > div > div > div > ul > li:nth-child(%s) > a' % (27+year-2016)\n",
    "    driver.find_element(by=By.CSS_SELECTOR, value=css_selector).click()\n",
    "\n",
    "    #Month\n",
    "    css_selector = '#snb > div.api_group_option_sort._search_option_detail_wrap > ul > li.bx.term > div > div.api_select_option.type_calendar._calendar_select_layer > div.select_wrap._root > div:nth-child(2) > div > div > div > ul > li:nth-child(12) > a'\n",
    "    driver.find_element(by=By.CSS_SELECTOR, value=css_selector).click()\n",
    "\n",
    "    #day\n",
    "    css_selector = '#snb > div.api_group_option_sort._search_option_detail_wrap > ul > li.bx.term > div > div.api_select_option.type_calendar._calendar_select_layer > div.select_wrap._root > div:nth-child(3) > div > div > div > ul > li:nth-child(31) > a'\n",
    "    driver.find_element(by=By.CSS_SELECTOR, value=css_selector).click()\n",
    "    \n",
    "    \n",
    "    # 적용버튼 클릭하기\n",
    "    css_selector = '#snb > div.api_group_option_sort._search_option_detail_wrap > ul > li.bx.term > div > div.api_select_option.type_calendar._calendar_select_layer > div.btn_area > button'\n",
    "    driver.find_element(by=By.CSS_SELECTOR, value=css_selector).click()\n",
    "    \n",
    "    \n",
    "    #지면기사 버튼 클릭하기\n",
    "    css_selector = '#snb > div.api_group_option_sort._search_option_detail_wrap > ul > li.bx.view > div > div > a:nth-child(4)'\n",
    "    driver.find_element(by=By.CSS_SELECTOR, value=css_selector).click()"
   ]
  },
  {
   "cell_type": "code",
   "execution_count": null,
   "id": "9ddb06d9",
   "metadata": {},
   "outputs": [
    {
     "name": "stderr",
     "output_type": "stream",
     "text": [
      "C:\\Users\\student\\AppData\\Local\\Temp\\ipykernel_11116\\2815360305.py:6: DeprecationWarning: executable_path has been deprecated, please pass in a Service object\n",
      "  driver = webdriver.Chrome(executable_path=driver_path)\n"
     ]
    }
   ],
   "source": [
    "# 보이스피싱 검색하기 (합치기)\n",
    "\n",
    "\n",
    "# 웹드라이브로 크롬브라우즈 띄운다.\n",
    "driver_path = \"../driver/chromedriver.exe\"\n",
    "driver = webdriver.Chrome(executable_path=driver_path)\n",
    "\n",
    "url_page = 'https://www.naver.com/'\n",
    "driver.get(url_page)\n",
    "\n",
    "# 검색창에 검색어 입력\n",
    "search_word ='보이스피싱'\n",
    "css_selector = '#query'\n",
    "driver.find_element(by=By.CSS_SELECTOR, value=css_selector).send_keys(search_word)   \n",
    "\n",
    "# 검색버튼클릭\n",
    "css_selector = '#search_btn'\n",
    "driver.find_element(by=By.CSS_SELECTOR, value=css_selector).click()    \n",
    "\n",
    "# 뉴스클릭\n",
    "css_selector = '#lnb > div.lnb_group > div > ul > li:nth-child(2) > a'\n",
    "driver.find_element(by=By.CSS_SELECTOR, value=css_selector).click()\n",
    "\n",
    "time.sleep(1)\n",
    "# 옵션버튼 클릭\n",
    "css_selector = '#snb > div.api_group_option_filter._search_option_simple_wrap > div > div.option_filter > a > i'\n",
    "driver.find_element(by=By.CSS_SELECTOR, value=css_selector).click()\n",
    "\n",
    "#날짜 설정하기\n",
    "css_selector = '#snb > div.api_group_option_sort._search_option_detail_wrap > ul > li.bx.term > div > div.option > a.txt.txt_option._calendar_select_trigger'\n",
    "driver.find_element(by=By.CSS_SELECTOR, value=css_selector).click()\n",
    "\n",
    "# 기간설정\n",
    "css_selector = '#snb > div.api_group_option_sort._search_option_detail_wrap > ul > li.bx.term > div > div.option > a.txt.txt_option._calendar_select_trigger'\n",
    "driver.find_element(by=By.CSS_SELECTOR, value=css_selector).click()    \n",
    "\n",
    "#article_year(2022)"
   ]
  },
  {
   "cell_type": "code",
   "execution_count": 14,
   "id": "73a241c9",
   "metadata": {},
   "outputs": [
    {
     "data": {
      "text/plain": [
       "{'2021': 915}"
      ]
     },
     "execution_count": 14,
     "metadata": {},
     "output_type": "execute_result"
    }
   ],
   "source": [
    "count_article_no('2022')"
   ]
  },
  {
   "cell_type": "code",
   "execution_count": 2,
   "id": "933dedbe",
   "metadata": {},
   "outputs": [
    {
     "data": {
      "text/html": [
       "<div>\n",
       "<style scoped>\n",
       "    .dataframe tbody tr th:only-of-type {\n",
       "        vertical-align: middle;\n",
       "    }\n",
       "\n",
       "    .dataframe tbody tr th {\n",
       "        vertical-align: top;\n",
       "    }\n",
       "\n",
       "    .dataframe thead th {\n",
       "        text-align: right;\n",
       "    }\n",
       "</style>\n",
       "<table border=\"1\" class=\"dataframe\">\n",
       "  <thead>\n",
       "    <tr style=\"text-align: right;\">\n",
       "      <th></th>\n",
       "      <th>0</th>\n",
       "    </tr>\n",
       "  </thead>\n",
       "  <tbody>\n",
       "    <tr>\n",
       "      <th>2016년</th>\n",
       "      <td>555</td>\n",
       "    </tr>\n",
       "    <tr>\n",
       "      <th>2017년</th>\n",
       "      <td>570</td>\n",
       "    </tr>\n",
       "    <tr>\n",
       "      <th>2018년</th>\n",
       "      <td>560</td>\n",
       "    </tr>\n",
       "    <tr>\n",
       "      <th>2019년</th>\n",
       "      <td>568</td>\n",
       "    </tr>\n",
       "    <tr>\n",
       "      <th>2020년</th>\n",
       "      <td>665</td>\n",
       "    </tr>\n",
       "    <tr>\n",
       "      <th>2021년</th>\n",
       "      <td>915</td>\n",
       "    </tr>\n",
       "  </tbody>\n",
       "</table>\n",
       "</div>"
      ],
      "text/plain": [
       "         0\n",
       "2016년  555\n",
       "2017년  570\n",
       "2018년  560\n",
       "2019년  568\n",
       "2020년  665\n",
       "2021년  915"
      ]
     },
     "execution_count": 2,
     "metadata": {},
     "output_type": "execute_result"
    }
   ],
   "source": [
    "count_dict  = {'2016년' : 555,\n",
    "               '2017년' : 570,\n",
    "               '2018년' : 560,\n",
    "               '2019년' : 568,\n",
    "               '2020년' : 665,\n",
    "               '2021년' : 915}\n",
    "df = pd.DataFrame([count_dict]).transpose()\n",
    "df"
   ]
  },
  {
   "cell_type": "markdown",
   "id": "d7832345",
   "metadata": {},
   "source": [
    "### <font color = 'blue'> 시각화하기"
   ]
  },
  {
   "cell_type": "code",
   "execution_count": 21,
   "id": "a8d62ed4",
   "metadata": {},
   "outputs": [
    {
     "data": {
      "image/png": "[encoded data removed]",
      "text/plain": [
       "<Figure size 432x288 with 1 Axes>"
      ]
     },
     "metadata": {
      "needs_background": "light"
     },
     "output_type": "display_data"
    },
    {
     "data": {
      "text/plain": [
       "<Figure size 432x288 with 0 Axes>"
      ]
     },
     "metadata": {},
     "output_type": "display_data"
    }
   ],
   "source": [
    "import matplotlib.pyplot as plt\n",
    "x = ['2016년', '2017년', '2018년', '2019년', '2020년', '2021년']\n",
    "y = [555,570,560,568,665,915]\n",
    "plt.plot(x,y, marker='o')\n",
    "#plt.ylabel('기사 건수')\n",
    "plt.xlabel('키워드 트렌드')\n",
    "plt.fill_between(x, y, alpha=0.5)\n",
    "\n",
    "plt.grid()\n",
    "plt.show()\n",
    "\n",
    "\n",
    "\n",
    "save_img = 'trend.png'\n",
    "\n",
    "plt.savefig(save_img)"
   ]
  },
  {
   "cell_type": "code",
   "execution_count": null,
   "id": "89a511d8",
   "metadata": {},
   "outputs": [],
   "source": [
    "# 보이스피싱 검색(지면기사)\n",
    "#2016 -> 56\n",
    "#2017 -> 57\n",
    "#2018 -> 56\n",
    "#2019 => 57\n",
    "#2020 -> 67\n",
    "#2021 -> 92"
   ]
  }
 ],
 "metadata": {
  "kernelspec": {
   "display_name": "Python 3 (ipykernel)",
   "language": "python",
   "name": "python3"
  },
  "language_info": {
   "codemirror_mode": {
    "name": "ipython",
    "version": 3
   },
   "file_extension": ".py",
   "mimetype": "text/x-python",
   "name": "python",
   "nbconvert_exporter": "python",
   "pygments_lexer": "ipython3",
   "version": "3.9.12"
  }
 },
 "nbformat": 4,
 "nbformat_minor": 5
}
